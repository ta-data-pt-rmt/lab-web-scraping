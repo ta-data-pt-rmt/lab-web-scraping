{
 "cells": [
  {
   "cell_type": "markdown",
   "metadata": {},
   "source": [
    "# Web Scraping Lab\n",
    "\n",
    "You will find in this notebook some scrapy exercises to practise your scraping skills.\n",
    "\n",
    "**Tips:**\n",
    "\n",
    "- Check the response status code for each request to ensure you have obtained the intended content.\n",
    "- Print the response text in each request to understand the kind of info you are getting and its format.\n",
    "- Check for patterns in the response text to extract the data/info requested in each question.\n",
    "- Visit the urls below and take a look at their source code through Chrome DevTools. You'll need to identify the html tags, special class names, etc used in the html content you are expected to extract.\n",
    "\n",
    "**Resources**:\n",
    "- [Requests library](http://docs.python-requests.org/en/master/#the-user-guide)\n",
    "- [Beautiful Soup Doc](https://www.crummy.com/software/BeautifulSoup/bs4/doc/)\n",
    "- [Urllib](https://docs.python.org/3/library/urllib.html#module-urllib)\n",
    "- [re lib](https://docs.python.org/3/library/re.html)\n",
    "- [lxml lib](https://lxml.de/)\n",
    "- [Scrapy](https://scrapy.org/)\n",
    "- [List of HTTP status codes](https://en.wikipedia.org/wiki/List_of_HTTP_status_codes)\n",
    "- [HTML basics](http://www.simplehtmlguide.com/cheatsheet.php)\n",
    "- [CSS basics](https://www.cssbasics.com/#page_start)"
   ]
  },
  {
   "cell_type": "markdown",
   "metadata": {},
   "source": [
    "#### Below are the libraries and modules you may need. `requests`,  `BeautifulSoup` and `pandas` are already imported for you. If you prefer to use additional libraries feel free to do it."
   ]
  },
  {
   "cell_type": "code",
   "execution_count": 1,
   "metadata": {},
   "outputs": [],
   "source": [
    "'''PONER \n",
    "\n",
    "\n",
    "\n",
    "\n",
    "TIMER'''\n",
    "\n",
    "\n",
    "\n",
    "\n",
    "\n",
    "\n",
    "\n",
    "\n",
    "\n"
   ]
  },
  {
   "cell_type": "code",
   "execution_count": 1,
   "metadata": {},
   "outputs": [],
   "source": [
    "import requests\n",
    "from bs4 import BeautifulSoup\n",
    "import pandas as pd\n",
    "import time"
   ]
  },
  {
   "cell_type": "markdown",
   "metadata": {},
   "source": [
    "#### Download, parse (using BeautifulSoup), and print the content from the Trending Developers page from GitHub:"
   ]
  },
  {
   "cell_type": "code",
   "execution_count": 87,
   "metadata": {},
   "outputs": [],
   "source": [
    "# This is the url you will scrape in this exercise\n",
    "url = 'https://github.com/trending/developers'"
   ]
  },
  {
   "cell_type": "code",
   "execution_count": 88,
   "metadata": {},
   "outputs": [
    {
     "name": "stdout",
     "output_type": "stream",
     "text": [
      "25\n"
     ]
    },
    {
     "data": {
      "text/plain": [
       "23"
      ]
     },
     "execution_count": 88,
     "metadata": {},
     "output_type": "execute_result"
    }
   ],
   "source": [
    "# your code here\n",
    "response = requests.get(url)\n",
    "soup = BeautifulSoup(response.content)\n",
    "\n",
    "##Gets the name of the developers\n",
    "name = soup.find_all('h1', attrs = {'class':'h3 lh-condensed'})\n",
    "\n",
    "#Gets the name of every developer\n",
    "name_list = [i.get_text() for i in name]\n",
    "\n",
    "#Cleans the whitespaces and linebreaks \n",
    "name_list = [name.strip() for name in name_list]\n",
    "print(len(name_list))\n",
    "\n",
    "\n",
    "\n",
    "##Gets the user of the developers\n",
    "user = soup.find_all('p', attrs = {'class':'f4 text-normal mb-1'})\n",
    "\n",
    "#Gets the name of every developer\n",
    "user_list = [i.get_text() for i in user]\n",
    "\n",
    "#Cleans the whitespaces and linebreaks \n",
    "user_list = [user.strip() for user in user_list]\n",
    "\n",
    "len(user_list)\n",
    "\n"
   ]
  },
  {
   "cell_type": "code",
   "execution_count": 89,
   "metadata": {},
   "outputs": [
    {
     "data": {
      "text/plain": [
       "['Steven Tey',\n",
       " 'Bjorn Lu',\n",
       " 'Shahed Nasser',\n",
       " 'Xuehai Pan',\n",
       " 'Yifei Zhang',\n",
       " 'Damodar Lohani',\n",
       " 'Alex Rogozhnikov',\n",
       " 'boojack',\n",
       " 'Vectorized',\n",
       " 'Olivier Halligon',\n",
       " 'Alessandro Ros',\n",
       " 'Johannes Köster',\n",
       " 'Jesse Glick',\n",
       " 'dkhamsing',\n",
       " 'Brannon Dorsey',\n",
       " 'Maksim Ivanov',\n",
       " 'Juliette',\n",
       " 'Jackson Harper',\n",
       " 'Sébastien Chopin',\n",
       " 'Pat Hickey',\n",
       " 'Dustin L. Howett',\n",
       " 'Klaus Post',\n",
       " 'Matt Brophy',\n",
       " 'Vadim Demedes',\n",
       " 'William Candillon']"
      ]
     },
     "execution_count": 89,
     "metadata": {},
     "output_type": "execute_result"
    }
   ],
   "source": [
    "response = requests.get(url)\n",
    "soup = BeautifulSoup(response.content)\n",
    "\n",
    "##Gets the name of the developers\n",
    "name = soup.find_all('h1', attrs = {'class':'h3 lh-condensed'})\n",
    "\n",
    "#Gets the name of every developer\n",
    "name_list = [i.get_text() for i in name]\n",
    "\n",
    "#Cleans the whitespaces and linebreaks \n",
    "name_list = [name.strip() for name in name_list]\n",
    "name_list"
   ]
  },
  {
   "cell_type": "code",
   "execution_count": null,
   "metadata": {},
   "outputs": [],
   "source": [
    "\n",
    "\n",
    "data = []\n",
    "\n",
    "\n",
    "for link in url_list[:5]:\n",
    "  print(link)\n",
    "  time.sleep(5)\n",
    "  try:\n",
    "    response = requests.get(link,headers=headers)\n",
    "    soup = BeautifulSoup(response.content)\n",
    "\n",
    "    # get the price\n",
    "    result = soup.find_all('p', attrs={'data-component' : 'PriceLarge'})\n",
    "    price = result[0].text\n",
    "\n",
    "    # get the name\n",
    "    result = soup.find_all('p', attrs={'class' : 'ltr-13ze6d5-Body efhm1m90'})\n",
    "    name = result[0].text\n",
    "    \n",
    "    data.append({'name' : name, 'price' : price, 'url' : item_url})\n",
    "  except :\n",
    "    pass\n"
   ]
  },
  {
   "cell_type": "markdown",
   "metadata": {},
   "source": [
    "#### 1. Display the names of the trending developers retrieved in the previous step.\n",
    "\n",
    "Your output should be a Python list of developer names. Each name should not contain any html tag.\n",
    "\n",
    "**Instructions:**\n",
    "\n",
    "1. Find out the html tag and class names used for the developer names. You can achieve this using Chrome DevTools or clicking in 'Inspect' on any browser. Here is an example:\n",
    "\n",
    "![title](example_1.png)\n",
    "\n",
    "2. Use BeautifulSoup `find_all()` to extract all the html elements that contain the developer names. Hint: pass in the `attrs` parameter to specify the class.\n",
    "\n",
    "3. Loop through the elements found and get the text for each of them.\n",
    "\n",
    "4. While you are at it, use string manipulation techniques to replace whitespaces and linebreaks (i.e. `\\n`) in the *text* of each html element. Use a list to store the clean names. Hint: you may also use `.get_text()` instead of `.text` and pass in the desired parameters to do some string manipulation (check the documentation).\n",
    "\n",
    "5. Print the list of names.\n",
    "\n",
    "Your output should look like below:\n",
    "\n",
    "```\n",
    "['trimstray (@trimstray)',\n",
    " 'joewalnes (JoeWalnes)',\n",
    " 'charlax (Charles-AxelDein)',\n",
    " 'ForrestKnight (ForrestKnight)',\n",
    " 'revery-ui (revery-ui)',\n",
    " 'alibaba (Alibaba)',\n",
    " 'Microsoft (Microsoft)',\n",
    " 'github (GitHub)',\n",
    " 'facebook (Facebook)',\n",
    " 'boazsegev (Bo)',\n",
    " 'google (Google)',\n",
    " 'cloudfetch',\n",
    " 'sindresorhus (SindreSorhus)',\n",
    " 'tensorflow',\n",
    " 'apache (TheApacheSoftwareFoundation)',\n",
    " 'DevonCrawford (DevonCrawford)',\n",
    " 'ARMmbed (ArmMbed)',\n",
    " 'vuejs (vuejs)',\n",
    " 'fastai (fast.ai)',\n",
    " 'QiShaoXuan (Qi)',\n",
    " 'joelparkerhenderson (JoelParkerHenderson)',\n",
    " 'torvalds (LinusTorvalds)',\n",
    " 'CyC2018',\n",
    " 'komeiji-satori (神楽坂覚々)',\n",
    " 'script-8']\n",
    " ```"
   ]
  },
  {
   "cell_type": "code",
   "execution_count": null,
   "metadata": {},
   "outputs": [],
   "source": [
    "# your code here"
   ]
  },
  {
   "cell_type": "markdown",
   "metadata": {},
   "source": [
    "#### 1.1. Display the trending Python repositories in GitHub.\n",
    "\n",
    "The steps to solve this problem is similar to the previous one except that you need to find out the repository names instead of developer names."
   ]
  },
  {
   "cell_type": "code",
   "execution_count": 102,
   "metadata": {},
   "outputs": [],
   "source": [
    "# This is the url you will scrape in this exercise\n",
    "url = 'https://github.com/trending/python?since=daily'"
   ]
  },
  {
   "cell_type": "code",
   "execution_count": 107,
   "metadata": {},
   "outputs": [
    {
     "data": {
      "text/plain": [
       "['\\n\\n\\n\\n\\n\\n        StanGirard /\\n\\n      quivr\\n ',\n",
       " '\\n\\n\\n\\n\\n\\n        smol-ai /\\n\\n      developer\\n ']"
      ]
     },
     "execution_count": 107,
     "metadata": {},
     "output_type": "execute_result"
    }
   ],
   "source": [
    "# your code here\n",
    "import re\n",
    "\n",
    "response = requests.get(url)\n",
    "soup = BeautifulSoup(response.content)\n",
    "\n",
    "repositories = soup.find_all('h2', attrs = {'class':'h3 lh-condensed'})\n",
    "\n",
    "repositories_list = []\n",
    "for i in repositories:\n",
    "    time.sleep(2)\n",
    "    repositories_list.append (i.get_text())\n",
    "    \n",
    "repositories_list\n",
    "\n",
    "repositories_list = [re.sub(r'\\s+', ' ', item.strip()) for item in repositories_list]\n",
    "repositories_list"
   ]
  },
  {
   "cell_type": "markdown",
   "metadata": {},
   "source": [
    "#### 2. Display all the image links from Walt Disney wikipedia page.\n",
    "Hint: use `.get()` to access information inside tags. Check out the documentation."
   ]
  },
  {
   "cell_type": "code",
   "execution_count": 184,
   "metadata": {},
   "outputs": [],
   "source": [
    "# This is the url you will scrape in this exercise\n",
    "url = 'https://en.wikipedia.org/wiki/Walt_Disney'"
   ]
  },
  {
   "cell_type": "code",
   "execution_count": 185,
   "metadata": {},
   "outputs": [
    {
     "name": "stdout",
     "output_type": "stream",
     "text": [
      "https://en.wikipedia.org/wiki/File:Walt_Disney_1946.JPG\n",
      "https://en.wikipedia.org/wiki/File:Walt_Disney_1942_signature.svg\n",
      "https://en.wikipedia.org/wiki/File:Walt_Disney_Birthplace_Exterior_Hermosa_Chicago_Illinois.jpg\n",
      "https://en.wikipedia.org/wiki/File:Walt_Disney_envelope_ca._1921.jpg\n",
      "https://en.wikipedia.org/wiki/File:Trolley_Troubles_poster.jpg\n"
     ]
    }
   ],
   "source": [
    "# your code here\n",
    "\n",
    "response = requests.get(url)\n",
    "soup = BeautifulSoup(response.content)\n",
    "\n",
    "all_images = soup.find_all('a', attrs={'class': 'image'})\n",
    "\n",
    "list_images = []\n",
    "\n",
    "for image in all_images[:5]:\n",
    "    href_value = image.get('href')\n",
    "    url = 'https://en.wikipedia.org' + href_value\n",
    "    list_images.append(url)\n",
    "    print(url)\n",
    "    time.sleep(2)\n"
   ]
  },
  {
   "cell_type": "markdown",
   "metadata": {},
   "source": [
    "#### 2.1. List all language names and number of related articles in the order they appear in wikipedia.org."
   ]
  },
  {
   "cell_type": "code",
   "execution_count": 187,
   "metadata": {},
   "outputs": [],
   "source": [
    "# This is the url you will scrape in this exercise\n",
    "url = 'https://www.wikipedia.org/'"
   ]
  },
  {
   "cell_type": "code",
   "execution_count": 189,
   "metadata": {
    "scrolled": true
   },
   "outputs": [
    {
     "name": "stdout",
     "output_type": "stream",
     "text": [
      "<div class=\"central-featured-lang lang1\" dir=\"ltr\" lang=\"en\">\n",
      "<a class=\"link-box\" data-slogan=\"The Free Encyclopedia\" href=\"//en.wikipedia.org/\" id=\"js-link-box-en\" title=\"English — Wikipedia — The Free Encyclopedia\">\n",
      "<strong>English</strong>\n",
      "<small><bdi dir=\"ltr\">6 644 000+</bdi> <span>articles</span></small>\n",
      "</a>\n",
      "</div>\n",
      "\n",
      "English\n",
      "6 644 000+ articles\n",
      "\n",
      "<div class=\"central-featured-lang lang2\" dir=\"ltr\" lang=\"ru\">\n",
      "<a class=\"link-box\" data-slogan=\"Свободная энциклопедия\" href=\"//ru.wikipedia.org/\" id=\"js-link-box-ru\" title=\"Russkiy — Википедия — Свободная энциклопедия\">\n",
      "<strong>Русский</strong>\n",
      "<small><bdi dir=\"ltr\">1 909 000+</bdi> <span>статей</span></small>\n",
      "</a>\n",
      "</div>\n",
      "\n",
      "Русский\n",
      "1 909 000+ статей\n",
      "\n",
      "<div class=\"central-featured-lang lang3\" dir=\"ltr\" lang=\"ja\">\n",
      "<a class=\"link-box\" data-slogan=\"フリー百科事典\" href=\"//ja.wikipedia.org/\" id=\"js-link-box-ja\" title=\"Nihongo — ウィキペディア — フリー百科事典\">\n",
      "<strong>日本語</strong>\n",
      "<small><bdi dir=\"ltr\">1 370 000+</bdi> <span>記事</span></small>\n",
      "</a>\n",
      "</div>\n",
      "\n",
      "日本語\n",
      "1 370 000+ 記事\n",
      "\n",
      "<div class=\"central-featured-lang lang4\" dir=\"ltr\" lang=\"de\">\n",
      "<a class=\"link-box\" data-slogan=\"Die freie Enzyklopädie\" href=\"//de.wikipedia.org/\" id=\"js-link-box-de\" title=\"Deutsch — Wikipedia — Die freie Enzyklopädie\">\n",
      "<strong>Deutsch</strong>\n",
      "<small><bdi dir=\"ltr\">2 792 000+</bdi> <span>Artikel</span></small>\n",
      "</a>\n",
      "</div>\n",
      "\n",
      "Deutsch\n",
      "2 792 000+ Artikel\n",
      "\n",
      "<div class=\"central-featured-lang lang5\" dir=\"ltr\" lang=\"es\">\n",
      "<a class=\"link-box\" data-slogan=\"La enciclopedia libre\" href=\"//es.wikipedia.org/\" id=\"js-link-box-es\" title=\"Español — Wikipedia — La enciclopedia libre\">\n",
      "<strong>Español</strong>\n",
      "<small><bdi dir=\"ltr\">1 854 000+</bdi> <span>artículos</span></small>\n",
      "</a>\n",
      "</div>\n",
      "\n",
      "Español\n",
      "1 854 000+ artículos\n",
      "\n",
      "<div class=\"central-featured-lang lang6\" dir=\"ltr\" lang=\"fr\">\n",
      "<a class=\"link-box\" data-slogan=\"L’encyclopédie libre\" href=\"//fr.wikipedia.org/\" id=\"js-link-box-fr\" title=\"français — Wikipédia — L’encyclopédie libre\">\n",
      "<strong>Français</strong>\n",
      "<small><bdi dir=\"ltr\">2 514 000+</bdi> <span>articles</span></small>\n",
      "</a>\n",
      "</div>\n",
      "\n",
      "Français\n",
      "2 514 000+ articles\n",
      "\n",
      "<div class=\"central-featured-lang lang7\" dir=\"ltr\" lang=\"it\">\n",
      "<a class=\"link-box\" data-slogan=\"L'enciclopedia libera\" href=\"//it.wikipedia.org/\" id=\"js-link-box-it\" title=\"Italiano — Wikipedia — L'enciclopedia libera\">\n",
      "<strong>Italiano</strong>\n",
      "<small><bdi dir=\"ltr\">1 806 000+</bdi> <span>voci</span></small>\n",
      "</a>\n",
      "</div>\n",
      "\n",
      "Italiano\n",
      "1 806 000+ voci\n",
      "\n",
      "<div class=\"central-featured-lang lang8\" dir=\"ltr\" lang=\"zh\">\n",
      "<a class=\"link-box jscnconv\" data-slogan=\"自由的百科全书 / 自由的百科全書\" data-title-hans=\"Zhōngwén — 维基百科 — 自由的百科全书\" data-title-hant=\"Zhōngwén — 維基百科 — 自由的百科全書\" href=\"//zh.wikipedia.org/\" id=\"js-link-box-zh\" title=\"Zhōngwén — 维基百科 / 維基百科 — 自由的百科全书 / 自由的百科全書\">\n",
      "<strong>中文</strong>\n",
      "<small><bdi dir=\"ltr\">1 347 000+</bdi> <span class=\"jscnconv\" data-hans=\"条目\" data-hant=\"條目\">条目 / 條目</span></small>\n",
      "</a>\n",
      "</div>\n",
      "\n",
      "中文\n",
      "1 347 000+ 条目 / 條目\n",
      "\n",
      "<div class=\"central-featured-lang lang9\" dir=\"rtl\" lang=\"fa\">\n",
      "<a class=\"link-box\" data-slogan=\"دانشنامهٔ آزاد\" href=\"//fa.wikipedia.org/\" id=\"js-link-box-fa\" title=\"Fārsi — ویکی‌پدیا — دانشنامهٔ آزاد\">\n",
      "<strong><bdi dir=\"rtl\">فارسی</bdi></strong>\n",
      "<small><bdi dir=\"ltr\">959 000+</bdi> <span>مقاله</span></small>\n",
      "</a>\n",
      "</div>\n",
      "\n",
      "فارسی\n",
      "959 000+ مقاله\n",
      "\n",
      "<div class=\"central-featured-lang lang10\" dir=\"ltr\" lang=\"pt\">\n",
      "<a class=\"link-box\" data-slogan=\"A enciclopédia livre\" href=\"//pt.wikipedia.org/\" id=\"js-link-box-pt\" title=\"Português — Wikipédia — A enciclopédia livre\">\n",
      "<strong>Português</strong>\n",
      "<small><bdi dir=\"ltr\">1 101 000+</bdi> <span>artigos</span></small>\n",
      "</a>\n",
      "</div>\n",
      "\n",
      "Português\n",
      "1 101 000+ artigos\n",
      "\n"
     ]
    }
   ],
   "source": [
    "# your code here\n",
    "\n",
    "response = requests.get(url)\n",
    "soup = BeautifulSoup(response.content)\n",
    "\n",
    "'''\n",
    "language = soup.find_all('a', attrs={'class': 'link-box'})\n",
    "for i in language:\n",
    "    time.sleep(2)\n",
    "    print(i.text)\n",
    "    \n",
    "\n",
    "'''\n",
    "#Testing another way to do it\n",
    "\n",
    "for i in range(1,11):\n",
    "    time.sleep(1)\n",
    "    name_lang = 'central-featured-lang lang'+str(i)\n",
    "    lang = soup.find_all('div', attrs={'class': name_lang})\n",
    "    print(lang[0])\n",
    "    for a in lang[0].find_all('a'):\n",
    "        print(a.text)\n"
   ]
  },
  {
   "cell_type": "markdown",
   "metadata": {},
   "source": [
    "#### 2.2. Display the top 10 languages by number of native speakers stored in a pandas dataframe.\n",
    "Hint: After finding the correct table you want to analyse, you can use a nested **for** loop to find the elements row by row (check out the 'td' and 'tr' tags). <br>An easier way to do it is using pd.read_html(), check out documentation [here](https://pandas.pydata.org/pandas-docs/version/0.23.4/generated/pandas.read_html.html)."
   ]
  },
  {
   "cell_type": "code",
   "execution_count": null,
   "metadata": {},
   "outputs": [],
   "source": [
    "# This is the url you will scrape in this exercise\n",
    "url = 'https://en.wikipedia.org/wiki/List_of_languages_by_number_of_native_speakers'"
   ]
  },
  {
   "cell_type": "code",
   "execution_count": null,
   "metadata": {},
   "outputs": [],
   "source": [
    "# your code here"
   ]
  },
  {
   "cell_type": "markdown",
   "metadata": {},
   "source": [
    "#### 3. Display IMDB's top 250 data (movie name, initial release, director name and stars) as a pandas dataframe.\n",
    "Hint: If you hover over the title of the movie, you should see the director's name. Can you find where it's stored in the html?"
   ]
  },
  {
   "cell_type": "code",
   "execution_count": 2,
   "metadata": {},
   "outputs": [],
   "source": [
    "# This is the url you will scrape in this exercise \n",
    "url = 'https://www.imdb.com/chart/top'"
   ]
  },
  {
   "cell_type": "code",
   "execution_count": null,
   "metadata": {},
   "outputs": [],
   "source": [
    "# your code here\n",
    "headers= {'Accept-Encoding':'gzip, deflate',\n",
    "          'Accept-Language':'en-US,en;q=0.9',\n",
    "          'User-Agent':'Mozilla/5.0 (Windows NT 10.0; Win64; x64) AppleWebKit/537.36 (KHTML, like Gecko) Chrome/100.0.4896.88 Safari/537.36'}\n",
    "\n",
    "response = requests.get(url)\n",
    "soup = BeautifulSoup(response.content)\n",
    "title = soup.find_all('td', attrs ={'class':'titleColumn'})\n",
    "\n",
    "title_list = [i.get_text() for i in title]\n",
    "title_list\n",
    "\n",
    "\n",
    "new_title_list = []\n",
    "\n",
    "for item in title_list:\n",
    "    dot_index = item.find('.')  # Find the index of the first occurrence of '.'\n",
    "    if dot_index != -1:\n",
    "        new_title_list.append(item[dot_index + 1:].strip())  # Extract the portion after '.' and remove leading/trailing whitespace\n",
    "\n",
    "new_title_list = [item.replace('\\n', '') for item in new_title_list]\n"
   ]
  },
  {
   "cell_type": "code",
   "execution_count": 32,
   "metadata": {
    "scrolled": true
   },
   "outputs": [
    {
     "data": {
      "text/plain": [
       "['Cadena perpetua',\n",
       " 'El padrino',\n",
       " 'El caballero oscuro',\n",
       " 'El padrino (parte II)',\n",
       " '12 hombres sin piedad',\n",
       " 'La lista de Schindler',\n",
       " 'El señor de los anillos: El retorno del rey',\n",
       " 'Pulp Fiction',\n",
       " 'El señor de los anillos: La comunidad del anillo',\n",
       " 'El bueno, el feo y el malo',\n",
       " 'Forrest Gump',\n",
       " 'El club de la lucha',\n",
       " 'El señor de los anillos: Las dos torres',\n",
       " 'Origen',\n",
       " 'El imperio contraataca',\n",
       " 'Matrix',\n",
       " 'Uno de los nuestros',\n",
       " 'Alguien voló sobre el nido del cuco',\n",
       " 'Seven',\n",
       " '¡Qué bello es vivir!',\n",
       " 'Los siete samuráis',\n",
       " 'El silencio de los corderos',\n",
       " 'Salvar al soldado Ryan',\n",
       " 'Ciudad de Dios',\n",
       " 'Interstellar',\n",
       " 'La vida es bella',\n",
       " 'La milla verde',\n",
       " 'La guerra de las galaxias',\n",
       " 'Terminator 2: El juicio final',\n",
       " 'Regreso al futuro',\n",
       " 'El viaje de Chihiro',\n",
       " 'El pianista',\n",
       " 'Psicosis',\n",
       " 'Parásitos',\n",
       " 'El profesional (Léon)',\n",
       " 'Gladiator (El gladiador)',\n",
       " 'El rey león',\n",
       " 'American History X',\n",
       " 'Infiltrados',\n",
       " 'Whiplash',\n",
       " 'El truco final (El prestigio)',\n",
       " 'Sospechosos habituales',\n",
       " 'Casablanca',\n",
       " 'La tumba de las luciérnagas',\n",
       " 'Harakiri',\n",
       " 'Intocable',\n",
       " 'Tiempos modernos',\n",
       " 'Hasta que llegó su hora',\n",
       " 'Cinema Paradiso',\n",
       " 'La ventana indiscreta',\n",
       " 'Alien, el octavo pasajero',\n",
       " 'Luces de la ciudad',\n",
       " 'Apocalypse Now',\n",
       " 'Memento',\n",
       " 'Django desencadenado',\n",
       " 'En busca del arca perdida',\n",
       " 'WALL·E',\n",
       " 'La vida de los otros',\n",
       " 'El crepúsculo de los dioses',\n",
       " 'Senderos de gloria',\n",
       " 'El resplandor',\n",
       " 'El gran dictador',\n",
       " 'Vengadores: Infinity War',\n",
       " 'Testigo de cargo',\n",
       " 'Aliens. El regreso',\n",
       " 'Spider-Man: Un nuevo universo',\n",
       " 'American Beauty',\n",
       " '¿Teléfono rojo? Volamos hacia Moscú',\n",
       " 'El caballero oscuro: La leyenda renace',\n",
       " 'Malditos bastardos',\n",
       " 'Old Boy',\n",
       " 'Amadeus',\n",
       " 'Coco',\n",
       " 'Toy Story',\n",
       " 'Braveheart',\n",
       " 'Joker',\n",
       " 'El submarino (Das Boot)',\n",
       " 'Vengadores: Endgame',\n",
       " 'La princesa Mononoke',\n",
       " 'El indomable Will Hunting',\n",
       " 'Érase una vez en América',\n",
       " 'Your Name.',\n",
       " 'Cantando bajo la lluvia',\n",
       " '3 Idiots',\n",
       " 'Réquiem por un sueño',\n",
       " 'El infierno del odio',\n",
       " 'Toy Story 3',\n",
       " 'Cafarnaúm',\n",
       " 'El retorno del jedi',\n",
       " '2001. Una odisea del espacio',\n",
       " '¡Olvídate de mí!',\n",
       " 'Masacre (Ven y mira)',\n",
       " 'La caza',\n",
       " 'Reservoir Dogs',\n",
       " 'Lawrence de Arabia',\n",
       " 'Ciudadano Kane',\n",
       " 'M, el vampiro de Düsseldorf',\n",
       " 'Ikiru (Vivir)',\n",
       " 'Con la muerte en los talones',\n",
       " 'El apartamento',\n",
       " 'Vértigo (De entre los muertos)',\n",
       " 'Amelie',\n",
       " 'Perdición',\n",
       " 'La naranja mecánica',\n",
       " 'La chaqueta metálica',\n",
       " 'El precio del poder',\n",
       " 'Incendios',\n",
       " 'Heat',\n",
       " 'Hamilton',\n",
       " 'Up',\n",
       " 'Matar a un ruiseñor',\n",
       " 'El golpe',\n",
       " 'Nader y Simin, una separación',\n",
       " 'Metrópolis',\n",
       " 'Jungla de cristal',\n",
       " 'L.A. Confidential',\n",
       " 'Indiana Jones y la última cruzada',\n",
       " 'Taxi Driver',\n",
       " 'Snatch. Cerdos y diamantes',\n",
       " 'Ladrón de bicicletas',\n",
       " 'Taare Zameen Par',\n",
       " '1917',\n",
       " 'Top Gun: Maverick',\n",
       " 'El hundimiento',\n",
       " 'Dangal',\n",
       " 'La muerte tenía un precio',\n",
       " 'Batman Begins',\n",
       " 'El chico',\n",
       " 'Con faldas y a lo loco',\n",
       " 'El padre',\n",
       " 'El lobo de Wall Street',\n",
       " 'Eva al desnudo',\n",
       " 'Green Book',\n",
       " 'Vencedores o vencidos',\n",
       " 'Ran',\n",
       " 'Casino',\n",
       " 'El show de Truman',\n",
       " 'Pozos de ambición',\n",
       " 'El laberinto del fauno',\n",
       " 'Sin perdón',\n",
       " 'Shutter Island',\n",
       " 'El sexto sentido',\n",
       " 'Jurassic Park (Parque Jurásico)',\n",
       " 'Una mente maravillosa',\n",
       " 'Yojimbo',\n",
       " 'El tesoro de Sierra Madre',\n",
       " 'Los caballeros de la mesa cuadrada y sus locos seguidores',\n",
       " 'No es país para viejos',\n",
       " 'Guardianes de la Galaxia Vol. 3',\n",
       " 'Kill Bill: Volumen 1',\n",
       " 'La gran evasión',\n",
       " 'Rashomon',\n",
       " 'La cosa (El enigma de otro mundo)',\n",
       " 'Buscando a Nemo',\n",
       " 'Spider-Man: No Way Home',\n",
       " 'El hombre elefante',\n",
       " 'Chinatown',\n",
       " 'V de vendetta',\n",
       " 'Toro salvaje',\n",
       " 'Lo que el viento se llevó',\n",
       " 'Crimen perfecto',\n",
       " 'Lock & Stock',\n",
       " 'Del revés (Inside Out)',\n",
       " 'El castillo ambulante',\n",
       " 'El secreto de sus ojos',\n",
       " 'Tres anuncios en las afueras',\n",
       " 'Trainspotting',\n",
       " 'Prisioneros',\n",
       " 'El puente sobre el río Kwai',\n",
       " 'Fargo',\n",
       " 'Warrior',\n",
       " 'Gran Torino',\n",
       " 'Atrápame si puedes',\n",
       " 'Mi vecino Totoro',\n",
       " 'Million Dollar Baby',\n",
       " 'Children of Heaven',\n",
       " 'Blade Runner',\n",
       " 'La quimera del oro',\n",
       " 'Klaus',\n",
       " 'Harry Potter y las Reliquias de la Muerte: Parte 2',\n",
       " 'Antes de amanecer',\n",
       " '12 años de esclavitud',\n",
       " 'Ben-Hur',\n",
       " 'El gran hotel Budapest',\n",
       " 'La ley del silencio',\n",
       " 'Perdida',\n",
       " 'El maquinista de La General',\n",
       " 'Barry Lyndon',\n",
       " 'Fresas salvajes',\n",
       " 'En el nombre del padre',\n",
       " 'El cazador',\n",
       " 'Hasta el último hombre',\n",
       " 'El tercer hombre',\n",
       " 'Memories of Murder (Crónica de un asesino en serie)',\n",
       " 'El salario del miedo',\n",
       " 'El moderno Sherlock Holmes',\n",
       " 'Relatos salvajes',\n",
       " 'Caballero sin espada',\n",
       " 'Mad Max: Furia en la carretera',\n",
       " 'Mary and Max',\n",
       " 'El club de los poetas muertos',\n",
       " 'Cómo entrenar a tu dragón',\n",
       " 'Monstruos, S.A.',\n",
       " 'El séptimo sello',\n",
       " 'Tiburón',\n",
       " 'La habitación',\n",
       " 'El gran Lebowski',\n",
       " 'Cuentos de Tokio',\n",
       " \"Le Mans '66\",\n",
       " 'La pasión de Juana de Arco',\n",
       " 'Hotel Rwanda',\n",
       " 'Rocky',\n",
       " 'Ratatouille',\n",
       " 'Platoon',\n",
       " 'Logan',\n",
       " 'Spotlight',\n",
       " 'Terminator',\n",
       " 'Cuenta conmigo',\n",
       " 'Rush',\n",
       " 'Network, un mundo implacable',\n",
       " 'Antes del atardecer',\n",
       " 'El mago de Oz',\n",
       " 'Hacia rutas salvajes',\n",
       " 'Los mejores años de nuestra vida',\n",
       " 'El exorcista',\n",
       " 'Atrapado en el tiempo',\n",
       " 'Los Increíbles',\n",
       " 'El odio',\n",
       " 'Ser o no ser',\n",
       " 'Piratas del Caribe: La maldición de la Perla Negra',\n",
       " 'Las uvas de la ira',\n",
       " 'Siempre a tu lado (Hachiko)',\n",
       " 'La batalla de Argel',\n",
       " 'Pather Panchali (La canción del camino)',\n",
       " 'Jai Bhim',\n",
       " 'Amores perros',\n",
       " 'Mi padre y mi hijo',\n",
       " 'John Wick 4',\n",
       " 'La doncella',\n",
       " 'Rebeca',\n",
       " 'La leyenda del indomable',\n",
       " 'Sonrisas y lágrimas',\n",
       " 'Los cuatrocientos golpes',\n",
       " 'Sucedió una noche',\n",
       " 'Persona',\n",
       " 'La vida de Brian',\n",
       " 'El gigante de hierro',\n",
       " 'Criadas y señoras',\n",
       " 'Aladdín',\n",
       " 'Bailando con lobos']"
      ]
     },
     "execution_count": 32,
     "metadata": {},
     "output_type": "execute_result"
    }
   ],
   "source": [
    "new_title_list\n",
    "#new_title_list[1][-6:]\n",
    "\n",
    "year_movie = []\n",
    "title_movie = []\n",
    "for i in new_title_list:\n",
    "    year_movie.append(i[-6:])\n",
    "    title_movie.append(i[:-6])\n",
    "\n",
    "year_movie\n",
    "title_movie"
   ]
  },
  {
   "cell_type": "code",
   "execution_count": 56,
   "metadata": {},
   "outputs": [
    {
     "name": "stdout",
     "output_type": "stream",
     "text": [
      "0\n",
      "1\n",
      "2\n",
      "3\n",
      "4\n",
      "['Frank Darabont', 'Francis Ford Coppola', 'Christopher Nolan', 'Francis Ford Coppola', 'Sidney Lumet']\n"
     ]
    }
   ],
   "source": [
    "# your code here\n",
    "\n",
    "headers = {\n",
    "    'Accept-Encoding': 'gzip, deflate',\n",
    "    'Accept-Language': 'en-US,en;q=0.9',\n",
    "    'User-Agent': 'Mozilla/5.0 (Windows NT 10.0; Win64; x64) AppleWebKit/537.36 (KHTML, like Gecko) Chrome/100.0.4896.88 Safari/537.36'\n",
    "}\n",
    "\n",
    "response = requests.get(url, headers=headers)\n",
    "soup = BeautifulSoup(response.content)\n",
    "\n",
    "info = soup.find_all('td', attrs={'class': 'titleColumn'})\n",
    "\n",
    "director_info = []\n",
    "\n",
    "for i in range(5):\n",
    "    try:\n",
    "        print(i)\n",
    "        time.sleep(1.5)\n",
    "        search_info = info[i].find('a').get('title')\n",
    "        search_info = search_info.split('(dir.)')[0].strip()\n",
    "        director_info.append(search_info)\n",
    "        \n",
    "    except:\n",
    "        pass\n",
    "\n",
    "print(director_info)\n"
   ]
  },
  {
   "cell_type": "code",
   "execution_count": 57,
   "metadata": {},
   "outputs": [
    {
     "name": "stdout",
     "output_type": "stream",
     "text": [
      "0\n",
      "1\n",
      "2\n",
      "3\n",
      "4\n",
      "['9.2', '9.2', '9.0', '9.0', '9.0']\n"
     ]
    }
   ],
   "source": [
    "headers = {\n",
    "    'Accept-Encoding': 'gzip, deflate',\n",
    "    'Accept-Language': 'en-US,en;q=0.9',\n",
    "    'User-Agent': 'Mozilla/5.0 (Windows NT 10.0; Win64; x64) AppleWebKit/537.36 (KHTML, like Gecko) Chrome/100.0.4896.88 Safari/537.36'\n",
    "}\n",
    "\n",
    "response = requests.get(url, headers=headers)\n",
    "soup = BeautifulSoup(response.content)\n",
    "\n",
    "info = soup.find_all('td', attrs={'class': 'ratingColumn imdbRating'})\n",
    "\n",
    "stars_info = []\n",
    "for i in range(5):\n",
    "    try:\n",
    "        print(i)\n",
    "        time.sleep(1.5)\n",
    "        stars_info.append(info[i].get_text(strip=True))\n",
    "        \n",
    "    except:\n",
    "        pass\n",
    "\n",
    "print(stars_info)"
   ]
  },
  {
   "cell_type": "code",
   "execution_count": 60,
   "metadata": {},
   "outputs": [
    {
     "data": {
      "text/html": [
       "<div>\n",
       "<style scoped>\n",
       "    .dataframe tbody tr th:only-of-type {\n",
       "        vertical-align: middle;\n",
       "    }\n",
       "\n",
       "    .dataframe tbody tr th {\n",
       "        vertical-align: top;\n",
       "    }\n",
       "\n",
       "    .dataframe thead th {\n",
       "        text-align: right;\n",
       "    }\n",
       "</style>\n",
       "<table border=\"1\" class=\"dataframe\">\n",
       "  <thead>\n",
       "    <tr style=\"text-align: right;\">\n",
       "      <th></th>\n",
       "      <th>Title</th>\n",
       "      <th>Year</th>\n",
       "      <th>Director</th>\n",
       "      <th>Stars</th>\n",
       "    </tr>\n",
       "  </thead>\n",
       "  <tbody>\n",
       "    <tr>\n",
       "      <th>0</th>\n",
       "      <td>Cadena perpetua</td>\n",
       "      <td>(1994)</td>\n",
       "      <td>Frank Darabont</td>\n",
       "      <td>9.2</td>\n",
       "    </tr>\n",
       "    <tr>\n",
       "      <th>1</th>\n",
       "      <td>El padrino</td>\n",
       "      <td>(1972)</td>\n",
       "      <td>Francis Ford Coppola</td>\n",
       "      <td>9.2</td>\n",
       "    </tr>\n",
       "    <tr>\n",
       "      <th>2</th>\n",
       "      <td>El caballero oscuro</td>\n",
       "      <td>(2008)</td>\n",
       "      <td>Christopher Nolan</td>\n",
       "      <td>9.0</td>\n",
       "    </tr>\n",
       "    <tr>\n",
       "      <th>3</th>\n",
       "      <td>El padrino (parte II)</td>\n",
       "      <td>(1974)</td>\n",
       "      <td>Francis Ford Coppola</td>\n",
       "      <td>9.0</td>\n",
       "    </tr>\n",
       "    <tr>\n",
       "      <th>4</th>\n",
       "      <td>12 hombres sin piedad</td>\n",
       "      <td>(1957)</td>\n",
       "      <td>Sidney Lumet</td>\n",
       "      <td>9.0</td>\n",
       "    </tr>\n",
       "  </tbody>\n",
       "</table>\n",
       "</div>"
      ],
      "text/plain": [
       "                   Title    Year              Director Stars\n",
       "0        Cadena perpetua  (1994)        Frank Darabont   9.2\n",
       "1             El padrino  (1972)  Francis Ford Coppola   9.2\n",
       "2    El caballero oscuro  (2008)     Christopher Nolan   9.0\n",
       "3  El padrino (parte II)  (1974)  Francis Ford Coppola   9.0\n",
       "4  12 hombres sin piedad  (1957)          Sidney Lumet   9.0"
      ]
     },
     "execution_count": 60,
     "metadata": {},
     "output_type": "execute_result"
    }
   ],
   "source": [
    "movies = pd.DataFrame({'Title':title_movie[:5],'Year':year_movie[:5], 'Director':director_info,'Stars':stars_info})\n",
    "movies"
   ]
  },
  {
   "cell_type": "markdown",
   "metadata": {},
   "source": [
    "#### 3.1. Display the movie name, year and a brief summary of the top 10 random movies (IMDB) as a pandas dataframe."
   ]
  },
  {
   "cell_type": "code",
   "execution_count": null,
   "metadata": {},
   "outputs": [],
   "source": [
    "#This is the url you will scrape in this exercise\n",
    "url = 'https://www.imdb.com/list/ls009796553/'"
   ]
  },
  {
   "cell_type": "code",
   "execution_count": null,
   "metadata": {},
   "outputs": [],
   "source": [
    "# your code here"
   ]
  },
  {
   "cell_type": "markdown",
   "metadata": {},
   "source": [
    "## Bonus"
   ]
  },
  {
   "cell_type": "markdown",
   "metadata": {},
   "source": [
    "#### Find the live weather report (temperature, wind speed, description and weather) of a given city."
   ]
  },
  {
   "cell_type": "code",
   "execution_count": null,
   "metadata": {},
   "outputs": [],
   "source": [
    "#https://openweathermap.org/current\n",
    "city = input('Enter the city: ')\n",
    "url = 'http://api.openweathermap.org/data/2.5/weather?'+'q='+city+'&APPID=b35975e18dc93725acb092f7272cc6b8&units=metric'"
   ]
  },
  {
   "cell_type": "code",
   "execution_count": null,
   "metadata": {},
   "outputs": [],
   "source": [
    "# your code here"
   ]
  },
  {
   "cell_type": "markdown",
   "metadata": {},
   "source": [
    "#### Find the book name, price and stock availability as a pandas dataframe."
   ]
  },
  {
   "cell_type": "code",
   "execution_count": null,
   "metadata": {},
   "outputs": [],
   "source": [
    "# This is the url you will scrape in this exercise. \n",
    "# It is a fictional bookstore created to be scraped. \n",
    "url = 'http://books.toscrape.com/'"
   ]
  },
  {
   "cell_type": "code",
   "execution_count": null,
   "metadata": {},
   "outputs": [],
   "source": [
    "# your code here"
   ]
  },
  {
   "cell_type": "markdown",
   "metadata": {},
   "source": [
    "####  Display the 100 latest earthquakes info (date, time, latitude, longitude and region name) by the EMSC as a pandas dataframe.\n",
    "***Hint:*** Here the displayed number of earthquakes per page is 20, but you can easily move to the next page by looping through the desired number of pages and adding it to the end of the url."
   ]
  },
  {
   "cell_type": "code",
   "execution_count": null,
   "metadata": {},
   "outputs": [],
   "source": [
    "# This is the url you will scrape in this exercise\n",
    "url = 'https://www.emsc-csem.org/Earthquake/?view='\n",
    "\n",
    "# This is how you will loop through each page:\n",
    "number_of_pages = int(100/20)\n",
    "each_page_urls = []\n",
    "\n",
    "for n in range(1, number_of_pages+1):\n",
    "    link = url+str(n)\n",
    "    each_page_urls.append(link)\n",
    "    \n",
    "each_page_urls"
   ]
  },
  {
   "cell_type": "code",
   "execution_count": null,
   "metadata": {},
   "outputs": [],
   "source": [
    "# your code here"
   ]
  }
 ],
 "metadata": {
  "kernelspec": {
   "display_name": "Python 3 (ipykernel)",
   "language": "python",
   "name": "python3"
  },
  "language_info": {
   "codemirror_mode": {
    "name": "ipython",
    "version": 3
   },
   "file_extension": ".py",
   "mimetype": "text/x-python",
   "name": "python",
   "nbconvert_exporter": "python",
   "pygments_lexer": "ipython3",
   "version": "3.9.13"
  }
 },
 "nbformat": 4,
 "nbformat_minor": 2
}
