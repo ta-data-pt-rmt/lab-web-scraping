{
 "cells": [
  {
   "cell_type": "markdown",
   "metadata": {},
   "source": [
    "# Web Scraping Lab\n",
    "\n",
    "You will find in this notebook some scrapy exercises to practise your scraping skills.\n",
    "\n",
    "**Tips:**\n",
    "\n",
    "- Check the response status code for each request to ensure you have obtained the intended content.\n",
    "- Print the response text in each request to understand the kind of info you are getting and its format.\n",
    "- Check for patterns in the response text to extract the data/info requested in each question.\n",
    "- Visit the urls below and take a look at their source code through Chrome DevTools. You'll need to identify the html tags, special class names, etc used in the html content you are expected to extract.\n",
    "\n",
    "**Resources**:\n",
    "- [Requests library](http://docs.python-requests.org/en/master/#the-user-guide)\n",
    "- [Beautiful Soup Doc](https://www.crummy.com/software/BeautifulSoup/bs4/doc/)\n",
    "- [Urllib](https://docs.python.org/3/library/urllib.html#module-urllib)\n",
    "- [re lib](https://docs.python.org/3/library/re.html)\n",
    "- [lxml lib](https://lxml.de/)\n",
    "- [Scrapy](https://scrapy.org/)\n",
    "- [List of HTTP status codes](https://en.wikipedia.org/wiki/List_of_HTTP_status_codes)\n",
    "- [HTML basics](http://www.simplehtmlguide.com/cheatsheet.php)\n",
    "- [CSS basics](https://www.cssbasics.com/#page_start)"
   ]
  },
  {
   "cell_type": "markdown",
   "metadata": {},
   "source": [
    "#### Below are the libraries and modules you may need. `requests`,  `BeautifulSoup` and `pandas` are already imported for you. If you prefer to use additional libraries feel free to do it."
   ]
  },
  {
   "cell_type": "code",
   "execution_count": 3,
   "metadata": {},
   "outputs": [],
   "source": [
    "import requests\n",
    "from bs4 import BeautifulSoup\n",
    "import pandas as pd"
   ]
  },
  {
   "cell_type": "markdown",
   "metadata": {},
   "source": [
    "#### Download, parse (using BeautifulSoup), and print the content from the Trending Developers page from GitHub:"
   ]
  },
  {
   "cell_type": "code",
   "execution_count": 5,
   "metadata": {},
   "outputs": [],
   "source": [
    "# This is the url you will scrape in this exercise\n",
    "url = 'https://github.com/trending/developers'"
   ]
  },
  {
   "cell_type": "code",
   "execution_count": 3,
   "metadata": {},
   "outputs": [
    {
     "name": "stdout",
     "output_type": "stream",
     "text": [
      "Name: Pete\n",
      "Username: epwalsh\n",
      "Popular Repository: obsidian.nvim\n",
      "----------------------------------------\n",
      "Name: Syed Imtiyaz Ali\n",
      "Username: SyedImtiyaz-1\n",
      "Popular Repository: GetTechProjects\n",
      "----------------------------------------\n",
      "Name: Igor\n",
      "Username: igorpecovnik\n",
      "Popular Repository: N/A\n",
      "----------------------------------------\n",
      "Name: Emil Ernerfeldt\n",
      "Username: emilk\n",
      "Popular Repository: egui\n",
      "----------------------------------------\n",
      "Name: Sebastian Raschka\n",
      "Username: rasbt\n",
      "Popular Repository: LLMs-from-scratch\n",
      "----------------------------------------\n",
      "Name: Henrik Rydgård\n",
      "Username: hrydgard\n",
      "Popular Repository: ppsspp\n",
      "----------------------------------------\n",
      "Name: uncenter\n",
      "Username: uncenter\n",
      "Popular Repository: purr\n",
      "----------------------------------------\n",
      "Name: Andrew Gunnerson\n",
      "Username: chenxiaolong\n",
      "Popular Repository: avbroot\n",
      "----------------------------------------\n",
      "Name: Xuan Son Nguyen\n",
      "Username: ngxson\n",
      "Popular Repository: wllama\n",
      "----------------------------------------\n",
      "Name: mxsm\n",
      "Username: mxsm\n",
      "Popular Repository: rocketmq-rust\n",
      "----------------------------------------\n",
      "Name: Lars Grammel\n",
      "Username: lgrammel\n",
      "Popular Repository: storyteller\n",
      "----------------------------------------\n",
      "Name: Vik Paruchuri\n",
      "Username: VikParuchuri\n",
      "Popular Repository: surya\n",
      "----------------------------------------\n",
      "Name: sigoden\n",
      "Username: N/A\n",
      "Popular Repository: aichat\n",
      "----------------------------------------\n",
      "Name: lllyasviel\n",
      "Username: N/A\n",
      "Popular Repository: Omost\n",
      "----------------------------------------\n",
      "Name: dkhamsing\n",
      "Username: N/A\n",
      "Popular Repository: open-source-ios-apps\n",
      "----------------------------------------\n",
      "Name: Yair Morgenstern\n",
      "Username: yairm210\n",
      "Popular Repository: Unciv\n",
      "----------------------------------------\n",
      "Name: Craig P. Motlin\n",
      "Username: motlin\n",
      "Popular Repository: development-setup\n",
      "----------------------------------------\n",
      "Name: Ian Cooper\n",
      "Username: iancooper\n",
      "Popular Repository: practical-messaging\n",
      "----------------------------------------\n",
      "Name: Eric Traut\n",
      "Username: erictraut\n",
      "Popular Repository: mypy_issues\n",
      "----------------------------------------\n",
      "Name: Leigha Jarett\n",
      "Username: leighajarett\n",
      "Popular Repository: N/A\n",
      "----------------------------------------\n",
      "Name: Kenneth Auchenberg\n",
      "Username: auchenberg\n",
      "Popular Repository: volkswagen\n",
      "----------------------------------------\n",
      "Name: nihui\n",
      "Username: N/A\n",
      "Popular Repository: opencv-mobile\n",
      "----------------------------------------\n",
      "Name: Me No Dev\n",
      "Username: me-no-dev\n",
      "Popular Repository: ESPAsyncWebServer\n",
      "----------------------------------------\n",
      "Name: Tom Payne\n",
      "Username: twpayne\n",
      "Popular Repository: chezmoi\n",
      "----------------------------------------\n",
      "Name: Bae Junehyeon\n",
      "Username: devunt\n",
      "Popular Repository: sveltekit-ssr-store\n",
      "----------------------------------------\n"
     ]
    }
   ],
   "source": [
    "import requests\n",
    "from bs4 import BeautifulSoup\n",
    "\n",
    "# Step 1: Fetch the webpage\n",
    "url = 'https://github.com/trending/developers'\n",
    "response = requests.get(url)\n",
    "\n",
    "# Check if the request was successful\n",
    "if response.status_code == 200:\n",
    "    # Step 2: Parse the content\n",
    "    soup = BeautifulSoup(response.content, 'html.parser')\n",
    "    \n",
    "    # Step 3: Extract the trending developers\n",
    "    developers = soup.find_all('article', class_='Box-row')\n",
    "    \n",
    "    for dev in developers:\n",
    "        # Extract developer name\n",
    "        name_tag = dev.find('h1', class_='h3 lh-condensed')\n",
    "        if name_tag:\n",
    "            name = name_tag.text.strip()\n",
    "        else:\n",
    "            name = 'N/A'\n",
    "        \n",
    "        # Extract username\n",
    "        username_tag = dev.find('p', class_='f4 text-normal mb-1')\n",
    "        if username_tag:\n",
    "            username = username_tag.text.strip()\n",
    "        else:\n",
    "            username = 'N/A'\n",
    "        \n",
    "        # Extract the repository they are known for\n",
    "        repo_tag = dev.find('h1', class_='h4 lh-condensed')\n",
    "        if repo_tag:\n",
    "            repo = repo_tag.find('a').text.strip()\n",
    "        else:\n",
    "            repo = 'N/A'\n",
    "        \n",
    "        # Print the extracted information\n",
    "        print(f\"Name: {name}\")\n",
    "        print(f\"Username: {username}\")\n",
    "        print(f\"Popular Repository: {repo}\")\n",
    "        print('-' * 40)\n",
    "else:\n",
    "    print(\"Failed to retrieve the page\")"
   ]
  },
  {
   "cell_type": "markdown",
   "metadata": {},
   "source": [
    "#### 1. Display the names of the trending developers retrieved in the previous step.\n",
    "\n",
    "Your output should be a Python list of developer names. Each name should not contain any html tag.\n",
    "\n",
    "**Instructions:**\n",
    "\n",
    "1. Find out the html tag and class names used for the developer names. You can achieve this using Chrome DevTools or clicking in 'Inspect' on any browser. Here is an example:\n",
    "\n",
    "![title](example_1.png)\n",
    "\n",
    "2. Use BeautifulSoup `find_all()` to extract all the html elements that contain the developer names. Hint: pass in the `attrs` parameter to specify the class.\n",
    "\n",
    "3. Loop through the elements found and get the text for each of them.\n",
    "\n",
    "4. While you are at it, use string manipulation techniques to replace whitespaces and linebreaks (i.e. `\\n`) in the *text* of each html element. Use a list to store the clean names. Hint: you may also use `.get_text()` instead of `.text` and pass in the desired parameters to do some string manipulation (check the documentation).\n",
    "\n",
    "5. Print the list of names.\n",
    "\n",
    "Your output should look like below:\n",
    "\n",
    "```\n",
    "['trimstray (@trimstray)',\n",
    " 'joewalnes (JoeWalnes)',\n",
    " 'charlax (Charles-AxelDein)',\n",
    " 'ForrestKnight (ForrestKnight)',\n",
    " 'revery-ui (revery-ui)',\n",
    " 'alibaba (Alibaba)',\n",
    " 'Microsoft (Microsoft)',\n",
    " 'github (GitHub)',\n",
    " 'facebook (Facebook)',\n",
    " 'boazsegev (Bo)',\n",
    " 'google (Google)',\n",
    " 'cloudfetch',\n",
    " 'sindresorhus (SindreSorhus)',\n",
    " 'tensorflow',\n",
    " 'apache (TheApacheSoftwareFoundation)',\n",
    " 'DevonCrawford (DevonCrawford)',\n",
    " 'ARMmbed (ArmMbed)',\n",
    " 'vuejs (vuejs)',\n",
    " 'fastai (fast.ai)',\n",
    " 'QiShaoXuan (Qi)',\n",
    " 'joelparkerhenderson (JoelParkerHenderson)',\n",
    " 'torvalds (LinusTorvalds)',\n",
    " 'CyC2018',\n",
    " 'komeiji-satori (神楽坂覚々)',\n",
    " 'script-8']\n",
    " ```"
   ]
  },
  {
   "cell_type": "code",
   "execution_count": 30,
   "metadata": {},
   "outputs": [
    {
     "name": "stdout",
     "output_type": "stream",
     "text": [
      "['Syed Imtiyaz Ali', 'Pete', 'uncenter', 'lllyasviel', 'Sebastian Raschka', 'Vik Paruchuri', 'sigoden', 'Shubham Singodiya', \"John O'Reilly\", 'dkhamsing', 'Igor', 'Lars Grammel', 'Jarred Sumner', 'Eric Traut', 'Tom Payne', 'Stijn de Gooijer', 'Kiril Videlov', 'Ruslan Konviser', 'Steven Arcangeli', 'Stephen Celis', 'Stan Girard', 'Hassan El Mghari', 'continue revolution', 'Ash', 'Yair Morgenstern']\n"
     ]
    }
   ],
   "source": [
    "import requests\n",
    "from bs4 import BeautifulSoup\n",
    "\n",
    "# Step 1: Fetch the webpage\n",
    "url = 'https://github.com/trending/developers'\n",
    "response = requests.get(url)\n",
    "\n",
    "# Check if the request was successful\n",
    "if response.status_code == 200:\n",
    "    # Step 2: Parse the content\n",
    "    soup = BeautifulSoup(response.content, 'html.parser')\n",
    "    \n",
    "    # Step 3: Extract the developer names\n",
    "    name_tags = soup.find_all('h1', class_='h3 lh-condensed')\n",
    "    \n",
    "    # Initialize an empty list to store the cleaned names\n",
    "    developer_names = []\n",
    "    \n",
    "    # Loop through the elements found and clean the text\n",
    "    for tag in name_tags:\n",
    "        name = tag.get_text(strip=True)  # Extract and clean the text\n",
    "        developer_names.append(name)  # Add the cleaned name to the list\n",
    "    \n",
    "    # Step 4: Print the list of names\n",
    "    print(developer_names)\n",
    "else:\n",
    "    print(\"Failed to retrieve the page\")"
   ]
  },
  {
   "cell_type": "markdown",
   "metadata": {},
   "source": [
    "#### 1.1. Display the trending Python repositories in GitHub.\n",
    "\n",
    "The steps to solve this problem is similar to the previous one except that you need to find out the repository names instead of developer names."
   ]
  },
  {
   "cell_type": "code",
   "execution_count": null,
   "metadata": {},
   "outputs": [],
   "source": [
    "# This is the url you will scrape in this exercise\n",
    "url = 'https://github.com/trending/python?since=daily'"
   ]
  },
  {
   "cell_type": "code",
   "execution_count": 33,
   "metadata": {},
   "outputs": [
    {
     "name": "stdout",
     "output_type": "stream",
     "text": [
      "['lllyasviel/Omost', 'onuratakan/gpt-computer-assistant', 'jianchang512/ChatTTS-ui', 'VikParuchuri/marker', 'ToonCrafter/ToonCrafter', 'VinciGit00/Scrapegraph-ai', 'kholia/OSX-KVM', 'isaac-sim/IsaacLab', 'PostHog/posthog', 'yt-dlp/yt-dlp', 'commaai/openpilot', 'donnemartin/system-design-primer', 'TMElyralab/Comfyui-MusePose', 'Shubhamsaboo/awesome-llm-apps', 'jianchang512/pyvideotrans', 'python-telegram-bot/python-telegram-bot', 'ReaVNaiL/New-Grad-2024', 'sherlock-project/sherlock', 'lanqian528/chat2api', 'entropy-research/Devon', 'scikit-learn/scikit-learn', 'huggingface/datatrove', 'fofr/cog-consistent-character', 'TheAlgorithms/Python', 'jxnl/instructor']\n"
     ]
    }
   ],
   "source": [
    "import requests\n",
    "from bs4 import BeautifulSoup\n",
    "# Step 1: Fetch the webpage\n",
    "url = 'https://github.com/trending/python?since=daily'\n",
    "response = requests.get(url)\n",
    "\n",
    "# Check if the request was successful\n",
    "if response.status_code == 200:\n",
    "    # Step 2: Parse the content\n",
    "    soup = BeautifulSoup(response.content, 'html.parser')\n",
    "    \n",
    "    # Step 3: Extract the repository names\n",
    "    repo_tags = soup.find_all('h2', class_='h3 lh-condensed')\n",
    "    \n",
    "    # Initialize an empty list to store the cleaned repository names\n",
    "    repo_names = []\n",
    "    \n",
    "    # Loop through the elements found and clean the text\n",
    "    for tag in repo_tags:\n",
    "        repo_name = tag.find('a').get_text(strip=True).replace('\\n', '').replace(' ', '')\n",
    "        repo_names.append(repo_name)  # Add the cleaned name to the list\n",
    "    \n",
    "    # Step 4: Print the list of repository names\n",
    "    print(repo_names)\n",
    "else:\n",
    "    print(\"Failed to retrieve the page\")"
   ]
  },
  {
   "cell_type": "markdown",
   "metadata": {},
   "source": [
    "#### 2. Display all the image links from Walt Disney wikipedia page.\n",
    "Hint: use `.get()` to access information inside tags. Check out the documentation."
   ]
  },
  {
   "cell_type": "code",
   "execution_count": null,
   "metadata": {},
   "outputs": [],
   "source": [
    "# This is the url you will scrape in this exercise\n",
    "url = 'https://en.wikipedia.org/wiki/Walt_Disney'"
   ]
  },
  {
   "cell_type": "code",
   "execution_count": 34,
   "metadata": {},
   "outputs": [
    {
     "name": "stdout",
     "output_type": "stream",
     "text": [
      "https://en.wikipedia.org/static/images/icons/wikipedia.png\n",
      "https://en.wikipedia.org/static/images/mobile/copyright/wikipedia-wordmark-en.svg\n",
      "https://en.wikipedia.org/static/images/mobile/copyright/wikipedia-tagline-en.svg\n",
      "https://upload.wikimedia.org/wikipedia/en/thumb/e/e7/Cscr-featured.svg/20px-Cscr-featured.svg.png\n",
      "https://upload.wikimedia.org/wikipedia/en/thumb/8/8c/Extended-protection-shackle.svg/20px-Extended-protection-shackle.svg.png\n",
      "https://upload.wikimedia.org/wikipedia/commons/thumb/d/df/Walt_Disney_1946.JPG/220px-Walt_Disney_1946.JPG\n",
      "https://upload.wikimedia.org/wikipedia/commons/thumb/8/87/Walt_Disney_1942_signature.svg/150px-Walt_Disney_1942_signature.svg.png\n",
      "https://upload.wikimedia.org/wikipedia/commons/thumb/3/3a/Walt_Disney_Birthplace_Exterior_Hermosa_Chicago_Illinois.jpg/220px-Walt_Disney_Birthplace_Exterior_Hermosa_Chicago_Illinois.jpg\n",
      "https://upload.wikimedia.org/wikipedia/commons/thumb/c/c4/Walt_Disney_envelope_ca._1921.jpg/220px-Walt_Disney_envelope_ca._1921.jpg\n",
      "https://upload.wikimedia.org/wikipedia/commons/thumb/c/cd/Walt_Disney_Snow_white_1937_trailer_screenshot_%2813%29.jpg/220px-Walt_Disney_Snow_white_1937_trailer_screenshot_%2813%29.jpg\n",
      "https://upload.wikimedia.org/wikipedia/commons/thumb/1/15/Disney_drawing_goofy.jpg/170px-Disney_drawing_goofy.jpg\n",
      "https://upload.wikimedia.org/wikipedia/commons/thumb/8/8c/WaltDisneyplansDisneylandDec1954.jpg/220px-WaltDisneyplansDisneylandDec1954.jpg\n",
      "https://upload.wikimedia.org/wikipedia/commons/thumb/f/ff/Walt_disney_portrait_right.jpg/170px-Walt_disney_portrait_right.jpg\n",
      "https://upload.wikimedia.org/wikipedia/commons/thumb/1/1a/Walt_Disney_Grave.JPG/170px-Walt_Disney_Grave.JPG\n",
      "https://upload.wikimedia.org/wikipedia/commons/thumb/1/1b/Nuvola_apps_kaboodle.svg/16px-Nuvola_apps_kaboodle.svg.png\n",
      "https://upload.wikimedia.org/wikipedia/commons/thumb/1/13/DisneySchiphol1951.jpg/220px-DisneySchiphol1951.jpg\n",
      "https://upload.wikimedia.org/wikipedia/commons/thumb/6/6c/Disney1968.jpg/170px-Disney1968.jpg\n",
      "https://upload.wikimedia.org/wikipedia/commons/thumb/b/b0/Disney_Oscar_1953_%28cropped%29.jpg/170px-Disney_Oscar_1953_%28cropped%29.jpg\n",
      "https://upload.wikimedia.org/wikipedia/en/thumb/4/4a/Commons-logo.svg/20px-Commons-logo.svg.png\n",
      "https://upload.wikimedia.org/wikipedia/commons/thumb/f/fa/Wikiquote-logo.svg/23px-Wikiquote-logo.svg.png\n",
      "https://upload.wikimedia.org/wikipedia/commons/thumb/4/4c/Wikisource-logo.svg/26px-Wikisource-logo.svg.png\n",
      "https://upload.wikimedia.org/wikipedia/en/thumb/8/8a/OOjs_UI_icon_edit-ltr-progressive.svg/10px-OOjs_UI_icon_edit-ltr-progressive.svg.png\n",
      "https://upload.wikimedia.org/wikipedia/en/thumb/8/8a/OOjs_UI_icon_edit-ltr-progressive.svg/10px-OOjs_UI_icon_edit-ltr-progressive.svg.png\n",
      "https://upload.wikimedia.org/wikipedia/en/thumb/9/96/Symbol_category_class.svg/16px-Symbol_category_class.svg.png\n",
      "https://upload.wikimedia.org/wikipedia/commons/thumb/e/e3/Disneyland_Resort_logo.svg/135px-Disneyland_Resort_logo.svg.png\n",
      "https://upload.wikimedia.org/wikipedia/commons/thumb/d/da/Animation_disc.svg/20px-Animation_disc.svg.png\n",
      "https://upload.wikimedia.org/wikipedia/en/thumb/6/69/P_vip.svg/19px-P_vip.svg.png\n",
      "https://upload.wikimedia.org/wikipedia/commons/thumb/f/fe/Mickey_Mouse_colored_%28head%29.svg/20px-Mickey_Mouse_colored_%28head%29.svg.png\n",
      "https://upload.wikimedia.org/wikipedia/en/thumb/e/e7/Video-x-generic.svg/19px-Video-x-generic.svg.png\n",
      "https://upload.wikimedia.org/wikipedia/commons/thumb/a/a3/Flag_of_Los_Angeles_County%2C_California.svg/21px-Flag_of_Los_Angeles_County%2C_California.svg.png\n",
      "https://upload.wikimedia.org/wikipedia/commons/thumb/8/8c/Blank_television_set.svg/21px-Blank_television_set.svg.png\n",
      "https://upload.wikimedia.org/wikipedia/en/thumb/a/a4/Flag_of_the_United_States.svg/21px-Flag_of_the_United_States.svg.png\n",
      "https://upload.wikimedia.org/wikipedia/en/thumb/8/8a/OOjs_UI_icon_edit-ltr-progressive.svg/10px-OOjs_UI_icon_edit-ltr-progressive.svg.png\n",
      "https://login.wikimedia.org/wiki/Special:CentralAutoLogin/start?type=1x1\n",
      "https://en.wikipedia.org/static/images/footer/wikimedia-button.png\n",
      "https://en.wikipedia.org/static/images/footer/poweredby_mediawiki_88x31.png\n"
     ]
    }
   ],
   "source": [
    "import requests\n",
    "from bs4 import BeautifulSoup\n",
    "\n",
    "# Step 1: Fetch the webpage\n",
    "url = 'https://en.wikipedia.org/wiki/Walt_Disney'\n",
    "response = requests.get(url)\n",
    "\n",
    "# Check if the request was successful\n",
    "if response.status_code == 200:\n",
    "    # Step 2: Parse the content\n",
    "    soup = BeautifulSoup(response.content, 'html.parser')\n",
    "    \n",
    "    # Step 3: Locate all the image tags\n",
    "    image_tags = soup.find_all('img')\n",
    "    \n",
    "    # Step 4: Extract the URLs of the image links\n",
    "    image_links = []\n",
    "    for img in image_tags:\n",
    "        img_url = img.get('src')\n",
    "        if img_url:\n",
    "            # Check if the URL is relative or absolute\n",
    "            if img_url.startswith('//'):\n",
    "                img_url = 'https:' + img_url\n",
    "            elif img_url.startswith('/'):\n",
    "                img_url = 'https://en.wikipedia.org' + img_url\n",
    "            image_links.append(img_url)\n",
    "    \n",
    "    # Step 5: Print the list of image links\n",
    "    for link in image_links:\n",
    "        print(link)\n",
    "else:\n",
    "    print(\"Failed to retrieve the page\")"
   ]
  },
  {
   "cell_type": "markdown",
   "metadata": {},
   "source": [
    "#### 2.1. List all language names and number of related articles in the order they appear in wikipedia.org."
   ]
  },
  {
   "cell_type": "code",
   "execution_count": null,
   "metadata": {},
   "outputs": [],
   "source": [
    "# This is the url you will scrape in this exercise\n",
    "url = 'https://www.wikipedia.org/'"
   ]
  },
  {
   "cell_type": "code",
   "execution_count": 37,
   "metadata": {},
   "outputs": [
    {
     "name": "stdout",
     "output_type": "stream",
     "text": [
      "English: 6796000 articles\n",
      "日本語: 1407000 articles\n",
      "Русский: 1969000 articles\n",
      "Español: 1938000 articles\n",
      "Deutsch: 2891000 articles\n",
      "Français: 2598000 articles\n",
      "Italiano: 1853000 articles\n",
      "中文: 1409000 articles\n",
      "فارسی: 995000 articles\n",
      "Português: 1120000 articles\n"
     ]
    }
   ],
   "source": [
    "import requests\n",
    "from bs4 import BeautifulSoup\n",
    "import re\n",
    "\n",
    "# Step 1: Fetch the webpage\n",
    "url = 'https://www.wikipedia.org/'\n",
    "response = requests.get(url)\n",
    "\n",
    "# Check if the request was successful\n",
    "if response.status_code == 200:\n",
    "    # Step 2: Parse the content\n",
    "    soup = BeautifulSoup(response.content, 'html.parser')\n",
    "    \n",
    "    # Step 3: Locate elements containing language names and article counts\n",
    "    languages = soup.find_all('a', class_='link-box')\n",
    "    \n",
    "    # Initialize a list to store the language names and article counts\n",
    "    language_data = []\n",
    "    \n",
    "    # Step 4: Extract and clean the data\n",
    "    for lang in languages:\n",
    "        language_name = lang.find('strong').get_text(strip=True)\n",
    "        article_count_text = lang.find('small').get_text(strip=True)\n",
    "        # Remove non-numeric characters except for commas and plus signs\n",
    "        article_count_text = re.sub(r'[^\\d]', '', article_count_text)\n",
    "        article_count = int(article_count_text)\n",
    "        language_data.append((language_name, article_count))\n",
    "    \n",
    "    # Step 5: Print the language names along with the number of related articles\n",
    "    for lang, count in language_data:\n",
    "        print(f\"{lang}: {count} articles\")\n",
    "else:\n",
    "    print(\"Failed to retrieve the page\")"
   ]
  },
  {
   "cell_type": "markdown",
   "metadata": {},
   "source": [
    "#### 2.2. Display the top 10 languages by number of native speakers stored in a pandas dataframe.\n",
    "Hint: After finding the correct table you want to analyse, you can use a nested **for** loop to find the elements row by row (check out the 'td' and 'tr' tags). <br>An easier way to do it is using pd.read_html(), check out documentation [here](https://pandas.pydata.org/pandas-docs/version/0.23.4/generated/pandas.read_html.html)."
   ]
  },
  {
   "cell_type": "code",
   "execution_count": null,
   "metadata": {},
   "outputs": [],
   "source": [
    "# This is the url you will scrape in this exercise\n",
    "url = 'https://en.wikipedia.org/wiki/List_of_languages_by_number_of_native_speakers'"
   ]
  },
  {
   "cell_type": "code",
   "execution_count": 39,
   "metadata": {},
   "outputs": [
    {
     "name": "stdout",
     "output_type": "stream",
     "text": [
      "Empty DataFrame\n",
      "Columns: [Language, Number of Native Speakers]\n",
      "Index: []\n"
     ]
    }
   ],
   "source": [
    "import requests\n",
    "from bs4 import BeautifulSoup\n",
    "import pandas as pd\n",
    "\n",
    "# Step 1: Fetch the webpage\n",
    "url = 'https://en.wikipedia.org/wiki/List_of_languages_by_number_of_native_speakers'\n",
    "response = requests.get(url)\n",
    "\n",
    "# Check if the request was successful\n",
    "if response.status_code == 200:\n",
    "    # Step 2: Parse the content\n",
    "    soup = BeautifulSoup(response.content, 'html.parser')\n",
    "    \n",
    "    # Step 3: Locate the correct table\n",
    "    table = soup.find('table', {'class': 'wikitable sortable'})\n",
    "    \n",
    "    # Step 4: Extract the table rows and columns\n",
    "    rows = table.find_all('tr')\n",
    "    \n",
    "    # Initialize lists to store the data\n",
    "    languages = []\n",
    "    speakers = []\n",
    "    \n",
    "    # Step 5: Extract the data row by row\n",
    "    for row in rows[1:]:  # Skip the header row\n",
    "        cols = row.find_all('td')\n",
    "        if len(cols) < 3:\n",
    "            continue\n",
    "        language = cols[1].get_text(strip=True)\n",
    "        speaker_count = cols[2].get_text(strip=True).replace(',', '')\n",
    "        \n",
    "        # Check if speaker_count is numeric\n",
    "        if speaker_count.isdigit():\n",
    "            languages.append(language)\n",
    "            speakers.append(int(speaker_count))\n",
    "        \n",
    "        # Stop after collecting top 10 valid entries\n",
    "        if len(languages) >= 10:\n",
    "            break\n",
    "    \n",
    "    # Step 6: Create a pandas DataFrame\n",
    "    data = {'Language': languages, 'Number of Native Speakers': speakers}\n",
    "    df = pd.DataFrame(data)\n",
    "    \n",
    "    # Display the DataFrame\n",
    "    print(df)\n",
    "else:\n",
    "    print(\"Failed to retrieve the page\")"
   ]
  },
  {
   "cell_type": "markdown",
   "metadata": {},
   "source": [
    "#### 3. Display Metacritic top 24 Best TV Shows of all time (TV Show name, initial release date, metascore rating, film rating system and description) as a pandas dataframe.\n",
    "Hint: If you hover over the title of the movie, you should see the director's name. Can you find where it's stored in the html?"
   ]
  },
  {
   "cell_type": "code",
   "execution_count": null,
   "metadata": {},
   "outputs": [],
   "source": [
    "# This is the url you will scrape in this exercise \n",
    "url = 'https://www.metacritic.com/browse/tv/'"
   ]
  },
  {
   "cell_type": "code",
   "execution_count": 40,
   "metadata": {},
   "outputs": [
    {
     "name": "stdout",
     "output_type": "stream",
     "text": [
      "Empty DataFrame\n",
      "Columns: [TV Show Name, Initial Release Date, Metascore Rating, Rating System, Description]\n",
      "Index: []\n"
     ]
    }
   ],
   "source": [
    "\n",
    "import requests\n",
    "from bs4 import BeautifulSoup\n",
    "import pandas as pd\n",
    "\n",
    "# Step 1: Fetch the webpage\n",
    "url = 'https://www.metacritic.com/browse/tv/'\n",
    "headers = {'User-Agent': 'Mozilla/5.0 (Windows NT 10.0; Win64; x64) AppleWebKit/537.36 (KHTML, like Gecko) Chrome/91.0.4472.124 Safari/537.36'}\n",
    "response = requests.get(url, headers=headers)\n",
    "\n",
    "# Check if the request was successful\n",
    "if response.status_code == 200:\n",
    "    # Step 2: Parse the content\n",
    "    soup = BeautifulSoup(response.content, 'html.parser')\n",
    "    \n",
    "    # Initialize lists to store the data\n",
    "    tv_show_names = []\n",
    "    release_dates = []\n",
    "    metascores = []\n",
    "    ratings = []\n",
    "    descriptions = []\n",
    "    \n",
    "    # Step 3: Locate elements containing the required information\n",
    "    tv_show_list = soup.find_all('td', class_='clamp-summary-wrap')\n",
    "    \n",
    "    # Step 4: Extract the data for the top 24 TV shows\n",
    "    for tv_show in tv_show_list[:24]:\n",
    "        # Extract TV show name\n",
    "        name = tv_show.find('a', class_='title').get_text(strip=True)\n",
    "        tv_show_names.append(name)\n",
    "        \n",
    "        # Extract initial release date\n",
    "        release_date = tv_show.find('div', class_='clamp-details').find_all('span')[1].get_text(strip=True)\n",
    "        release_dates.append(release_date)\n",
    "        \n",
    "        # Extract metascore rating\n",
    "        metascore = tv_show.find('div', class_='metascore_w').get_text(strip=True)\n",
    "        metascores.append(int(metascore))\n",
    "        \n",
    "        # Extract film rating system\n",
    "        rating = tv_show.find('span', class_='label').get_text(strip=True)\n",
    "        ratings.append(rating)\n",
    "        \n",
    "        # Extract description\n",
    "        description = tv_show.find('div', class_='summary').get_text(strip=True)\n",
    "        descriptions.append(description)\n",
    "    \n",
    "    # Step 5: Create a pandas DataFrame\n",
    "    data = {\n",
    "        'TV Show Name': tv_show_names,\n",
    "        'Initial Release Date': release_dates,\n",
    "        'Metascore Rating': metascores,\n",
    "        'Rating System': ratings,\n",
    "        'Description': descriptions\n",
    "    }\n",
    "    df = pd.DataFrame(data)\n",
    "    \n",
    "    # Display the DataFrame\n",
    "    print(df)\n",
    "else:\n",
    "    print(\"Failed to retrieve the page\")"
   ]
  },
  {
   "cell_type": "markdown",
   "metadata": {},
   "source": [
    "#### 3.1. Find the image source link and the TV show link. After you're able to retrieve, add them to your initial dataframe"
   ]
  },
  {
   "cell_type": "code",
   "execution_count": 41,
   "metadata": {},
   "outputs": [
    {
     "name": "stdout",
     "output_type": "stream",
     "text": [
      "Empty DataFrame\n",
      "Columns: [TV Show Name, Initial Release Date, Metascore Rating, Rating System, Description, Image Link, TV Show Link]\n",
      "Index: []\n"
     ]
    }
   ],
   "source": [
    "import requests\n",
    "from bs4 import BeautifulSoup\n",
    "import pandas as pd\n",
    "\n",
    "# Step 1: Fetch the webpage\n",
    "url = 'https://www.metacritic.com/browse/tv/'\n",
    "headers = {\n",
    "    'User-Agent': 'Mozilla/5.0 (Windows NT 10.0; Win64; x64) AppleWebKit/537.36 (KHTML, like Gecko) Chrome/91.0.4472.124 Safari/537.36'\n",
    "}\n",
    "response = requests.get(url, headers=headers)\n",
    "\n",
    "# Check if the request was successful\n",
    "if response.status_code == 200:\n",
    "    # Step 2: Parse the content\n",
    "    soup = BeautifulSoup(response.content, 'html.parser')\n",
    "    \n",
    "    # Initialize lists to store the data\n",
    "    tv_show_names = []\n",
    "    release_dates = []\n",
    "    metascores = []\n",
    "    ratings = []\n",
    "    descriptions = []\n",
    "    image_links = []\n",
    "    tv_show_links = []\n",
    "    \n",
    "    # Step 3: Locate elements containing the required information\n",
    "    tv_show_list = soup.find_all('td', class_='clamp-summary-wrap')\n",
    "    \n",
    "    # Step 4: Extract the data for the top 24 TV shows\n",
    "    for tv_show in tv_show_list[:24]:\n",
    "        # Extract TV show name\n",
    "        name = tv_show.find('a', class_='title').get_text(strip=True)\n",
    "        tv_show_names.append(name)\n",
    "        \n",
    "        # Extract initial release date\n",
    "        release_date = tv_show.find('div', class_='clamp-details').find_all('span')[1].get_text(strip=True)\n",
    "        release_dates.append(release_date)\n",
    "        \n",
    "        # Extract metascore rating\n",
    "        metascore = tv_show.find('div', class_='metascore_w').get_text(strip=True)\n",
    "        metascores.append(int(metascore))\n",
    "        \n",
    "        # Extract film rating system\n",
    "        rating = tv_show.find('span', class_='label').get_text(strip=True)\n",
    "        ratings.append(rating)\n",
    "        \n",
    "        # Extract description\n",
    "        description = tv_show.find('div', class_='summary').get_text(strip=True)\n",
    "        descriptions.append(description)\n",
    "        \n",
    "        # Extract image link\n",
    "        image_tag = tv_show.find_previous_sibling('td').find('img')\n",
    "        image_link = image_tag['src'] if image_tag else ''\n",
    "        image_links.append(image_link)\n",
    "        \n",
    "        # Extract TV show link\n",
    "        tv_show_link = 'https://www.metacritic.com' + tv_show.find('a', class_='title')['href']\n",
    "        tv_show_links.append(tv_show_link)\n",
    "    \n",
    "    # Step 5: Create a pandas DataFrame\n",
    "    data = {\n",
    "        'TV Show Name': tv_show_names,\n",
    "        'Initial Release Date': release_dates,\n",
    "        'Metascore Rating': metascores,\n",
    "        'Rating System': ratings,\n",
    "        'Description': descriptions,\n",
    "        'Image Link': image_links,\n",
    "        'TV Show Link': tv_show_links\n",
    "    }\n",
    "    df = pd.DataFrame(data)\n",
    "    \n",
    "    # Display the DataFrame\n",
    "    print(df)\n",
    "else:\n",
    "    print(\"Failed to retrieve the page\")"
   ]
  },
  {
   "cell_type": "markdown",
   "metadata": {},
   "source": [
    "## Bonus"
   ]
  },
  {
   "cell_type": "markdown",
   "metadata": {},
   "source": [
    "#### Find the live weather report (temperature, wind speed, description and weather) of a given city."
   ]
  },
  {
   "cell_type": "code",
   "execution_count": null,
   "metadata": {},
   "outputs": [],
   "source": [
    "#https://openweathermap.org/current\n",
    "city = input('Enter the city: ')\n",
    "url = f'https://api.weatherapi.com/v1/current.json?key=5a68dbd3fe6242678ac130253242505&q={city}&aqi=no'\n"
   ]
  },
  {
   "cell_type": "code",
   "execution_count": null,
   "metadata": {},
   "outputs": [],
   "source": [
    "# your code here"
   ]
  },
  {
   "cell_type": "markdown",
   "metadata": {},
   "source": [
    "#### Find the book name, price and stock availability from books to scrape website as a pandas dataframe."
   ]
  },
  {
   "cell_type": "code",
   "execution_count": null,
   "metadata": {},
   "outputs": [],
   "source": [
    "# This is the url you will scrape in this exercise. \n",
    "# It is a fictional bookstore created to be scraped. \n",
    "url = 'http://books.toscrape.com/'"
   ]
  },
  {
   "cell_type": "code",
   "execution_count": null,
   "metadata": {},
   "outputs": [],
   "source": [
    "# your code here"
   ]
  },
  {
   "cell_type": "markdown",
   "metadata": {},
   "source": [
    "####  Display the initial 100 books available in the homepage. Once again, collect the book name, price and its stock availability.\n",
    "\n",
    "***Hint:*** The total number of displayed books per page is 20, but you can easily move to the next page by looping through the desired number of pages and adding it to the end of the url."
   ]
  },
  {
   "cell_type": "code",
   "execution_count": null,
   "metadata": {},
   "outputs": [],
   "source": [
    "# This is the url you will scrape in this exercise\n",
    "url = 'https://books.toscrape.com/catalogue/page-'\n",
    "# This is how you will loop through each page:\n",
    "number_of_pages = int(100/20)\n",
    "each_page_urls = []\n",
    "for n in range(1, number_of_pages+1):\n",
    "    link = url+str(n)+\".html\"\n",
    "    each_page_urls.append(link)\n",
    "    \n",
    "each_page_urls"
   ]
  },
  {
   "cell_type": "code",
   "execution_count": null,
   "metadata": {},
   "outputs": [],
   "source": [
    "# your code here"
   ]
  }
 ],
 "metadata": {
  "kernelspec": {
   "display_name": "Python 3 (ipykernel)",
   "language": "python",
   "name": "python3"
  },
  "language_info": {
   "codemirror_mode": {
    "name": "ipython",
    "version": 3
   },
   "file_extension": ".py",
   "mimetype": "text/x-python",
   "name": "python",
   "nbconvert_exporter": "python",
   "pygments_lexer": "ipython3",
   "version": "3.11.7"
  }
 },
 "nbformat": 4,
 "nbformat_minor": 4
}
