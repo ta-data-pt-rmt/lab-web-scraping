{
 "cells": [
  {
   "cell_type": "markdown",
   "metadata": {},
   "source": [
    "# Web Scraping Lab\n",
    "\n",
    "You will find in this notebook some scrapy exercises to practise your scraping skills.\n",
    "\n",
    "**Tips:**\n",
    "\n",
    "- Check the response status code for each request to ensure you have obtained the intended content.\n",
    "- Print the response text in each request to understand the kind of info you are getting and its format.\n",
    "- Check for patterns in the response text to extract the data/info requested in each question.\n",
    "- Visit the urls below and take a look at their source code through Chrome DevTools. You'll need to identify the html tags, special class names, etc used in the html content you are expected to extract.\n",
    "\n",
    "**Resources**:\n",
    "- [Requests library](http://docs.python-requests.org/en/master/#the-user-guide)\n",
    "- [Beautiful Soup Doc](https://www.crummy.com/software/BeautifulSoup/bs4/doc/)\n",
    "- [Urllib](https://docs.python.org/3/library/urllib.html#module-urllib)\n",
    "- [re lib](https://docs.python.org/3/library/re.html)\n",
    "- [lxml lib](https://lxml.de/)\n",
    "- [Scrapy](https://scrapy.org/)\n",
    "- [List of HTTP status codes](https://en.wikipedia.org/wiki/List_of_HTTP_status_codes)\n",
    "- [HTML basics](http://www.simplehtmlguide.com/cheatsheet.php)\n",
    "- [CSS basics](https://www.cssbasics.com/#page_start)"
   ]
  },
  {
   "cell_type": "markdown",
   "metadata": {},
   "source": [
    "#### Below are the libraries and modules you may need. `requests`,  `BeautifulSoup` and `pandas` are already imported for you. If you prefer to use additional libraries feel free to do it."
   ]
  },
  {
   "cell_type": "code",
   "execution_count": 6,
   "metadata": {},
   "outputs": [],
   "source": [
    "import requests\n",
    "from bs4 import BeautifulSoup\n",
    "import pandas as pd"
   ]
  },
  {
   "cell_type": "markdown",
   "metadata": {},
   "source": [
    "#### Download, parse (using BeautifulSoup), and print the content from the Trending Developers page from GitHub:"
   ]
  },
  {
   "cell_type": "code",
   "execution_count": 59,
   "metadata": {},
   "outputs": [],
   "source": [
    "# This is the url you will scrape in this exercise\n",
    "url = 'https://github.com/trending/developers'\n"
   ]
  },
  {
   "cell_type": "code",
   "execution_count": 60,
   "metadata": {},
   "outputs": [],
   "source": [
    "response = requests.get(url)\n",
    "response.content\n",
    "soup = BeautifulSoup(response.content)"
   ]
  },
  {
   "cell_type": "markdown",
   "metadata": {},
   "source": [
    "#### 1. Display the names of the trending developers retrieved in the previous step.\n",
    "\n",
    "Your output should be a Python list of developer names. Each name should not contain any html tag.\n",
    "\n",
    "**Instructions:**\n",
    "\n",
    "1. Find out the html tag and class names used for the developer names. You can achieve this using Chrome DevTools or clicking in 'Inspect' on any browser. Here is an example:\n",
    "\n",
    "![title](example_1.png)\n",
    "\n",
    "2. Use BeautifulSoup `find_all()` to extract all the html elements that contain the developer names. Hint: pass in the `attrs` parameter to specify the class.\n",
    "\n",
    "3. Loop through the elements found and get the text for each of them.\n",
    "\n",
    "4. While you are at it, use string manipulation techniques to replace whitespaces and linebreaks (i.e. `\\n`) in the *text* of each html element. Use a list to store the clean names. Hint: you may also use `.get_text()` instead of `.text` and pass in the desired parameters to do some string manipulation (check the documentation).\n",
    "\n",
    "5. Print the list of names.\n",
    "\n",
    "Your output should look like below:\n",
    "\n",
    "```\n",
    "['trimstray (@trimstray)',\n",
    " 'joewalnes (JoeWalnes)',\n",
    " 'charlax (Charles-AxelDein)',\n",
    " 'ForrestKnight (ForrestKnight)',\n",
    " 'revery-ui (revery-ui)',\n",
    " 'alibaba (Alibaba)',\n",
    " 'Microsoft (Microsoft)',\n",
    " 'github (GitHub)',\n",
    " 'facebook (Facebook)',\n",
    " 'boazsegev (Bo)',\n",
    " 'google (Google)',\n",
    " 'cloudfetch',\n",
    " 'sindresorhus (SindreSorhus)',\n",
    " 'tensorflow',\n",
    " 'apache (TheApacheSoftwareFoundation)',\n",
    " 'DevonCrawford (DevonCrawford)',\n",
    " 'ARMmbed (ArmMbed)',\n",
    " 'vuejs (vuejs)',\n",
    " 'fastai (fast.ai)',\n",
    " 'QiShaoXuan (Qi)',\n",
    " 'joelparkerhenderson (JoelParkerHenderson)',\n",
    " 'torvalds (LinusTorvalds)',\n",
    " 'CyC2018',\n",
    " 'komeiji-satori (神楽坂覚々)',\n",
    " 'script-8']\n",
    " ```"
   ]
  },
  {
   "cell_type": "code",
   "execution_count": 61,
   "metadata": {},
   "outputs": [
    {
     "name": "stdout",
     "output_type": "stream",
     "text": [
      "['Steven Tey', 'Bjorn Lu', 'Shahed Nasser', 'Xuehai Pan', 'Yifei Zhang', 'Damodar Lohani', 'Alex Rogozhnikov', 'boojack', 'Vectorized', 'Olivier Halligon', 'Alessandro Ros', 'Johannes Köster', 'Jesse Glick', 'dkhamsing', 'Brannon Dorsey', 'Maksim Ivanov', 'Juliette', 'Jackson Harper', 'Sébastien Chopin', 'Pat Hickey', 'Dustin L. Howett', 'Klaus Post', 'Matt Brophy', 'Vadim Demedes', 'William Candillon']\n"
     ]
    }
   ],
   "source": [
    "dev_names = soup.find_all('h1', attrs= {'class' : 'h3 lh-condensed'})\n",
    "\n",
    "names = []\n",
    "for dev_name in dev_names:\n",
    "    name = dev_name.get_text(strip=True)\n",
    "    name = name.replace('\\n', ' ').replace('  ', ' ')\n",
    "    for a_tag in dev_name.find_all('a'):\n",
    "        names.append(a_tag.get_text(strip=True))\n",
    "\n",
    "print(names)"
   ]
  },
  {
   "cell_type": "markdown",
   "metadata": {},
   "source": [
    "#### 1.1. Display the trending Python repositories in GitHub.\n",
    "\n",
    "The steps to solve this problem is similar to the previous one except that you need to find out the repository names instead of developer names."
   ]
  },
  {
   "cell_type": "code",
   "execution_count": 64,
   "metadata": {},
   "outputs": [],
   "source": [
    "# This is the url you will scrape in this exercise\n",
    "url = 'https://github.com/trending/python?since=daily'"
   ]
  },
  {
   "cell_type": "code",
   "execution_count": 65,
   "metadata": {},
   "outputs": [],
   "source": [
    "response = requests.get(url)\n",
    "response.content\n",
    "soup = BeautifulSoup(response.content)"
   ]
  },
  {
   "cell_type": "code",
   "execution_count": 69,
   "metadata": {},
   "outputs": [
    {
     "name": "stdout",
     "output_type": "stream",
     "text": [
      "['LaWGPT', 'quivr', 'CodeT5', 'fastcomposer', 'VisualGLM-6B', 'whisper', 'chatgpt-mirai-qq-bot', 'black', 'ChatGLM-6B', 'transformers', 'langflow', 'scikit-llm', 'Fengshenbang-LM', 'PathPlanning', 'OpenChatKit', 'zhao', 'CleanMyWechat', 'OpenCore-Legacy-Patcher', 'CppCoreGuidelines', 'CyberWaifu', 'superagent', 'DefaultCreds-cheat-sheet', 'Chinese-CLIP', 'improved-diffusion', 'Summer2023-Internships']\n"
     ]
    }
   ],
   "source": [
    "rep_names = soup.find_all('h2', attrs= {'class' : 'h3 lh-condensed'})\n",
    "rep_names\n",
    "names = []\n",
    "for rep_name in rep_names:\n",
    "    name = rep_name.get_text(strip=True)\n",
    "    name = name.replace('\\n', ' ').replace('  ', ' ').replace(\"/\", \"- \")\n",
    "    for a_tag in rep_name.find_all('a'):\n",
    "        names.append(a_tag.get_text(strip=True))\n",
    "\n",
    "repository_names = []\n",
    "\n",
    "for name in names:\n",
    "    repository_name = name.split(\"/\")[-1].strip()\n",
    "    repository_names.append(repository_name)\n",
    "    \n",
    "    \n",
    "print(repository_names)\n",
    "    \n",
    "    "
   ]
  },
  {
   "cell_type": "markdown",
   "metadata": {},
   "source": [
    "#### 2. Display all the image links from Walt Disney wikipedia page.\n",
    "Hint: use `.get()` to access information inside tags. Check out the documentation."
   ]
  },
  {
   "cell_type": "code",
   "execution_count": null,
   "metadata": {},
   "outputs": [],
   "source": [
    "# This is the url you will scrape in this exercise\n"
   ]
  },
  {
   "cell_type": "code",
   "execution_count": 85,
   "metadata": {},
   "outputs": [
    {
     "name": "stdout",
     "output_type": "stream",
     "text": [
      "/static/images/icons/wikipedia.png\n",
      "/static/images/mobile/copyright/wikipedia-wordmark-en.svg\n",
      "/static/images/mobile/copyright/wikipedia-tagline-en.svg\n",
      "//upload.wikimedia.org/wikipedia/en/thumb/e/e7/Cscr-featured.svg/20px-Cscr-featured.svg.png\n",
      "//upload.wikimedia.org/wikipedia/en/thumb/8/8c/Extended-protection-shackle.svg/20px-Extended-protection-shackle.svg.png\n",
      "//upload.wikimedia.org/wikipedia/commons/thumb/d/df/Walt_Disney_1946.JPG/220px-Walt_Disney_1946.JPG\n",
      "//upload.wikimedia.org/wikipedia/commons/thumb/8/87/Walt_Disney_1942_signature.svg/150px-Walt_Disney_1942_signature.svg.png\n",
      "//upload.wikimedia.org/wikipedia/commons/thumb/3/3a/Walt_Disney_Birthplace_Exterior_Hermosa_Chicago_Illinois.jpg/220px-Walt_Disney_Birthplace_Exterior_Hermosa_Chicago_Illinois.jpg\n",
      "//upload.wikimedia.org/wikipedia/commons/thumb/c/c4/Walt_Disney_envelope_ca._1921.jpg/220px-Walt_Disney_envelope_ca._1921.jpg\n",
      "//upload.wikimedia.org/wikipedia/commons/thumb/0/0d/Trolley_Troubles_poster.jpg/170px-Trolley_Troubles_poster.jpg\n",
      "//upload.wikimedia.org/wikipedia/en/thumb/4/4e/Steamboat-willie.jpg/170px-Steamboat-willie.jpg\n",
      "//upload.wikimedia.org/wikipedia/commons/thumb/f/f1/Eisenstein_Tisse_Aleksandrov_Disney.webp/170px-Eisenstein_Tisse_Aleksandrov_Disney.webp.png\n",
      "//upload.wikimedia.org/wikipedia/commons/thumb/c/cd/Walt_Disney_Snow_white_1937_trailer_screenshot_%2813%29.jpg/220px-Walt_Disney_Snow_white_1937_trailer_screenshot_%2813%29.jpg\n",
      "//upload.wikimedia.org/wikipedia/commons/thumb/1/15/Disney_drawing_goofy.jpg/170px-Disney_drawing_goofy.jpg\n",
      "//upload.wikimedia.org/wikipedia/commons/thumb/8/8c/WaltDisneyplansDisneylandDec1954.jpg/220px-WaltDisneyplansDisneylandDec1954.jpg\n",
      "//upload.wikimedia.org/wikipedia/commons/thumb/f/ff/Walt_disney_portrait_right.jpg/170px-Walt_disney_portrait_right.jpg\n",
      "//upload.wikimedia.org/wikipedia/commons/thumb/1/1a/Walt_Disney_Grave.JPG/170px-Walt_Disney_Grave.JPG\n",
      "//upload.wikimedia.org/wikipedia/commons/thumb/2/2d/Roy_O._Disney_with_Company_at_Press_Conference.jpg/170px-Roy_O._Disney_with_Company_at_Press_Conference.jpg\n",
      "//upload.wikimedia.org/wikipedia/commons/thumb/1/13/DisneySchiphol1951.jpg/220px-DisneySchiphol1951.jpg\n",
      "//upload.wikimedia.org/wikipedia/commons/thumb/6/6c/Disney1968.jpg/170px-Disney1968.jpg\n",
      "//upload.wikimedia.org/wikipedia/commons/thumb/b/b0/Disney_Oscar_1953_%28cropped%29.jpg/170px-Disney_Oscar_1953_%28cropped%29.jpg\n",
      "//upload.wikimedia.org/wikipedia/en/thumb/4/4a/Commons-logo.svg/30px-Commons-logo.svg.png\n",
      "//upload.wikimedia.org/wikipedia/commons/thumb/4/4c/Wikisource-logo.svg/38px-Wikisource-logo.svg.png\n",
      "//upload.wikimedia.org/wikipedia/commons/thumb/f/fa/Wikiquote-logo.svg/34px-Wikiquote-logo.svg.png\n",
      "//upload.wikimedia.org/wikipedia/en/thumb/8/8a/OOjs_UI_icon_edit-ltr-progressive.svg/10px-OOjs_UI_icon_edit-ltr-progressive.svg.png\n",
      "//upload.wikimedia.org/wikipedia/en/thumb/8/8a/OOjs_UI_icon_edit-ltr-progressive.svg/10px-OOjs_UI_icon_edit-ltr-progressive.svg.png\n",
      "//upload.wikimedia.org/wikipedia/commons/thumb/e/e3/Disneyland_Resort_logo.svg/135px-Disneyland_Resort_logo.svg.png\n",
      "//upload.wikimedia.org/wikipedia/commons/thumb/d/da/Animation_disc.svg/20px-Animation_disc.svg.png\n",
      "//upload.wikimedia.org/wikipedia/en/thumb/6/69/P_vip.svg/19px-P_vip.svg.png\n",
      "//upload.wikimedia.org/wikipedia/commons/thumb/1/1a/Magic_Kingdom_castle.jpg/15px-Magic_Kingdom_castle.jpg\n",
      "//upload.wikimedia.org/wikipedia/en/thumb/e/e7/Video-x-generic.svg/19px-Video-x-generic.svg.png\n",
      "//upload.wikimedia.org/wikipedia/commons/thumb/a/a3/Flag_of_Los_Angeles_County%2C_California.svg/21px-Flag_of_Los_Angeles_County%2C_California.svg.png\n",
      "//upload.wikimedia.org/wikipedia/commons/thumb/8/8c/Blank_television_set.svg/21px-Blank_television_set.svg.png\n",
      "//upload.wikimedia.org/wikipedia/en/thumb/a/a4/Flag_of_the_United_States.svg/21px-Flag_of_the_United_States.svg.png\n",
      "//upload.wikimedia.org/wikipedia/en/thumb/4/4a/Commons-logo.svg/14px-Commons-logo.svg.png\n",
      "//upload.wikimedia.org/wikipedia/commons/thumb/f/fa/Wikiquote-logo.svg/16px-Wikiquote-logo.svg.png\n",
      "//upload.wikimedia.org/wikipedia/commons/thumb/4/4c/Wikisource-logo.svg/18px-Wikisource-logo.svg.png\n",
      "//upload.wikimedia.org/wikipedia/commons/thumb/f/ff/Wikidata-logo.svg/21px-Wikidata-logo.svg.png\n",
      "//upload.wikimedia.org/wikipedia/en/thumb/8/8a/OOjs_UI_icon_edit-ltr-progressive.svg/10px-OOjs_UI_icon_edit-ltr-progressive.svg.png\n",
      "//en.wikipedia.org/wiki/Special:CentralAutoLogin/start?type=1x1\n",
      "/static/images/footer/wikimedia-button.png\n",
      "/static/images/footer/poweredby_mediawiki_88x31.png\n"
     ]
    }
   ],
   "source": [
    "import requests\n",
    "from bs4 import BeautifulSoup\n",
    "\n",
    "url = 'https://en.wikipedia.org/wiki/Walt_Disney'\n",
    "response = requests.get(url)\n",
    "\n",
    "soup = BeautifulSoup(response.content, \"html.parser\")\n",
    "\n",
    "image_tags = soup.find_all(\"img\")\n",
    "\n",
    "for link in image_tags:\n",
    "    print(link.get('src'))"
   ]
  },
  {
   "cell_type": "markdown",
   "metadata": {},
   "source": [
    "#### 2.1. List all language names and number of related articles in the order they appear in wikipedia.org."
   ]
  },
  {
   "cell_type": "code",
   "execution_count": 86,
   "metadata": {},
   "outputs": [],
   "source": [
    "# This is the url you will scrape in this exercise\n",
    "url = 'https://www.wikipedia.org/'"
   ]
  },
  {
   "cell_type": "code",
   "execution_count": 96,
   "metadata": {},
   "outputs": [
    {
     "data": {
      "text/plain": [
       "[<div class=\"central-featured-lang lang1\" dir=\"ltr\" lang=\"en\">\n",
       " <a class=\"link-box\" data-slogan=\"The Free Encyclopedia\" href=\"//en.wikipedia.org/\" id=\"js-link-box-en\" title=\"English — Wikipedia — The Free Encyclopedia\">\n",
       " <strong>English</strong>\n",
       " <small><bdi dir=\"ltr\">6 644 000+</bdi> <span>articles</span></small>\n",
       " </a>\n",
       " </div>,\n",
       " <div class=\"central-featured-lang lang2\" dir=\"ltr\" lang=\"ru\">\n",
       " <a class=\"link-box\" data-slogan=\"Свободная энциклопедия\" href=\"//ru.wikipedia.org/\" id=\"js-link-box-ru\" title=\"Russkiy — Википедия — Свободная энциклопедия\">\n",
       " <strong>Русский</strong>\n",
       " <small><bdi dir=\"ltr\">1 909 000+</bdi> <span>статей</span></small>\n",
       " </a>\n",
       " </div>,\n",
       " <div class=\"central-featured-lang lang3\" dir=\"ltr\" lang=\"ja\">\n",
       " <a class=\"link-box\" data-slogan=\"フリー百科事典\" href=\"//ja.wikipedia.org/\" id=\"js-link-box-ja\" title=\"Nihongo — ウィキペディア — フリー百科事典\">\n",
       " <strong>日本語</strong>\n",
       " <small><bdi dir=\"ltr\">1 370 000+</bdi> <span>記事</span></small>\n",
       " </a>\n",
       " </div>,\n",
       " <div class=\"central-featured-lang lang4\" dir=\"ltr\" lang=\"de\">\n",
       " <a class=\"link-box\" data-slogan=\"Die freie Enzyklopädie\" href=\"//de.wikipedia.org/\" id=\"js-link-box-de\" title=\"Deutsch — Wikipedia — Die freie Enzyklopädie\">\n",
       " <strong>Deutsch</strong>\n",
       " <small><bdi dir=\"ltr\">2 792 000+</bdi> <span>Artikel</span></small>\n",
       " </a>\n",
       " </div>,\n",
       " <div class=\"central-featured-lang lang5\" dir=\"ltr\" lang=\"es\">\n",
       " <a class=\"link-box\" data-slogan=\"La enciclopedia libre\" href=\"//es.wikipedia.org/\" id=\"js-link-box-es\" title=\"Español — Wikipedia — La enciclopedia libre\">\n",
       " <strong>Español</strong>\n",
       " <small><bdi dir=\"ltr\">1 854 000+</bdi> <span>artículos</span></small>\n",
       " </a>\n",
       " </div>,\n",
       " <div class=\"central-featured-lang lang6\" dir=\"ltr\" lang=\"fr\">\n",
       " <a class=\"link-box\" data-slogan=\"L’encyclopédie libre\" href=\"//fr.wikipedia.org/\" id=\"js-link-box-fr\" title=\"français — Wikipédia — L’encyclopédie libre\">\n",
       " <strong>Français</strong>\n",
       " <small><bdi dir=\"ltr\">2 514 000+</bdi> <span>articles</span></small>\n",
       " </a>\n",
       " </div>,\n",
       " <div class=\"central-featured-lang lang7\" dir=\"ltr\" lang=\"it\">\n",
       " <a class=\"link-box\" data-slogan=\"L'enciclopedia libera\" href=\"//it.wikipedia.org/\" id=\"js-link-box-it\" title=\"Italiano — Wikipedia — L'enciclopedia libera\">\n",
       " <strong>Italiano</strong>\n",
       " <small><bdi dir=\"ltr\">1 806 000+</bdi> <span>voci</span></small>\n",
       " </a>\n",
       " </div>,\n",
       " <div class=\"central-featured-lang lang8\" dir=\"ltr\" lang=\"zh\">\n",
       " <a class=\"link-box jscnconv\" data-slogan=\"自由的百科全书 / 自由的百科全書\" data-title-hans=\"Zhōngwén — 维基百科 — 自由的百科全书\" data-title-hant=\"Zhōngwén — 維基百科 — 自由的百科全書\" href=\"//zh.wikipedia.org/\" id=\"js-link-box-zh\" title=\"Zhōngwén — 维基百科 / 維基百科 — 自由的百科全书 / 自由的百科全書\">\n",
       " <strong>中文</strong>\n",
       " <small><bdi dir=\"ltr\">1 347 000+</bdi> <span class=\"jscnconv\" data-hans=\"条目\" data-hant=\"條目\">条目 / 條目</span></small>\n",
       " </a>\n",
       " </div>,\n",
       " <div class=\"central-featured-lang lang9\" dir=\"rtl\" lang=\"fa\">\n",
       " <a class=\"link-box\" data-slogan=\"دانشنامهٔ آزاد\" href=\"//fa.wikipedia.org/\" id=\"js-link-box-fa\" title=\"Fārsi — ویکی‌پدیا — دانشنامهٔ آزاد\">\n",
       " <strong><bdi dir=\"rtl\">فارسی</bdi></strong>\n",
       " <small><bdi dir=\"ltr\">959 000+</bdi> <span>مقاله</span></small>\n",
       " </a>\n",
       " </div>,\n",
       " <div class=\"central-featured-lang lang10\" dir=\"ltr\" lang=\"pt\">\n",
       " <a class=\"link-box\" data-slogan=\"A enciclopédia livre\" href=\"//pt.wikipedia.org/\" id=\"js-link-box-pt\" title=\"Português — Wikipédia — A enciclopédia livre\">\n",
       " <strong>Português</strong>\n",
       " <small><bdi dir=\"ltr\">1 101 000+</bdi> <span>artigos</span></small>\n",
       " </a>\n",
       " </div>]"
      ]
     },
     "execution_count": 96,
     "metadata": {},
     "output_type": "execute_result"
    }
   ],
   "source": [
    "import requests\n",
    "from bs4 import BeautifulSoup\n",
    "\n",
    "response = requests.get(url)\n",
    "\n",
    "soup = BeautifulSoup(response.content, \"html.parser\")\n",
    "\n",
    "languages = soup.find_all(\"div\", attrs = {\"class\" : \"central-featured-lang\"})\n",
    "languages"
   ]
  },
  {
   "cell_type": "code",
   "execution_count": 100,
   "metadata": {},
   "outputs": [
    {
     "name": "stdout",
     "output_type": "stream",
     "text": [
      "language English has 6 644 000+ articles\n",
      "language Русский has 1 909 000+ articles\n",
      "language 日本語 has 1 370 000+ articles\n",
      "language Deutsch has 2 792 000+ articles\n",
      "language Español has 1 854 000+ articles\n",
      "language Français has 2 514 000+ articles\n",
      "language Italiano has 1 806 000+ articles\n",
      "language 中文 has 1 347 000+ articles\n",
      "language فارسی has فارسی articles\n",
      "language Português has 1 101 000+ articles\n"
     ]
    }
   ],
   "source": [
    "for div in languages:\n",
    "    language_title = div.find('strong').text\n",
    "    article_count = div.find('bdi').text\n",
    "    print(\"language \" + language_title + \" has \" + article_count + \" articles\")"
   ]
  },
  {
   "cell_type": "markdown",
   "metadata": {},
   "source": [
    "#### 2.2. Display the top 10 languages by number of native speakers stored in a pandas dataframe.\n",
    "Hint: After finding the correct table you want to analyse, you can use a nested **for** loop to find the elements row by row (check out the 'td' and 'tr' tags). <br>An easier way to do it is using pd.read_html(), check out documentation [here](https://pandas.pydata.org/pandas-docs/version/0.23.4/generated/pandas.read_html.html)."
   ]
  },
  {
   "cell_type": "code",
   "execution_count": 2,
   "metadata": {},
   "outputs": [],
   "source": [
    "# This is the url you will scrape in this exercise\n",
    "url = 'https://en.wikipedia.org/wiki/List_of_languages_by_number_of_native_speakers'"
   ]
  },
  {
   "cell_type": "code",
   "execution_count": 23,
   "metadata": {},
   "outputs": [
    {
     "name": "stdout",
     "output_type": "stream",
     "text": [
      "                                             Language  \\\n",
      "1   Mandarin Chinese(incl.Standard Chinese, but ex...   \n",
      "2                                             Spanish   \n",
      "3                                             English   \n",
      "4                Hindi(excl.Urdu, andother languages)   \n",
      "5                                          Portuguese   \n",
      "6                                             Bengali   \n",
      "7                                             Russian   \n",
      "8                                            Japanese   \n",
      "9                         Yue Chinese(incl.Cantonese)   \n",
      "10                                         Vietnamese   \n",
      "\n",
      "    Native speakers (millions) Language family        Branch  \n",
      "1                        939.0    Sino-Tibetan       Sinitic  \n",
      "2                        485.0   Indo-European       Romance  \n",
      "3                        380.0   Indo-European      Germanic  \n",
      "4                        345.0   Indo-European    Indo-Aryan  \n",
      "5                        236.0   Indo-European       Romance  \n",
      "6                        234.0   Indo-European    Indo-Aryan  \n",
      "7                        147.0   Indo-European  Balto-Slavic  \n",
      "8                        123.0         Japonic      Japanese  \n",
      "9                         86.1    Sino-Tibetan       Sinitic  \n",
      "10                        85.0   Austroasiatic        Vietic  \n"
     ]
    }
   ],
   "source": [
    "import pandas as pd\n",
    "import requests\n",
    "from bs4 import BeautifulSoup\n",
    "\n",
    "# Wikipedia URL with the table of languages by number of native speakers\n",
    "url = \"https://en.wikipedia.org/wiki/List_of_languages_by_number_of_native_speakers\"\n",
    "\n",
    "# Send an HTTP request to get the content of the webpage\n",
    "response = requests.get(url)\n",
    "\n",
    "# Parse the HTML content using BeautifulSoup\n",
    "soup = BeautifulSoup(response.content, \"html.parser\")\n",
    "\n",
    "# Find the table containing the language data\n",
    "scrape = soup.find_all(\"div\", attrs = {\"class\" : \"mw-body-content mw-content-ltr\"})\n",
    "target_class = \"wikitable sortable static-row-numbers\"\n",
    "table = soup.find_all('table', class_=target_class)\n",
    "\n",
    "# Assuming you want to analyze the first table with the target class\n",
    "if tables:\n",
    "    table = tables[0]\n",
    "\n",
    "    # Initialize a list to store the data from the table\n",
    "    table_data = []\n",
    "\n",
    "    # Iterate through each row in the table\n",
    "    for row in table.find_all('tr'):\n",
    "        row_data = []\n",
    "        # Iterate through each cell in the row\n",
    "        for cell in row.find_all('td'):\n",
    "            # Append the cell's content to the row_data list\n",
    "            row_data.append(cell.get_text(strip=True))\n",
    "        # Append the row_data list to the table_data list\n",
    "        table_data.append(row_data)\n",
    "else:\n",
    "    print(\"No table with the target class found.\")\n",
    "\n",
    "# Create a pandas DataFrame from the extracted table data\n",
    "df = pd.DataFrame(table_data, columns=[\"Language\", \"Native speakers (millions)\", \"Language family\", \"Branch\"])\n",
    "\n",
    "# Remove any rows with missing data\n",
    "df.dropna(inplace=True)\n",
    "\n",
    "# Convert \"Native speakers (millions)\" column to numeric\n",
    "df[\"Native speakers (millions)\"] = pd.to_numeric(df[\"Native speakers (millions)\"])\n",
    "\n",
    "# Sort the DataFrame by \"Native speakers (millions)\" in descending order\n",
    "df_sorted = df.sort_values(by=\"Native speakers (millions)\", ascending=False)\n",
    "\n",
    "# Display the top 10 languages\n",
    "top_10_languages = df_sorted.head(10)\n",
    "print(top_10_languages)"
   ]
  },
  {
   "cell_type": "code",
   "execution_count": null,
   "metadata": {},
   "outputs": [],
   "source": []
  },
  {
   "cell_type": "code",
   "execution_count": null,
   "metadata": {},
   "outputs": [],
   "source": []
  },
  {
   "cell_type": "code",
   "execution_count": null,
   "metadata": {},
   "outputs": [],
   "source": []
  },
  {
   "cell_type": "markdown",
   "metadata": {},
   "source": [
    "#### 3. Display IMDB's top 250 data (movie name, initial release, director name and stars) as a pandas dataframe.\n",
    "Hint: If you hover over the title of the movie, you should see the director's name. Can you find where it's stored in the html?"
   ]
  },
  {
   "cell_type": "code",
   "execution_count": null,
   "metadata": {},
   "outputs": [],
   "source": [
    "# This is the url you will scrape in this exercise \n",
    "url = 'https://www.imdb.com/chart/top'"
   ]
  },
  {
   "cell_type": "code",
   "execution_count": null,
   "metadata": {},
   "outputs": [],
   "source": [
    "#didnt know how to do it, when i hover i dont see the director name."
   ]
  },
  {
   "cell_type": "markdown",
   "metadata": {},
   "source": [
    "#### 3.1. Display the movie name, year and a brief summary of the top 10 random movies (IMDB) as a pandas dataframe."
   ]
  },
  {
   "cell_type": "code",
   "execution_count": 40,
   "metadata": {},
   "outputs": [],
   "source": [
    "#This is the url you will scrape in this exercise\n",
    "url = 'https://www.imdb.com/list/ls009796553/'"
   ]
  },
  {
   "cell_type": "code",
   "execution_count": 43,
   "metadata": {},
   "outputs": [
    {
     "name": "stdout",
     "output_type": "stream",
     "text": [
      "                Movie Name  Year  \\\n",
      "0  Nočná mora z Elm Street  1984   \n",
      "1               Awakenings  1990   \n",
      "2        Vel'ké vít'azstvo  1992   \n",
      "3             A Bronx Tale  1993   \n",
      "4   Angels in the Outfield  1994   \n",
      "5           A Time to Kill  1996   \n",
      "6                  Amistad  1997   \n",
      "7                 Anaconda  1997   \n",
      "8        A Cool, Dry Place  1998   \n",
      "9      Kult Hákového Kríža  1998   \n",
      "\n",
      "                                            Summary Rating  \n",
      "0                         R\\n|\\n91 min\\n|\\n\\nHorror    7.4  \n",
      "1                    121 min\\n|\\n\\nBiography, Drama    7.8  \n",
      "2         PG\\n|\\n128 min\\n|\\n\\nComedy, Drama, Sport    7.3  \n",
      "3                  R\\n|\\n121 min\\n|\\n\\nCrime, Drama    7.8  \n",
      "4      PG\\n|\\n102 min\\n|\\n\\nComedy, Family, Fantasy    6.2  \n",
      "5        R\\n|\\n149 min\\n|\\n\\nCrime, Drama, Thriller    7.5  \n",
      "6     R\\n|\\n155 min\\n|\\n\\nBiography, Drama, History    7.3  \n",
      "7  PG-13\\n|\\n89 min\\n|\\n\\nAction, Adventure, Horror    4.9  \n",
      "8                      PG-13\\n|\\n97 min\\n|\\n\\nDrama    6.2  \n",
      "9                  R\\n|\\n119 min\\n|\\n\\nCrime, Drama    8.5  \n"
     ]
    }
   ],
   "source": [
    "import pandas as pd\n",
    "import requests\n",
    "from bs4 import BeautifulSoup\n",
    "\n",
    "response = requests.get(url)\n",
    "soup = BeautifulSoup(response.content, \"html.parser\")\n",
    "movies = soup.find_all(\"div\", attrs={\"class\": \"lister-item-content\"})\n",
    "data = []\n",
    "\n",
    "for movie in movies[:10]:  # Selecting the top 10 movies\n",
    "    name_element = movie.find(\"a\")\n",
    "    year_element = movie.find(\"span\", attrs={\"class\": \"lister-item-year\"})\n",
    "    summary_element = movie.find(\"p\", attrs={\"class\": \"text-muted\"})\n",
    "    rating_element = movie.find(\"span\", attrs={\"class\": \"ipl-rating-star__rating\"})\n",
    "\n",
    "    movie_name = name_element.text.strip()\n",
    "    movie_year = year_element.text.strip(\"()\").strip()\n",
    "    movie_summary = summary_element.text.strip()\n",
    "    movie_rating = rating_element.text.strip() if rating_element else \"N/A\"\n",
    "\n",
    "    data.append({\n",
    "        \"Movie Name\": movie_name,\n",
    "        \"Year\": movie_year,\n",
    "        \"Summary\": movie_summary,\n",
    "        \"Rating\": movie_rating\n",
    "    })\n",
    "\n",
    "df = pd.DataFrame(data)\n",
    "\n",
    "print(df)\n",
    "\n"
   ]
  },
  {
   "cell_type": "markdown",
   "metadata": {},
   "source": [
    "## Bonus"
   ]
  },
  {
   "cell_type": "markdown",
   "metadata": {},
   "source": [
    "#### Find the live weather report (temperature, wind speed, description and weather) of a given city."
   ]
  },
  {
   "cell_type": "code",
   "execution_count": null,
   "metadata": {},
   "outputs": [],
   "source": [
    "#https://openweathermap.org/current\n",
    "city = input('Enter the city: ')\n",
    "url = 'http://api.openweathermap.org/data/2.5/weather?'+'q='+city+'&APPID=b35975e18dc93725acb092f7272cc6b8&units=metric'"
   ]
  },
  {
   "cell_type": "code",
   "execution_count": null,
   "metadata": {},
   "outputs": [],
   "source": [
    "# your code here"
   ]
  },
  {
   "cell_type": "markdown",
   "metadata": {},
   "source": [
    "#### Find the book name, price and stock availability as a pandas dataframe."
   ]
  },
  {
   "cell_type": "code",
   "execution_count": null,
   "metadata": {},
   "outputs": [],
   "source": [
    "# This is the url you will scrape in this exercise. \n",
    "# It is a fictional bookstore created to be scraped. \n",
    "url = 'http://books.toscrape.com/'"
   ]
  },
  {
   "cell_type": "code",
   "execution_count": null,
   "metadata": {},
   "outputs": [],
   "source": [
    "# your code here"
   ]
  },
  {
   "cell_type": "markdown",
   "metadata": {},
   "source": [
    "####  Display the 100 latest earthquakes info (date, time, latitude, longitude and region name) by the EMSC as a pandas dataframe.\n",
    "***Hint:*** Here the displayed number of earthquakes per page is 20, but you can easily move to the next page by looping through the desired number of pages and adding it to the end of the url."
   ]
  },
  {
   "cell_type": "code",
   "execution_count": 70,
   "metadata": {},
   "outputs": [
    {
     "data": {
      "text/plain": [
       "['https://www.emsc-csem.org/Earthquake/?view=1',\n",
       " 'https://www.emsc-csem.org/Earthquake/?view=2',\n",
       " 'https://www.emsc-csem.org/Earthquake/?view=3',\n",
       " 'https://www.emsc-csem.org/Earthquake/?view=4',\n",
       " 'https://www.emsc-csem.org/Earthquake/?view=5']"
      ]
     },
     "execution_count": 70,
     "metadata": {},
     "output_type": "execute_result"
    }
   ],
   "source": [
    "# This is the url you will scrape in this exercise\n",
    "url = 'https://www.emsc-csem.org/Earthquake/?view='\n",
    "\n",
    "# This is how you will loop through each page:\n",
    "number_of_pages = int(100/20)\n",
    "each_page_urls = []\n",
    "\n",
    "for n in range(1, number_of_pages+1):\n",
    "    link = url+str(n)\n",
    "    each_page_urls.append(link)\n",
    "    \n",
    "each_page_urls"
   ]
  },
  {
   "cell_type": "code",
   "execution_count": null,
   "metadata": {},
   "outputs": [],
   "source": [
    "# your code here"
   ]
  }
 ],
 "metadata": {
  "kernelspec": {
   "display_name": "Python 3 (ipykernel)",
   "language": "python",
   "name": "python3"
  },
  "language_info": {
   "codemirror_mode": {
    "name": "ipython",
    "version": 3
   },
   "file_extension": ".py",
   "mimetype": "text/x-python",
   "name": "python",
   "nbconvert_exporter": "python",
   "pygments_lexer": "ipython3",
   "version": "3.9.13"
  }
 },
 "nbformat": 4,
 "nbformat_minor": 2
}
