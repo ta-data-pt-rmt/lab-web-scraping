{
 "cells": [
  {
   "cell_type": "markdown",
   "metadata": {},
   "source": [
    "# Web Scraping Lab\n",
    "\n",
    "You will find in this notebook some scrapy exercises to practise your scraping skills.\n",
    "\n",
    "**Tips:**\n",
    "\n",
    "- Check the response status code for each request to ensure you have obtained the intended content.\n",
    "- Print the response text in each request to understand the kind of info you are getting and its format.\n",
    "- Check for patterns in the response text to extract the data/info requested in each question.\n",
    "- Visit the urls below and take a look at their source code through Chrome DevTools. You'll need to identify the html tags, special class names, etc used in the html content you are expected to extract.\n",
    "\n",
    "**Resources**:\n",
    "- [Requests library](http://docs.python-requests.org/en/master/#the-user-guide)\n",
    "- [Beautiful Soup Doc](https://www.crummy.com/software/BeautifulSoup/bs4/doc/)\n",
    "- [Urllib](https://docs.python.org/3/library/urllib.html#module-urllib)\n",
    "- [re lib](https://docs.python.org/3/library/re.html)\n",
    "- [lxml lib](https://lxml.de/)\n",
    "- [Scrapy](https://scrapy.org/)\n",
    "- [List of HTTP status codes](https://en.wikipedia.org/wiki/List_of_HTTP_status_codes)\n",
    "- [HTML basics](http://www.simplehtmlguide.com/cheatsheet.php)\n",
    "- [CSS basics](https://www.cssbasics.com/#page_start)"
   ]
  },
  {
   "cell_type": "markdown",
   "metadata": {},
   "source": [
    "#### Below are the libraries and modules you may need. `requests`,  `BeautifulSoup` and `pandas` are already imported for you. If you prefer to use additional libraries feel free to do it."
   ]
  },
  {
   "cell_type": "code",
   "execution_count": null,
   "metadata": {},
   "outputs": [],
   "source": [
    "import requests\n",
    "from bs4 import BeautifulSoup\n",
    "import pandas as pd\n",
    "import numpy as np\n",
    "import re"
   ]
  },
  {
   "cell_type": "markdown",
   "metadata": {},
   "source": [
    "#### Download, parse (using BeautifulSoup), and print the content from the Trending Developers page from GitHub:"
   ]
  },
  {
   "cell_type": "code",
   "execution_count": null,
   "metadata": {},
   "outputs": [],
   "source": [
    "# This is the url you will scrape in this exercise\n",
    "\n",
    "url = 'https://github.com/trending/developers'"
   ]
  },
  {
   "cell_type": "code",
   "execution_count": null,
   "metadata": {},
   "outputs": [],
   "source": [
    "response = requests.get(url)\n",
    "\n",
    "soup = BeautifulSoup(response.content)\n",
    "\n",
    "print(soup.prettify())"
   ]
  },
  {
   "cell_type": "markdown",
   "metadata": {},
   "source": [
    "#### 1. Display the names of the trending developers retrieved in the previous step.\n",
    "\n",
    "Your output should be a Python list of developer names. Each name should not contain any html tag.\n",
    "\n",
    "**Instructions:**\n",
    "\n",
    "1. Find out the html tag and class names used for the developer names. You can achieve this using Chrome DevTools or clicking in 'Inspect' on any browser. Here is an example:\n",
    "\n",
    "![title](example_1.png)\n",
    "\n",
    "2. Use BeautifulSoup `find_all()` to extract all the html elements that contain the developer names. Hint: pass in the `attrs` parameter to specify the class.\n",
    "\n",
    "3. Loop through the elements found and get the text for each of them.\n",
    "\n",
    "4. While you are at it, use string manipulation techniques to replace whitespaces and linebreaks (i.e. `\\n`) in the *text* of each html element. Use a list to store the clean names. Hint: you may also use `.get_text()` instead of `.text` and pass in the desired parameters to do some string manipulation (check the documentation).\n",
    "\n",
    "5. Print the list of names.\n",
    "\n",
    "Your output should look like below:\n",
    "\n",
    "```\n",
    "['trimstray (@trimstray)',\n",
    " 'joewalnes (JoeWalnes)',\n",
    " 'charlax (Charles-AxelDein)',\n",
    " 'ForrestKnight (ForrestKnight)',\n",
    " 'revery-ui (revery-ui)',\n",
    " 'alibaba (Alibaba)',\n",
    " 'Microsoft (Microsoft)',\n",
    " 'github (GitHub)',\n",
    " 'facebook (Facebook)',\n",
    " 'boazsegev (Bo)',\n",
    " 'google (Google)',\n",
    " 'cloudfetch',\n",
    " 'sindresorhus (SindreSorhus)',\n",
    " 'tensorflow',\n",
    " 'apache (TheApacheSoftwareFoundation)',\n",
    " 'DevonCrawford (DevonCrawford)',\n",
    " 'ARMmbed (ArmMbed)',\n",
    " 'vuejs (vuejs)',\n",
    " 'fastai (fast.ai)',\n",
    " 'QiShaoXuan (Qi)',\n",
    " 'joelparkerhenderson (JoelParkerHenderson)',\n",
    " 'torvalds (LinusTorvalds)',\n",
    " 'CyC2018',\n",
    " 'komeiji-satori (神楽坂覚々)',\n",
    " 'script-8']\n",
    " ```"
   ]
  },
  {
   "cell_type": "code",
   "execution_count": null,
   "metadata": {},
   "outputs": [],
   "source": [
    "dev_boxes = soup.find_all('article', attrs = {'class': 'Box-row d-flex'})\n",
    "\n",
    "dev_names = [name.find_all('a')[2].text.replace('\\n', '').strip() for name in dev_boxes]\n",
    "dev_aliases = [name.find_all('a')[3].text.replace('\\n', '').strip() for name in dev_boxes]\n",
    "\n",
    "# Some devs didn't set an alias\n",
    "for index, alias in enumerate(dev_aliases):\n",
    "   if alias == 'Follow': dev_aliases[index], dev_names[index] = dev_names[index], ''\n",
    "\n",
    "devs = [f'{dev[0]} ({dev[1]})'.replace('()', '').strip() for dev in list(zip(dev_aliases, dev_names))]\n",
    "\n",
    "devs"
   ]
  },
  {
   "cell_type": "markdown",
   "metadata": {},
   "source": [
    "#### 1.1. Display the trending Python repositories in GitHub.\n",
    "\n",
    "The steps to solve this problem is similar to the previous one except that you need to find out the repository names instead of developer names."
   ]
  },
  {
   "cell_type": "code",
   "execution_count": null,
   "metadata": {},
   "outputs": [],
   "source": [
    "# This is the url you will scrape in this exercise\n",
    "\n",
    "url = 'https://github.com/trending/python?since=daily'"
   ]
  },
  {
   "cell_type": "code",
   "execution_count": null,
   "metadata": {},
   "outputs": [],
   "source": [
    "response = requests.get(url)\n",
    "\n",
    "soup = BeautifulSoup(response.content)\n",
    "\n",
    "repos = soup.find_all('h1', attrs = {'class': 'h3 lh-condensed'})\n",
    "repos = [repo.get_text().replace('\\n', '').replace(' ', '') for repo in repos]\n",
    "\n",
    "repos"
   ]
  },
  {
   "cell_type": "markdown",
   "metadata": {},
   "source": [
    "#### 2. Display all the image links from Walt Disney wikipedia page.\n",
    "Hint: use `.get()` to access information inside tags. Check out the documentation."
   ]
  },
  {
   "cell_type": "code",
   "execution_count": null,
   "metadata": {},
   "outputs": [],
   "source": [
    "# This is the url you will scrape in this exercise\n",
    "\n",
    "url = 'https://en.wikipedia.org/wiki/Walt_Disney'"
   ]
  },
  {
   "cell_type": "code",
   "execution_count": null,
   "metadata": {},
   "outputs": [],
   "source": [
    "response = requests.get(url)\n",
    "\n",
    "soup = BeautifulSoup(response.content)\n",
    "\n",
    "infobox_img_link = soup.find('td', attrs = {'class': 'infobox-image'}).a.img['src'].replace('//', '')\n",
    "thumb_images_list = soup.find_all('img', attrs = {'class': 'thumbimage'})\n",
    "\n",
    "image_links = [infobox_img_link] + [image['src'].replace('//', '') for image in thumb_images_list]\n",
    "\n",
    "image_links"
   ]
  },
  {
   "cell_type": "markdown",
   "metadata": {},
   "source": [
    "#### 2.1. List all language names and number of related articles in the order they appear in wikipedia.org."
   ]
  },
  {
   "cell_type": "code",
   "execution_count": null,
   "metadata": {},
   "outputs": [],
   "source": [
    "# This is the url you will scrape in this exercise\n",
    "\n",
    "url = 'https://www.wikipedia.org/'"
   ]
  },
  {
   "cell_type": "code",
   "execution_count": null,
   "metadata": {},
   "outputs": [],
   "source": [
    "response = requests.get(url)\n",
    "\n",
    "soup = BeautifulSoup(response.content)\n",
    "\n",
    "boxes = soup.find_all('a', attrs = {'class': 'link-box'})\n",
    "\n",
    "languages = [box.strong.text for box in boxes]\n",
    "articles = [int(box.small.bdi.string.replace('\\xa0', '').replace('+', '')) for box in boxes]\n",
    "\n",
    "languages_articles = list(zip(languages, articles))\n",
    "\n",
    "languages_articles"
   ]
  },
  {
   "cell_type": "markdown",
   "metadata": {},
   "source": [
    "#### 2.2. Display the top 10 languages by number of native speakers stored in a pandas dataframe.\n",
    "Hint: After finding the correct table you want to analyse, you can use a nested **for** loop to find the elements row by row (check out the 'td' and 'tr' tags). <br>An easier way to do it is using pd.read_html(), check out documentation [here](https://pandas.pydata.org/pandas-docs/version/0.23.4/generated/pandas.read_html.html)."
   ]
  },
  {
   "cell_type": "code",
   "execution_count": null,
   "metadata": {},
   "outputs": [],
   "source": [
    "# This is the url you will scrape in this exercise\n",
    "\n",
    "url = 'https://en.wikipedia.org/wiki/List_of_languages_by_number_of_native_speakers'"
   ]
  },
  {
   "cell_type": "code",
   "execution_count": null,
   "metadata": {},
   "outputs": [],
   "source": [
    "languages = pd.read_html(url)[0].iloc[:10, :2]\n",
    "languages.index += 1\n",
    "\n",
    "languages"
   ]
  },
  {
   "cell_type": "markdown",
   "metadata": {},
   "source": [
    "#### 3. Display IMDB's top 250 data (movie name, initial release, director name and stars) as a pandas dataframe.\n",
    "Hint: If you hover over the title of the movie, you should see the director's name. Can you find where it's stored in the html?"
   ]
  },
  {
   "cell_type": "code",
   "execution_count": null,
   "metadata": {},
   "outputs": [],
   "source": [
    "# This is the url you will scrape in this exercise\n",
    "\n",
    "url = 'https://www.imdb.com/chart/top'"
   ]
  },
  {
   "cell_type": "code",
   "execution_count": null,
   "metadata": {},
   "outputs": [],
   "source": [
    "response = requests.get(url, headers = {'Accept-Language': 'en-US'})\n",
    "\n",
    "soup = BeautifulSoup(response.content)\n",
    "\n",
    "boxes = soup.find_all('td', attrs = {'class': 'titleColumn'})\n",
    "\n",
    "movie_data = []\n",
    "\n",
    "for box in boxes:\n",
    "   movie = []\n",
    "   title_year = box.text.split()\n",
    "   movie += [' '.join(title_year[1: -1])] + [int(title_year[-1][1: -1])]\n",
    "   dir_stars = box.a['title'].split(', ')\n",
    "   movie += [dir_stars[0].replace(' (dir.)', '')] + [dir_stars[1:]]\n",
    "   movie_data.append(movie)\n",
    "\n",
    "movie_data = pd.DataFrame(movie_data, columns = ['Movie', 'Year', 'Director', 'Actors'])\n",
    "movie_data.index += 1\n",
    "\n",
    "movie_data"
   ]
  },
  {
   "cell_type": "markdown",
   "metadata": {},
   "source": [
    "#### 3.1. Display the movie name, year and a brief summary of the top 10 random movies (IMDB) as a pandas dataframe."
   ]
  },
  {
   "cell_type": "code",
   "execution_count": null,
   "metadata": {},
   "outputs": [],
   "source": [
    "# This is the url you will scrape in this exercise\n",
    "\n",
    "url = 'https://www.imdb.com/list/ls009796553/'"
   ]
  },
  {
   "cell_type": "code",
   "execution_count": null,
   "metadata": {},
   "outputs": [],
   "source": [
    "response = requests.get(url, headers = {'Accept-Language': 'en-US'})\n",
    "\n",
    "soup = BeautifulSoup(response.content)\n",
    "\n",
    "boxes = soup.find_all('div', attrs = {'class': 'lister-item-content'})[:10]\n",
    "\n",
    "rdm_movies = [(box.a.text, int(box.find_all('span')[1].text[1: -1]), box.find_all('p')[1].text.replace('\\n', '')) for box in boxes]\n",
    "\n",
    "rdm_movies = pd.DataFrame(rdm_movies, columns = ['Movie', 'Year', 'Description'])\n",
    "rdm_movies.index += 1\n",
    "\n",
    "rdm_movies"
   ]
  },
  {
   "cell_type": "markdown",
   "metadata": {},
   "source": [
    "## Bonus"
   ]
  },
  {
   "cell_type": "markdown",
   "metadata": {},
   "source": [
    "#### Find the live weather report (temperature, wind speed, description and weather) of a given city."
   ]
  },
  {
   "cell_type": "code",
   "execution_count": null,
   "metadata": {},
   "outputs": [],
   "source": [
    "# https://openweathermap.org/current\n",
    "\n",
    "# city = input('Enter the city: ')\n",
    "\n",
    "# url = 'http://api.openweathermap.org/data/2.5/weather?'+'q='+city+'&APPID=b35975e18dc93725acb092f7272cc6b8&units=metric'\n",
    "\n",
    "# PROVIDED API-KEY IS NOT ACTIVE/OUTDATED\n",
    "\n",
    "# used another api key and dumped the response for 'Vienna' in 'weather_vienna.json'"
   ]
  },
  {
   "cell_type": "code",
   "execution_count": null,
   "metadata": {},
   "outputs": [],
   "source": [
    "import json\n",
    "\n",
    "with open('weather_vienna.json') as weather:\n",
    "   vienna = json.load(weather)\n",
    "\n",
    "vienna = [vienna['name'], vienna['main']['temp'], vienna['wind']['speed'], vienna['weather'][0]['description'], vienna['weather'][0]['main']]\n",
    "\n",
    "vienna = pd.DataFrame(data = [vienna], columns = ['City', 'Temperature', 'Wind speed', 'Description', 'Weather'])\n",
    "vienna.index += 1\n",
    "\n",
    "vienna"
   ]
  },
  {
   "cell_type": "markdown",
   "metadata": {},
   "source": [
    "#### Find the book name, price and stock availability as a pandas dataframe."
   ]
  },
  {
   "cell_type": "code",
   "execution_count": null,
   "metadata": {},
   "outputs": [],
   "source": [
    "# This is the url you will scrape in this exercise.\n",
    "# It is a fictional bookstore created to be scraped.\n",
    "\n",
    "url = 'http://books.toscrape.com/'"
   ]
  },
  {
   "cell_type": "code",
   "execution_count": null,
   "metadata": {},
   "outputs": [],
   "source": [
    "response = requests.get(url)\n",
    "\n",
    "soup = BeautifulSoup(response.content)\n",
    "\n",
    "boxes = soup.find_all('article', attrs = {'class': 'product_pod'})\n",
    "\n",
    "books = [(box.h3.a['title'], box.find_all('p')[1].text, box.find_all('p')[2].text.strip()) for box in boxes]\n",
    "\n",
    "books = pd.DataFrame(books, columns = ['Title', 'Price', 'Availability'])\n",
    "books['Price'] = books['Price'].str.replace('£', '').astype(float)\n",
    "books.index += 1\n",
    "\n",
    "books"
   ]
  },
  {
   "cell_type": "markdown",
   "metadata": {},
   "source": [
    "####  Display the 100 latest earthquakes info (date, time, latitude, longitude and region name) by the EMSC as a pandas dataframe.\n",
    "***Hint:*** Here the displayed number of earthquakes per page is 20, but you can easily move to the next page by looping through the desired number of pages and adding it to the end of the url."
   ]
  },
  {
   "cell_type": "code",
   "execution_count": null,
   "metadata": {},
   "outputs": [],
   "source": [
    "# This is the url you will scrape in this exercise\n",
    "\n",
    "url = 'https://www.emsc-csem.org/Earthquake/?view='"
   ]
  },
  {
   "cell_type": "code",
   "execution_count": null,
   "metadata": {},
   "outputs": [],
   "source": [
    "# This is how you will loop through each page:\n",
    "\n",
    "number_of_pages = int(100 / 20)\n",
    "each_page_urls = []\n",
    "\n",
    "for n in range(1, number_of_pages + 1):\n",
    "    link = url + str(n)\n",
    "    each_page_urls.append(link)\n",
    "    \n",
    "each_page_urls"
   ]
  },
  {
   "cell_type": "code",
   "execution_count": null,
   "metadata": {},
   "outputs": [],
   "source": [
    "quakes = pd.DataFrame()\n",
    "\n",
    "for link in each_page_urls:\n",
    "   page_view = pd.read_html(link)[3]\n",
    "   page_view.columns = page_view.columns.droplevel(1)\n",
    "   quakes = pd.concat([quakes, page_view])\n",
    "\n",
    "quakes = quakes.iloc[:, [3, 4, 6, 11]]\n",
    "quakes.columns = ['Date & Time UTC', 'Latitude', 'Longitude', 'Region']\n",
    "\n",
    "quakes['Region'].replace(['12345678910»', '12345678910»'], np.nan, inplace = True)\n",
    "quakes = quakes[quakes['Region'].notna()].reset_index(drop = True)[:100]\n",
    "\n",
    "quakes['Date'] = quakes['Date & Time UTC'].apply(lambda x: x.split()[0])\n",
    "quakes['Time'] = quakes['Date & Time UTC'].apply(lambda x: re.findall('\\d{2}:\\d{2}:\\d{2}', x)[0])\n",
    "quakes.drop(['Date & Time UTC'], axis = 1, inplace = True)\n",
    "\n",
    "quakes['Region'] = quakes['Region'].apply(lambda x: x.title())\n",
    "\n",
    "quakes = quakes[['Date', 'Time', 'Latitude', 'Longitude', 'Region']]\n",
    "quakes.index += 1\n",
    "\n",
    "quakes"
   ]
  }
 ],
 "metadata": {
  "kernelspec": {
   "display_name": "Python 3.9.12 ('base')",
   "language": "python",
   "name": "python3"
  },
  "language_info": {
   "codemirror_mode": {
    "name": "ipython",
    "version": 3
   },
   "file_extension": ".py",
   "mimetype": "text/x-python",
   "name": "python",
   "nbconvert_exporter": "python",
   "pygments_lexer": "ipython3",
   "version": "3.9.12"
  },
  "vscode": {
   "interpreter": {
    "hash": "3a677cc3a62f2d81855f233fae469a5f43f070d97a640d213221ee6c91be41b5"
   }
  }
 },
 "nbformat": 4,
 "nbformat_minor": 2
}
