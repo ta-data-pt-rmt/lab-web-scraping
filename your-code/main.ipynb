{
  "cells": [
    {
      "cell_type": "markdown",
      "metadata": {
        "id": "224Pvn1zzSZm"
      },
      "source": [
        "# Web Scraping Lab\n",
        "\n",
        "You will find in this notebook some scrapy exercises to practise your scraping skills.\n",
        "\n",
        "**Tips:**\n",
        "\n",
        "- Check the response status code for each request to ensure you have obtained the intended content.\n",
        "- Print the response text in each request to understand the kind of info you are getting and its format.\n",
        "- Check for patterns in the response text to extract the data/info requested in each question.\n",
        "- Visit the urls below and take a look at their source code through Chrome DevTools. You'll need to identify the html tags, special class names, etc used in the html content you are expected to extract.\n",
        "\n",
        "**Resources**:\n",
        "- [Requests library](http://docs.python-requests.org/en/master/#the-user-guide)\n",
        "- [Beautiful Soup Doc](https://www.crummy.com/software/BeautifulSoup/bs4/doc/)\n",
        "- [Urllib](https://docs.python.org/3/library/urllib.html#module-urllib)\n",
        "- [re lib](https://docs.python.org/3/library/re.html)\n",
        "- [lxml lib](https://lxml.de/)\n",
        "- [Scrapy](https://scrapy.org/)\n",
        "- [List of HTTP status codes](https://en.wikipedia.org/wiki/List_of_HTTP_status_codes)\n",
        "- [HTML basics](http://www.simplehtmlguide.com/cheatsheet.php)\n",
        "- [CSS basics](https://www.cssbasics.com/#page_start)"
      ]
    },
    {
      "cell_type": "markdown",
      "metadata": {
        "id": "CjYuizHqzSZo"
      },
      "source": [
        "#### Below are the libraries and modules you may need. `requests`,  `BeautifulSoup` and `pandas` are already imported for you. If you prefer to use additional libraries feel free to do it."
      ]
    },
    {
      "cell_type": "code",
      "execution_count": 130,
      "metadata": {
        "id": "GCw1hOhyzSZp"
      },
      "outputs": [],
      "source": [
        "import requests\n",
        "from bs4 import BeautifulSoup\n",
        "import pandas as pd"
      ]
    },
    {
      "cell_type": "markdown",
      "metadata": {
        "id": "IAPRRYEJzSZq"
      },
      "source": [
        "#### Download, parse (using BeautifulSoup), and print the content from the Trending Developers page from GitHub:"
      ]
    },
    {
      "cell_type": "code",
      "execution_count": 131,
      "metadata": {
        "id": "Ankz6qRuzSZq"
      },
      "outputs": [],
      "source": [
        "# This is the url you will scrape in this exercise\n",
        "url = 'https://github.com/trending/developers'"
      ]
    },
    {
      "cell_type": "code",
      "execution_count": 132,
      "metadata": {
        "id": "WG9XuxKMzSZq"
      },
      "outputs": [],
      "source": [
        "# your code here\n",
        "response = requests.get(url)"
      ]
    },
    {
      "cell_type": "code",
      "source": [
        "response.status_code"
      ],
      "metadata": {
        "colab": {
          "base_uri": "https://localhost:8080/"
        },
        "id": "OuZd1SSn0euL",
        "outputId": "9f99942d-10bd-477f-d6a6-7feeb12467f1"
      },
      "execution_count": 133,
      "outputs": [
        {
          "output_type": "execute_result",
          "data": {
            "text/plain": [
              "200"
            ]
          },
          "metadata": {},
          "execution_count": 133
        }
      ]
    },
    {
      "cell_type": "code",
      "source": [
        "soup = BeautifulSoup(response.content)"
      ],
      "metadata": {
        "id": "eZLE6slRzvJt"
      },
      "execution_count": 134,
      "outputs": []
    },
    {
      "cell_type": "markdown",
      "metadata": {
        "id": "LhRN-el6zSZr"
      },
      "source": [
        "#### 1. Display the names of the trending developers retrieved in the previous step.\n",
        "\n",
        "Your output should be a Python list of developer names. Each name should not contain any html tag.\n",
        "\n",
        "**Instructions:**\n",
        "\n",
        "1. Find out the html tag and class names used for the developer names. You can achieve this using Chrome DevTools or clicking in 'Inspect' on any browser. Here is an example:\n",
        "\n",
        "![title](example_1.png)\n",
        "\n",
        "2. Use BeautifulSoup `find_all()` to extract all the html elements that contain the developer names. Hint: pass in the `attrs` parameter to specify the class.\n",
        "\n",
        "3. Loop through the elements found and get the text for each of them.\n",
        "\n",
        "4. While you are at it, use string manipulation techniques to replace whitespaces and linebreaks (i.e. `\\n`) in the *text* of each html element. Use a list to store the clean names. Hint: you may also use `.get_text()` instead of `.text` and pass in the desired parameters to do some string manipulation (check the documentation).\n",
        "\n",
        "5. Print the list of names.\n",
        "\n",
        "Your output should look like below:\n",
        "\n",
        "```\n",
        "['trimstray (@trimstray)',\n",
        " 'joewalnes (JoeWalnes)',\n",
        " 'charlax (Charles-AxelDein)',\n",
        " 'ForrestKnight (ForrestKnight)',\n",
        " 'revery-ui (revery-ui)',\n",
        " 'alibaba (Alibaba)',\n",
        " 'Microsoft (Microsoft)',\n",
        " 'github (GitHub)',\n",
        " 'facebook (Facebook)',\n",
        " 'boazsegev (Bo)',\n",
        " 'google (Google)',\n",
        " 'cloudfetch',\n",
        " 'sindresorhus (SindreSorhus)',\n",
        " 'tensorflow',\n",
        " 'apache (TheApacheSoftwareFoundation)',\n",
        " 'DevonCrawford (DevonCrawford)',\n",
        " 'ARMmbed (ArmMbed)',\n",
        " 'vuejs (vuejs)',\n",
        " 'fastai (fast.ai)',\n",
        " 'QiShaoXuan (Qi)',\n",
        " 'joelparkerhenderson (JoelParkerHenderson)',\n",
        " 'torvalds (LinusTorvalds)',\n",
        " 'CyC2018',\n",
        " 'komeiji-satori (神楽坂覚々)',\n",
        " 'script-8']\n",
        " ```"
      ]
    },
    {
      "cell_type": "code",
      "source": [
        "import time"
      ],
      "metadata": {
        "id": "cgKwYNRR4pVI"
      },
      "execution_count": 135,
      "outputs": []
    },
    {
      "cell_type": "code",
      "source": [
        "trending_rows = soup.find_all('article',attrs={'class':'Box-row d-flex'})\n",
        "\n",
        "trending_list=[]\n",
        "\n",
        "for trending_row in trending_rows:\n",
        "  time.sleep(5)\n",
        "  \n",
        "  try:\n",
        "\n",
        "    name=trending_row.find_all('a')[2].get_text().strip()\n",
        "    nick=trending_row.find_all('a')[3].get_text().strip()\n",
        "\n",
        "    info=name+' ('+nick+')'\n",
        "\n",
        "    trending_list.append(info)\n",
        "  \n",
        "  except:\n",
        "    pass"
      ],
      "metadata": {
        "id": "LSSamv0E4S-H"
      },
      "execution_count": 136,
      "outputs": []
    },
    {
      "cell_type": "code",
      "source": [
        "trending_list"
      ],
      "metadata": {
        "colab": {
          "base_uri": "https://localhost:8080/"
        },
        "id": "bZMRvMtK5UOm",
        "outputId": "24503b91-234d-489b-8fd4-3130730de568"
      },
      "execution_count": 137,
      "outputs": [
        {
          "output_type": "execute_result",
          "data": {
            "text/plain": [
              "['Charlie Marsh (charliermarsh)',\n",
              " 'Pahud Hsieh (pahud)',\n",
              " 'Donny/강동윤 (kdy1)',\n",
              " 'Munif Tanjim (MunifTanjim)',\n",
              " 'Charles Kerr (ckerr)',\n",
              " 'Bram Gerritsen (bramstroker)',\n",
              " 'Bolaji Olajide (BolajiOlajide)',\n",
              " 'Ben Johnson (benbjohnson)',\n",
              " 'Brian Smith (briansmith)',\n",
              " 'Hans-Kristian Arntzen (HansKristian-Work)',\n",
              " 'Klaus Post (klauspost)',\n",
              " 'Otacilio Saraiva Maia Neto (OtacilioN)',\n",
              " 'Thibault Duplessis (ornicar)',\n",
              " 'Casey Rodarmor (casey)',\n",
              " 'Earle F. Philhower, III (earlephilhower)',\n",
              " 'Rick Anderson (Rick-Anderson)',\n",
              " 'Matthias Fey (rusty1s)',\n",
              " 'Mateusz Paprocki (mattpap)',\n",
              " 'MishManners®™ (mishmanners)',\n",
              " 'NachoSoto (NachoSoto)',\n",
              " 'Stefano Gottardo (CastagnaIT)',\n",
              " 'Nathan Raw (nateraw)',\n",
              " 'Tom Payne (twpayne)',\n",
              " 'Ariel Mashraki (a8m)',\n",
              " 'Henrik Rydgård (hrydgard)']"
            ]
          },
          "metadata": {},
          "execution_count": 137
        }
      ]
    },
    {
      "cell_type": "markdown",
      "metadata": {
        "id": "VHhga6tDzSZs"
      },
      "source": [
        "#### 1.1. Display the trending Python repositories in GitHub.\n",
        "\n",
        "The steps to solve this problem is similar to the previous one except that you need to find out the repository names instead of developer names."
      ]
    },
    {
      "cell_type": "code",
      "execution_count": 138,
      "metadata": {
        "id": "EVl_qtHzzSZs"
      },
      "outputs": [],
      "source": [
        "# This is the url you will scrape in this exercise\n",
        "url = 'https://github.com/trending/python?since=daily'"
      ]
    },
    {
      "cell_type": "code",
      "execution_count": 139,
      "metadata": {
        "id": "pyQt1_3L7-la"
      },
      "outputs": [],
      "source": [
        "# your code here\n",
        "response = requests.get(url)"
      ]
    },
    {
      "cell_type": "code",
      "source": [
        "response.status_code"
      ],
      "metadata": {
        "colab": {
          "base_uri": "https://localhost:8080/"
        },
        "outputId": "e0620409-e924-423b-96a5-4e06a8be4b99",
        "id": "KL6QsLVU7-lg"
      },
      "execution_count": 140,
      "outputs": [
        {
          "output_type": "execute_result",
          "data": {
            "text/plain": [
              "200"
            ]
          },
          "metadata": {},
          "execution_count": 140
        }
      ]
    },
    {
      "cell_type": "code",
      "source": [
        "soup = BeautifulSoup(response.content)"
      ],
      "metadata": {
        "id": "u4aU8uET7-lg"
      },
      "execution_count": 141,
      "outputs": []
    },
    {
      "cell_type": "code",
      "source": [
        "repositories = soup.find_all('article',attrs={'class':'Box-row'})\n",
        "\n",
        "repository_list=[]\n",
        "\n",
        "for repository in repositories:\n",
        "  time.sleep(5)\n",
        "  \n",
        "  try:\n",
        "    print('Working on...')\n",
        "\n",
        "    name=repository.find_all('a')[1].get_text().strip().replace('\\n', '').replace(\" \", \"\")\n",
        "\n",
        "    if name =='Star':\n",
        "      name1=repository.find_all('a')[2].get_text().strip().replace('\\n', '').replace(\" \", \"\")\n",
        "\n",
        "      repository_list.append(name1)\n",
        "    else:\n",
        "      repository_list.append(name)\n",
        "  \n",
        "  except:\n",
        "    pass"
      ],
      "metadata": {
        "colab": {
          "base_uri": "https://localhost:8080/"
        },
        "id": "UrrW9TJl8qUr",
        "outputId": "87718095-5524-4341-d6d5-fd18c800dbbd"
      },
      "execution_count": null,
      "outputs": [
        {
          "output_type": "stream",
          "name": "stdout",
          "text": [
            "Working on...\n",
            "Working on...\n",
            "Working on...\n",
            "Working on...\n",
            "Working on...\n",
            "Working on...\n",
            "Working on...\n",
            "Working on...\n",
            "Working on...\n",
            "Working on...\n",
            "Working on...\n",
            "Working on...\n",
            "Working on...\n",
            "Working on...\n",
            "Working on...\n",
            "Working on...\n",
            "Working on...\n",
            "Working on...\n",
            "Working on...\n",
            "Working on...\n",
            "Working on...\n",
            "Working on...\n",
            "Working on...\n",
            "Working on...\n",
            "Working on...\n"
          ]
        }
      ]
    },
    {
      "cell_type": "code",
      "source": [
        "repository_list"
      ],
      "metadata": {
        "colab": {
          "base_uri": "https://localhost:8080/"
        },
        "id": "cV53soLQBvJZ",
        "outputId": "052eedb1-7f2e-4cc4-fe8a-cd94f2a3da96"
      },
      "execution_count": null,
      "outputs": [
        {
          "output_type": "execute_result",
          "data": {
            "text/plain": [
              "['JustAnotherArchivist/snscrape',\n",
              " 'bregman-arie/devops-exercises',\n",
              " 'darkoperator/dnsrecon',\n",
              " '521xueweihan/HelloGitHub',\n",
              " 'getsentry/sentry',\n",
              " 'acl-org/aclpubcheck',\n",
              " 'chubin/cheat.sh',\n",
              " 'PaddlePaddle/PaddleNLP',\n",
              " 'hiroi-sora/Umi-OCR',\n",
              " 'bumble-tech/private-detector',\n",
              " 'nerfstudio-project/nerfstudio',\n",
              " 'sherlock-project/sherlock',\n",
              " 'WeixiangYAN/WhyGen',\n",
              " 'TheLastBen/fast-stable-diffusion',\n",
              " 'poloclub/diffusiondb',\n",
              " 'kelvinBen/AppInfoScanner',\n",
              " 'SigmaHQ/sigma',\n",
              " 'AUTOMATIC1111/stable-diffusion-webui',\n",
              " 'open-mmlab/mmaction2',\n",
              " 'apache/airflow',\n",
              " 'facebookincubator/AITemplate',\n",
              " 'borisdayma/dalle-mini',\n",
              " 'sczhou/CodeFormer',\n",
              " 'hhyo/Archery',\n",
              " 'shengqiangzhang/examples-of-web-crawlers']"
            ]
          },
          "metadata": {},
          "execution_count": 63
        }
      ]
    },
    {
      "cell_type": "markdown",
      "metadata": {
        "id": "w_CF23RBzSZt"
      },
      "source": [
        "#### 2. Display all the image links from Walt Disney wikipedia page.\n",
        "Hint: use `.get()` to access information inside tags. Check out the documentation."
      ]
    },
    {
      "cell_type": "code",
      "execution_count": 142,
      "metadata": {
        "id": "jiWOHBwgzSZt"
      },
      "outputs": [],
      "source": [
        "# This is the url you will scrape in this exercise\n",
        "url = 'https://en.wikipedia.org/wiki/Walt_Disney'"
      ]
    },
    {
      "cell_type": "code",
      "execution_count": 143,
      "metadata": {
        "id": "gU3berabGEML"
      },
      "outputs": [],
      "source": [
        "# your code here\n",
        "response = requests.get(url)"
      ]
    },
    {
      "cell_type": "code",
      "source": [
        "response.status_code"
      ],
      "metadata": {
        "colab": {
          "base_uri": "https://localhost:8080/"
        },
        "outputId": "559cab6e-4026-4c98-ec64-15cbe729edf2",
        "id": "tieJFRsoGEML"
      },
      "execution_count": 144,
      "outputs": [
        {
          "output_type": "execute_result",
          "data": {
            "text/plain": [
              "200"
            ]
          },
          "metadata": {},
          "execution_count": 144
        }
      ]
    },
    {
      "cell_type": "code",
      "source": [
        "soup = BeautifulSoup(response.content)"
      ],
      "metadata": {
        "id": "eCrLtm0PGEMM"
      },
      "execution_count": 145,
      "outputs": []
    },
    {
      "cell_type": "code",
      "source": [
        "divs = soup.find_all('div', attrs = {'class':'thumbinner'})\n",
        "link_images=[]\n",
        "for div in divs:\n",
        "    links = div.find_all('a')\n",
        "    for a in links:\n",
        "        link=('https://en.wikipedia.org'+a.get('href'))\n",
        "        link_images.append(link)\n",
        "\n",
        "link_images = list(dict.fromkeys(link_images))\n",
        "link_images"
      ],
      "metadata": {
        "colab": {
          "base_uri": "https://localhost:8080/"
        },
        "id": "ePOFKGtxThtZ",
        "outputId": "cc9d2b7b-ef41-4db5-b3d8-45d02e211245"
      },
      "execution_count": null,
      "outputs": [
        {
          "output_type": "execute_result",
          "data": {
            "text/plain": [
              "['https://en.wikipedia.org/wiki/File:Walt_Disney_Birthplace_Exterior_Hermosa_Chicago_Illinois.jpg',\n",
              " 'https://en.wikipedia.org/wiki/File:Walt_Disney_envelope_ca._1921.jpg',\n",
              " 'https://en.wikipedia.org/wiki/File:Newman_Laugh-O-Gram_(1921).webm',\n",
              " 'https://en.wikipedia.org/wiki/File:Trolley_Troubles_poster.jpg',\n",
              " 'https://en.wikipedia.org/wiki/Trolley_Troubles',\n",
              " 'https://en.wikipedia.org/wiki/File:Steamboat-willie.jpg',\n",
              " 'https://en.wikipedia.org/wiki/Mickey_Mouse',\n",
              " 'https://en.wikipedia.org/wiki/Steamboat_Willie',\n",
              " 'https://en.wikipedia.org/wiki/File:Walt_Disney_1935.jpg',\n",
              " 'https://en.wikipedia.org/wiki/File:Walt_Disney_Snow_white_1937_trailer_screenshot_(13).jpg',\n",
              " 'https://en.wikipedia.org/wiki/Snow_White_and_the_Seven_Dwarfs_(1937_film)',\n",
              " 'https://en.wikipedia.org/wiki/File:Disney_drawing_goofy.jpg',\n",
              " 'https://en.wikipedia.org/wiki/File:WaltDisneyplansDisneylandDec1954.jpg',\n",
              " 'https://en.wikipedia.org/wiki/Disneyland',\n",
              " 'https://en.wikipedia.org/wiki/Orange_County,_California',\n",
              " 'https://en.wikipedia.org/wiki/File:Walt_disney_portrait_right.jpg',\n",
              " 'https://en.wikipedia.org/wiki/File:Walt_Disney_Grave.JPG',\n",
              " 'https://en.wikipedia.org/wiki/File:Roy_O._Disney_with_Company_at_Press_Conference.jpg',\n",
              " 'https://en.wikipedia.org/wiki/Roy_O._Disney',\n",
              " 'https://en.wikipedia.org/wiki/File:DisneySchiphol1951.jpg',\n",
              " 'https://en.wikipedia.org/wiki/File:Disney1968.jpg',\n",
              " 'https://en.wikipedia.org/wiki/File:Disney_Oscar_1953_(cropped).jpg',\n",
              " 'https://en.wikipedia.org/wiki/Academy_Award_for_Best_Live_Action_Short_Film',\n",
              " 'https://en.wikipedia.org/wiki/Water_Birds']"
            ]
          },
          "metadata": {},
          "execution_count": 103
        }
      ]
    },
    {
      "cell_type": "markdown",
      "metadata": {
        "id": "5UXoKCm6zSZt"
      },
      "source": [
        "#### 2.1. List all language names and number of related articles in the order they appear in wikipedia.org."
      ]
    },
    {
      "cell_type": "code",
      "execution_count": 146,
      "metadata": {
        "id": "Q8uK8sWtzSZt"
      },
      "outputs": [],
      "source": [
        "# This is the url you will scrape in this exercise\n",
        "url = 'https://www.wikipedia.org/'"
      ]
    },
    {
      "cell_type": "code",
      "execution_count": 147,
      "metadata": {
        "id": "XV7w1vxtYDul"
      },
      "outputs": [],
      "source": [
        "# your code here\n",
        "response = requests.get(url)"
      ]
    },
    {
      "cell_type": "code",
      "source": [
        "response.status_code"
      ],
      "metadata": {
        "colab": {
          "base_uri": "https://localhost:8080/"
        },
        "outputId": "dd6a82ec-0579-4dd1-8cab-acdb00f37ec2",
        "id": "DuBJW0-sYDus"
      },
      "execution_count": 148,
      "outputs": [
        {
          "output_type": "execute_result",
          "data": {
            "text/plain": [
              "200"
            ]
          },
          "metadata": {},
          "execution_count": 148
        }
      ]
    },
    {
      "cell_type": "code",
      "source": [
        "soup = BeautifulSoup(response.content)"
      ],
      "metadata": {
        "id": "Ht55VoQGYDut"
      },
      "execution_count": 149,
      "outputs": []
    },
    {
      "cell_type": "code",
      "source": [
        "import re\n",
        "boxes = soup.find_all('a', attrs = {'class':'link-box'})\n",
        "list_lang=[]\n",
        "\n",
        "for box in boxes:\n",
        "  time.sleep(5)\n",
        "  language=box.find_all('strong')\n",
        "  lang=str(language).replace('[<strong>','').replace('</strong>]','').replace('<bdi dir=\"rtl\">','').replace('</bdi>','')\n",
        "\n",
        "  article=str(box.find_all('small'))\n",
        "  cifre = re.findall(\"\\d+\", article)\n",
        "  one_cifre='.'.join(cifre)\n",
        "\n",
        "  list_lang.append(lang+' '+one_cifre)\n",
        "\n",
        "list_lang"
      ],
      "metadata": {
        "colab": {
          "base_uri": "https://localhost:8080/"
        },
        "id": "qMoOyexcYKg2",
        "outputId": "77903d1d-d350-4dcf-80a7-5589f8a916f6"
      },
      "execution_count": null,
      "outputs": [
        {
          "output_type": "execute_result",
          "data": {
            "text/plain": [
              "['English 6.458.000',\n",
              " '日本語 1.314.000',\n",
              " 'Español 1.755.000',\n",
              " 'Русский 1.798.000',\n",
              " 'Français 2.400.000',\n",
              " 'Deutsch 2.667.000',\n",
              " 'Italiano 1.742.000',\n",
              " '中文 1.256.000',\n",
              " 'Português 1.085.000',\n",
              " 'العربية 1.159.000']"
            ]
          },
          "metadata": {},
          "execution_count": 154
        }
      ]
    },
    {
      "cell_type": "markdown",
      "metadata": {
        "id": "7vjzm1zhzSZu"
      },
      "source": [
        "#### 2.2. Display the top 10 languages by number of native speakers stored in a pandas dataframe.\n",
        "Hint: After finding the correct table you want to analyse, you can use a nested **for** loop to find the elements row by row (check out the 'td' and 'tr' tags). <br>An easier way to do it is using pd.read_html(), check out documentation [here](https://pandas.pydata.org/pandas-docs/version/0.23.4/generated/pandas.read_html.html)."
      ]
    },
    {
      "cell_type": "code",
      "execution_count": 150,
      "metadata": {
        "id": "Q_ZuRnS9zSZu"
      },
      "outputs": [],
      "source": [
        "# This is the url you will scrape in this exercise\n",
        "url = 'https://en.wikipedia.org/wiki/List_of_languages_by_number_of_native_speakers'"
      ]
    },
    {
      "cell_type": "code",
      "execution_count": 151,
      "metadata": {
        "id": "qyuaN09u7BpZ"
      },
      "outputs": [],
      "source": [
        "# your code here\n",
        "response = requests.get(url)"
      ]
    },
    {
      "cell_type": "code",
      "source": [
        "response.status_code"
      ],
      "metadata": {
        "colab": {
          "base_uri": "https://localhost:8080/"
        },
        "outputId": "e83c9b84-624a-42a8-ee59-27630204947e",
        "id": "9GAH0IyN7BpZ"
      },
      "execution_count": 152,
      "outputs": [
        {
          "output_type": "execute_result",
          "data": {
            "text/plain": [
              "200"
            ]
          },
          "metadata": {},
          "execution_count": 152
        }
      ]
    },
    {
      "cell_type": "code",
      "source": [
        "soup = BeautifulSoup(response.content)"
      ],
      "metadata": {
        "id": "M0FlAyWH7Bpa"
      },
      "execution_count": 153,
      "outputs": []
    },
    {
      "cell_type": "code",
      "source": [
        "languages_list=[]\n",
        "count=7\n",
        "\n",
        "for i in range(10):\n",
        "  time.sleep(5)\n",
        "  \n",
        "  try:\n",
        "    \n",
        "    language=soup.find_all('a',attrs={'class':'mw-redirect'})[count].text\n",
        "    count+=1\n",
        "    print(language)\n",
        "    languages_list.append(language)\n",
        "  \n",
        "  except:\n",
        "    pass"
      ],
      "metadata": {
        "colab": {
          "base_uri": "https://localhost:8080/"
        },
        "id": "F2hOtTOI7Yh4",
        "outputId": "d346af8c-a9f4-4d63-e4b9-83ca871b26fb"
      },
      "execution_count": null,
      "outputs": [
        {
          "output_type": "stream",
          "name": "stdout",
          "text": [
            "Mandarin Chinese\n",
            "Spanish\n",
            "English\n",
            "Hindi\n",
            "Bengali\n",
            "Portuguese\n",
            "Russian\n",
            "Japanese\n",
            "Yue Chinese\n",
            "Vietnamese\n"
          ]
        }
      ]
    },
    {
      "cell_type": "code",
      "source": [
        "languages_list"
      ],
      "metadata": {
        "colab": {
          "base_uri": "https://localhost:8080/"
        },
        "id": "uUX3o5yr7ayH",
        "outputId": "dbd76fdb-ae1b-4e2a-aa25-457f35d7e35b"
      },
      "execution_count": null,
      "outputs": [
        {
          "output_type": "execute_result",
          "data": {
            "text/plain": [
              "['Mandarin Chinese',\n",
              " 'Spanish',\n",
              " 'English',\n",
              " 'Hindi',\n",
              " 'Bengali',\n",
              " 'Portuguese',\n",
              " 'Russian',\n",
              " 'Japanese',\n",
              " 'Yue Chinese',\n",
              " 'Vietnamese']"
            ]
          },
          "metadata": {},
          "execution_count": 29
        }
      ]
    },
    {
      "cell_type": "markdown",
      "metadata": {
        "id": "YggfkwOZzSZv"
      },
      "source": [
        "#### 3. Display IMDB's top 250 data (movie name, initial release, director name and stars) as a pandas dataframe.\n",
        "Hint: If you hover over the title of the movie, you should see the director's name. Can you find where it's stored in the html?"
      ]
    },
    {
      "cell_type": "code",
      "execution_count": 154,
      "metadata": {
        "id": "Ddw2qzS_zSZv"
      },
      "outputs": [],
      "source": [
        "# This is the url you will scrape in this exercise \n",
        "url = 'https://www.imdb.com/chart/top'"
      ]
    },
    {
      "cell_type": "code",
      "execution_count": 155,
      "metadata": {
        "id": "LXNCWCA5_VCf"
      },
      "outputs": [],
      "source": [
        "# your code here\n",
        "response = requests.get(url)"
      ]
    },
    {
      "cell_type": "code",
      "source": [
        "response.status_code"
      ],
      "metadata": {
        "colab": {
          "base_uri": "https://localhost:8080/"
        },
        "outputId": "f3cda06b-c4cc-46a2-b10f-5195fdb465f4",
        "id": "D8eXpPag_VCg"
      },
      "execution_count": 156,
      "outputs": [
        {
          "output_type": "execute_result",
          "data": {
            "text/plain": [
              "200"
            ]
          },
          "metadata": {},
          "execution_count": 156
        }
      ]
    },
    {
      "cell_type": "code",
      "source": [
        "soup = BeautifulSoup(response.content)"
      ],
      "metadata": {
        "id": "oZ-ywccM_VCg"
      },
      "execution_count": 157,
      "outputs": []
    },
    {
      "cell_type": "code",
      "source": [
        "movie_list=soup.find_all('div',attrs={'class':'lister'})[0]"
      ],
      "metadata": {
        "id": "8nBhg5mp_Z-s"
      },
      "execution_count": 158,
      "outputs": []
    },
    {
      "cell_type": "code",
      "source": [
        "import re\n",
        "\n",
        "movie_info=[]\n",
        "count=0\n",
        "\n",
        "for i in range(250):\n",
        "  time.sleep(5)\n",
        "  \n",
        "  try:\n",
        "    movie = movie_list.find_all('td',attrs={'class':'titleColumn'})[count].text.replace('\\n', '').replace('.', '')\n",
        "    movie = ''.join([i for i in movie if not i.isdigit()])\n",
        "    movie = movie.replace('()', '').replace('            ', '')\n",
        "     \n",
        "    row=movie_list.find_all('td',attrs={'class':'titleColumn'})[count]\n",
        "    link=row.find_all('a')[0]\n",
        "    director=link.get('title')\n",
        "    \n",
        "    date=movie_list.find_all('td',attrs={'class':'titleColumn'})[count].text\n",
        "    date = re.findall(\"\\d+\", date)\n",
        "    date = date[1]\n",
        "    \n",
        "    star=movie_list.find_all('strong')[count].text\n",
        "    \n",
        "    count += 1\n",
        "    \n",
        "    print(count)\n",
        "\n",
        "    data = {'Movie':movie,'Director':director,'Date':date,'Star':star}\n",
        "\n",
        "    movie_info.append(data)\n",
        "  \n",
        "  except:\n",
        "    pass"
      ],
      "metadata": {
        "colab": {
          "base_uri": "https://localhost:8080/"
        },
        "outputId": "ba57d764-9d09-4b58-ca78-d666625b2e1f",
        "id": "d10NsTUS_VCg"
      },
      "execution_count": 128,
      "outputs": [
        {
          "output_type": "stream",
          "name": "stdout",
          "text": [
            "1\n",
            "2\n",
            "3\n",
            "4\n",
            "5\n",
            "6\n",
            "7\n",
            "8\n",
            "9\n",
            "10\n",
            "11\n",
            "12\n",
            "13\n",
            "14\n",
            "15\n",
            "16\n",
            "17\n",
            "18\n",
            "19\n",
            "20\n",
            "21\n",
            "22\n",
            "23\n",
            "24\n",
            "25\n",
            "26\n",
            "27\n",
            "28\n",
            "29\n",
            "30\n",
            "31\n",
            "32\n",
            "33\n",
            "34\n",
            "35\n",
            "36\n",
            "37\n",
            "38\n",
            "39\n",
            "40\n",
            "41\n",
            "42\n",
            "43\n",
            "44\n",
            "45\n",
            "46\n",
            "47\n",
            "48\n",
            "49\n",
            "50\n",
            "51\n",
            "52\n",
            "53\n",
            "54\n",
            "55\n",
            "56\n",
            "57\n",
            "58\n",
            "59\n",
            "60\n",
            "61\n",
            "62\n",
            "63\n",
            "64\n",
            "65\n",
            "66\n",
            "67\n",
            "68\n",
            "69\n",
            "70\n",
            "71\n",
            "72\n",
            "73\n",
            "74\n",
            "75\n",
            "76\n",
            "77\n",
            "78\n",
            "79\n",
            "80\n",
            "81\n",
            "82\n",
            "83\n",
            "84\n",
            "85\n",
            "86\n",
            "87\n",
            "88\n",
            "89\n",
            "90\n",
            "91\n",
            "92\n",
            "93\n",
            "94\n",
            "95\n",
            "96\n",
            "97\n",
            "98\n",
            "99\n",
            "100\n",
            "101\n",
            "102\n",
            "103\n",
            "104\n",
            "105\n",
            "106\n",
            "107\n",
            "108\n",
            "109\n",
            "110\n",
            "111\n",
            "112\n",
            "113\n",
            "114\n",
            "115\n",
            "116\n",
            "117\n",
            "118\n",
            "119\n",
            "120\n",
            "121\n",
            "122\n",
            "123\n",
            "124\n",
            "125\n",
            "126\n",
            "127\n",
            "128\n",
            "129\n",
            "130\n",
            "131\n",
            "132\n",
            "133\n",
            "134\n",
            "135\n",
            "136\n",
            "137\n",
            "138\n",
            "139\n",
            "140\n",
            "141\n",
            "142\n",
            "143\n",
            "144\n",
            "145\n",
            "146\n",
            "147\n",
            "148\n",
            "149\n",
            "150\n",
            "151\n",
            "152\n",
            "153\n",
            "154\n",
            "155\n",
            "156\n",
            "157\n",
            "158\n",
            "159\n",
            "160\n",
            "161\n",
            "162\n",
            "163\n",
            "164\n",
            "165\n",
            "166\n",
            "167\n",
            "168\n",
            "169\n",
            "170\n",
            "171\n",
            "172\n",
            "173\n",
            "174\n",
            "175\n",
            "176\n",
            "177\n",
            "178\n",
            "179\n",
            "180\n",
            "181\n",
            "182\n",
            "183\n",
            "184\n",
            "185\n",
            "186\n",
            "187\n",
            "188\n",
            "189\n",
            "190\n",
            "191\n",
            "192\n",
            "193\n",
            "194\n",
            "195\n",
            "196\n",
            "197\n",
            "198\n",
            "199\n",
            "200\n",
            "201\n",
            "202\n",
            "203\n",
            "204\n",
            "205\n",
            "206\n",
            "207\n",
            "208\n",
            "209\n",
            "210\n",
            "211\n",
            "212\n",
            "213\n",
            "214\n",
            "215\n",
            "216\n",
            "217\n",
            "218\n",
            "219\n",
            "220\n",
            "221\n",
            "222\n",
            "223\n",
            "224\n",
            "225\n",
            "226\n",
            "227\n",
            "228\n",
            "229\n",
            "230\n",
            "231\n",
            "232\n",
            "233\n",
            "234\n",
            "235\n",
            "236\n",
            "237\n",
            "238\n",
            "239\n",
            "240\n",
            "241\n",
            "242\n",
            "243\n",
            "244\n",
            "245\n",
            "246\n",
            "247\n",
            "248\n",
            "249\n",
            "250\n"
          ]
        }
      ]
    },
    {
      "cell_type": "code",
      "source": [
        "movie_info_df=pd.DataFrame(movie_info)\n",
        "movie_info_df"
      ],
      "metadata": {
        "colab": {
          "base_uri": "https://localhost:8080/",
          "height": 424
        },
        "id": "WO5B4ELBJDSu",
        "outputId": "1ea3a113-88da-4bf6-889a-fff7527f1a07"
      },
      "execution_count": 129,
      "outputs": [
        {
          "output_type": "execute_result",
          "data": {
            "text/plain": [
              "                        Movie  \\\n",
              "0    The Shawshank Redemption   \n",
              "1               The Godfather   \n",
              "2             The Dark Knight   \n",
              "3       The Godfather Part II   \n",
              "4                   Angry Men   \n",
              "..                        ...   \n",
              "245               Dersu Uzala   \n",
              "246                  The Help   \n",
              "247                    Gandhi   \n",
              "248                   Aladdin   \n",
              "249            The Iron Giant   \n",
              "\n",
              "                                              Director  Date Star  \n",
              "0    Frank Darabont (dir.), Tim Robbins, Morgan Fre...  1994  9.2  \n",
              "1    Francis Ford Coppola (dir.), Marlon Brando, Al...  1972  9.2  \n",
              "2    Christopher Nolan (dir.), Christian Bale, Heat...  2008  9.0  \n",
              "3    Francis Ford Coppola (dir.), Al Pacino, Robert...  1974  9.0  \n",
              "4        Sidney Lumet (dir.), Henry Fonda, Lee J. Cobb    12  9.0  \n",
              "..                                                 ...   ...  ...  \n",
              "245  Akira Kurosawa (dir.), Maksim Munzuk, Yuriy So...  1975  8.0  \n",
              "246        Tate Taylor (dir.), Viola Davis, Emma Stone  2011  8.0  \n",
              "247  Richard Attenborough (dir.), Ben Kingsley, Joh...  1982  8.0  \n",
              "248  Ron Clements (dir.), Scott Weinger, Robin Will...  1992  8.0  \n",
              "249  Brad Bird (dir.), Eli Marienthal, Harry Connic...  1999  8.0  \n",
              "\n",
              "[250 rows x 4 columns]"
            ],
            "text/html": [
              "\n",
              "  <div id=\"df-5775cdac-d967-490f-8bd8-e682aaf5d8b7\">\n",
              "    <div class=\"colab-df-container\">\n",
              "      <div>\n",
              "<style scoped>\n",
              "    .dataframe tbody tr th:only-of-type {\n",
              "        vertical-align: middle;\n",
              "    }\n",
              "\n",
              "    .dataframe tbody tr th {\n",
              "        vertical-align: top;\n",
              "    }\n",
              "\n",
              "    .dataframe thead th {\n",
              "        text-align: right;\n",
              "    }\n",
              "</style>\n",
              "<table border=\"1\" class=\"dataframe\">\n",
              "  <thead>\n",
              "    <tr style=\"text-align: right;\">\n",
              "      <th></th>\n",
              "      <th>Movie</th>\n",
              "      <th>Director</th>\n",
              "      <th>Date</th>\n",
              "      <th>Star</th>\n",
              "    </tr>\n",
              "  </thead>\n",
              "  <tbody>\n",
              "    <tr>\n",
              "      <th>0</th>\n",
              "      <td>The Shawshank Redemption</td>\n",
              "      <td>Frank Darabont (dir.), Tim Robbins, Morgan Fre...</td>\n",
              "      <td>1994</td>\n",
              "      <td>9.2</td>\n",
              "    </tr>\n",
              "    <tr>\n",
              "      <th>1</th>\n",
              "      <td>The Godfather</td>\n",
              "      <td>Francis Ford Coppola (dir.), Marlon Brando, Al...</td>\n",
              "      <td>1972</td>\n",
              "      <td>9.2</td>\n",
              "    </tr>\n",
              "    <tr>\n",
              "      <th>2</th>\n",
              "      <td>The Dark Knight</td>\n",
              "      <td>Christopher Nolan (dir.), Christian Bale, Heat...</td>\n",
              "      <td>2008</td>\n",
              "      <td>9.0</td>\n",
              "    </tr>\n",
              "    <tr>\n",
              "      <th>3</th>\n",
              "      <td>The Godfather Part II</td>\n",
              "      <td>Francis Ford Coppola (dir.), Al Pacino, Robert...</td>\n",
              "      <td>1974</td>\n",
              "      <td>9.0</td>\n",
              "    </tr>\n",
              "    <tr>\n",
              "      <th>4</th>\n",
              "      <td>Angry Men</td>\n",
              "      <td>Sidney Lumet (dir.), Henry Fonda, Lee J. Cobb</td>\n",
              "      <td>12</td>\n",
              "      <td>9.0</td>\n",
              "    </tr>\n",
              "    <tr>\n",
              "      <th>...</th>\n",
              "      <td>...</td>\n",
              "      <td>...</td>\n",
              "      <td>...</td>\n",
              "      <td>...</td>\n",
              "    </tr>\n",
              "    <tr>\n",
              "      <th>245</th>\n",
              "      <td>Dersu Uzala</td>\n",
              "      <td>Akira Kurosawa (dir.), Maksim Munzuk, Yuriy So...</td>\n",
              "      <td>1975</td>\n",
              "      <td>8.0</td>\n",
              "    </tr>\n",
              "    <tr>\n",
              "      <th>246</th>\n",
              "      <td>The Help</td>\n",
              "      <td>Tate Taylor (dir.), Viola Davis, Emma Stone</td>\n",
              "      <td>2011</td>\n",
              "      <td>8.0</td>\n",
              "    </tr>\n",
              "    <tr>\n",
              "      <th>247</th>\n",
              "      <td>Gandhi</td>\n",
              "      <td>Richard Attenborough (dir.), Ben Kingsley, Joh...</td>\n",
              "      <td>1982</td>\n",
              "      <td>8.0</td>\n",
              "    </tr>\n",
              "    <tr>\n",
              "      <th>248</th>\n",
              "      <td>Aladdin</td>\n",
              "      <td>Ron Clements (dir.), Scott Weinger, Robin Will...</td>\n",
              "      <td>1992</td>\n",
              "      <td>8.0</td>\n",
              "    </tr>\n",
              "    <tr>\n",
              "      <th>249</th>\n",
              "      <td>The Iron Giant</td>\n",
              "      <td>Brad Bird (dir.), Eli Marienthal, Harry Connic...</td>\n",
              "      <td>1999</td>\n",
              "      <td>8.0</td>\n",
              "    </tr>\n",
              "  </tbody>\n",
              "</table>\n",
              "<p>250 rows × 4 columns</p>\n",
              "</div>\n",
              "      <button class=\"colab-df-convert\" onclick=\"convertToInteractive('df-5775cdac-d967-490f-8bd8-e682aaf5d8b7')\"\n",
              "              title=\"Convert this dataframe to an interactive table.\"\n",
              "              style=\"display:none;\">\n",
              "        \n",
              "  <svg xmlns=\"http://www.w3.org/2000/svg\" height=\"24px\"viewBox=\"0 0 24 24\"\n",
              "       width=\"24px\">\n",
              "    <path d=\"M0 0h24v24H0V0z\" fill=\"none\"/>\n",
              "    <path d=\"M18.56 5.44l.94 2.06.94-2.06 2.06-.94-2.06-.94-.94-2.06-.94 2.06-2.06.94zm-11 1L8.5 8.5l.94-2.06 2.06-.94-2.06-.94L8.5 2.5l-.94 2.06-2.06.94zm10 10l.94 2.06.94-2.06 2.06-.94-2.06-.94-.94-2.06-.94 2.06-2.06.94z\"/><path d=\"M17.41 7.96l-1.37-1.37c-.4-.4-.92-.59-1.43-.59-.52 0-1.04.2-1.43.59L10.3 9.45l-7.72 7.72c-.78.78-.78 2.05 0 2.83L4 21.41c.39.39.9.59 1.41.59.51 0 1.02-.2 1.41-.59l7.78-7.78 2.81-2.81c.8-.78.8-2.07 0-2.86zM5.41 20L4 18.59l7.72-7.72 1.47 1.35L5.41 20z\"/>\n",
              "  </svg>\n",
              "      </button>\n",
              "      \n",
              "  <style>\n",
              "    .colab-df-container {\n",
              "      display:flex;\n",
              "      flex-wrap:wrap;\n",
              "      gap: 12px;\n",
              "    }\n",
              "\n",
              "    .colab-df-convert {\n",
              "      background-color: #E8F0FE;\n",
              "      border: none;\n",
              "      border-radius: 50%;\n",
              "      cursor: pointer;\n",
              "      display: none;\n",
              "      fill: #1967D2;\n",
              "      height: 32px;\n",
              "      padding: 0 0 0 0;\n",
              "      width: 32px;\n",
              "    }\n",
              "\n",
              "    .colab-df-convert:hover {\n",
              "      background-color: #E2EBFA;\n",
              "      box-shadow: 0px 1px 2px rgba(60, 64, 67, 0.3), 0px 1px 3px 1px rgba(60, 64, 67, 0.15);\n",
              "      fill: #174EA6;\n",
              "    }\n",
              "\n",
              "    [theme=dark] .colab-df-convert {\n",
              "      background-color: #3B4455;\n",
              "      fill: #D2E3FC;\n",
              "    }\n",
              "\n",
              "    [theme=dark] .colab-df-convert:hover {\n",
              "      background-color: #434B5C;\n",
              "      box-shadow: 0px 1px 3px 1px rgba(0, 0, 0, 0.15);\n",
              "      filter: drop-shadow(0px 1px 2px rgba(0, 0, 0, 0.3));\n",
              "      fill: #FFFFFF;\n",
              "    }\n",
              "  </style>\n",
              "\n",
              "      <script>\n",
              "        const buttonEl =\n",
              "          document.querySelector('#df-5775cdac-d967-490f-8bd8-e682aaf5d8b7 button.colab-df-convert');\n",
              "        buttonEl.style.display =\n",
              "          google.colab.kernel.accessAllowed ? 'block' : 'none';\n",
              "\n",
              "        async function convertToInteractive(key) {\n",
              "          const element = document.querySelector('#df-5775cdac-d967-490f-8bd8-e682aaf5d8b7');\n",
              "          const dataTable =\n",
              "            await google.colab.kernel.invokeFunction('convertToInteractive',\n",
              "                                                     [key], {});\n",
              "          if (!dataTable) return;\n",
              "\n",
              "          const docLinkHtml = 'Like what you see? Visit the ' +\n",
              "            '<a target=\"_blank\" href=https://colab.research.google.com/notebooks/data_table.ipynb>data table notebook</a>'\n",
              "            + ' to learn more about interactive tables.';\n",
              "          element.innerHTML = '';\n",
              "          dataTable['output_type'] = 'display_data';\n",
              "          await google.colab.output.renderOutput(dataTable, element);\n",
              "          const docLink = document.createElement('div');\n",
              "          docLink.innerHTML = docLinkHtml;\n",
              "          element.appendChild(docLink);\n",
              "        }\n",
              "      </script>\n",
              "    </div>\n",
              "  </div>\n",
              "  "
            ]
          },
          "metadata": {},
          "execution_count": 129
        }
      ]
    },
    {
      "cell_type": "markdown",
      "metadata": {
        "id": "derT28eRzSZv"
      },
      "source": [
        "#### 3.1. Display the movie name, year and a brief summary of the top 10 random movies (IMDB) as a pandas dataframe."
      ]
    },
    {
      "cell_type": "code",
      "execution_count": 159,
      "metadata": {
        "id": "gPOCIwofzSZv"
      },
      "outputs": [],
      "source": [
        "#This is the url you will scrape in this exercise\n",
        "url = 'https://www.imdb.com/list/ls009796553/'"
      ]
    },
    {
      "cell_type": "code",
      "execution_count": 160,
      "metadata": {
        "id": "1DVCWfapPKJi"
      },
      "outputs": [],
      "source": [
        "# your code here\n",
        "response = requests.get(url)"
      ]
    },
    {
      "cell_type": "code",
      "source": [
        "response.status_code"
      ],
      "metadata": {
        "colab": {
          "base_uri": "https://localhost:8080/"
        },
        "outputId": "252fb79b-cee8-46e7-edfb-b46b2ebb197b",
        "id": "DQMy1r9yPKJp"
      },
      "execution_count": 161,
      "outputs": [
        {
          "output_type": "execute_result",
          "data": {
            "text/plain": [
              "200"
            ]
          },
          "metadata": {},
          "execution_count": 161
        }
      ]
    },
    {
      "cell_type": "code",
      "source": [
        "soup = BeautifulSoup(response.content)"
      ],
      "metadata": {
        "id": "u1OBVxjaPKJp"
      },
      "execution_count": 162,
      "outputs": []
    },
    {
      "cell_type": "code",
      "source": [
        "movie_list=soup.find_all('div',attrs={'class':'lister list detail sub-list'})[0]"
      ],
      "metadata": {
        "id": "TPA7pBsgPKJt"
      },
      "execution_count": 163,
      "outputs": []
    },
    {
      "cell_type": "code",
      "source": [
        "import re\n",
        "\n",
        "movie_random_info=[]\n",
        "count=0\n",
        "count_summary=1\n",
        "\n",
        "for i in range(10):\n",
        "  time.sleep(5)\n",
        "  \n",
        "  try:\n",
        "    movie = movie_list.find_all('h3',attrs={'class':'lister-item-header'})[count].text.replace('\\n', '').replace('.', '')\n",
        "    movie = ''.join([i for i in movie if not i.isdigit()])\n",
        "    movie = movie.replace('()', '').replace('            ', '')\n",
        "    \n",
        "    date=movie_list.find_all('h3',attrs={'class':'lister-item-header'})[count].text\n",
        "    date = re.findall(\"\\d+\", date)\n",
        "    date = date[1]\n",
        "\n",
        "    summary = movie_list.find_all('p')[count_summary].text.replace('\\n', '')\n",
        "\n",
        "    count += 1\n",
        "    count_summary += 4\n",
        "    \n",
        "    print(count)\n",
        "\n",
        "    data = {'Movie':movie,'Date':date,'Summary':summary}\n",
        "\n",
        "    movie_random_info.append(data)\n",
        "  \n",
        "  except:\n",
        "    pass"
      ],
      "metadata": {
        "colab": {
          "base_uri": "https://localhost:8080/"
        },
        "outputId": "1453f5af-33c0-4585-f5e4-7423d9f1179b",
        "id": "NJIXYJsPPKJt"
      },
      "execution_count": 119,
      "outputs": [
        {
          "output_type": "stream",
          "name": "stdout",
          "text": [
            "1\n",
            "2\n",
            "3\n",
            "4\n",
            "5\n",
            "6\n",
            "7\n",
            "8\n",
            "9\n",
            "10\n"
          ]
        }
      ]
    },
    {
      "cell_type": "code",
      "source": [
        "movie_info_random_df=pd.DataFrame(movie_random_info)\n",
        "movie_info_random_df"
      ],
      "metadata": {
        "colab": {
          "base_uri": "https://localhost:8080/",
          "height": 363
        },
        "id": "xBMJowbrPN9Y",
        "outputId": "fb12e7a5-be15-4a42-d636-f2f31d07fd73"
      },
      "execution_count": 120,
      "outputs": [
        {
          "output_type": "execute_result",
          "data": {
            "text/plain": [
              "                       Movie  Date  \\\n",
              "0  A Nightmare on Elm Street  1984   \n",
              "1                 Awakenings  1990   \n",
              "2      A League of Their Own  1992   \n",
              "3               A Bronx Tale  1993   \n",
              "4     Angels in the Outfield  1994   \n",
              "5             A Time to Kill  1996   \n",
              "6                    Amistad  1997   \n",
              "7                   Anaconda  1997   \n",
              "8          A Cool, Dry Place  1998   \n",
              "9         American History X  1998   \n",
              "\n",
              "                                             Summary  \n",
              "0  Teenager Nancy Thompson must uncover the dark ...  \n",
              "1  The victims of an encephalitis epidemic many y...  \n",
              "2  Two sisters join the first female professional...  \n",
              "3  A father becomes worried when a local gangster...  \n",
              "4  When a boy prays for a chance to have a family...  \n",
              "5  In Clanton, Mississippi, a fearless young lawy...  \n",
              "6  In 1839, the revolt of Mende captives aboard a...  \n",
              "7  A \"National Geographic\" film crew is taken hos...  \n",
              "8  Russell, single father balances his work as a ...  \n",
              "9  A former neo-nazi skinhead tries to prevent hi...  "
            ],
            "text/html": [
              "\n",
              "  <div id=\"df-7d4641b1-6a2c-4802-8eb6-8bc2255b5fb7\">\n",
              "    <div class=\"colab-df-container\">\n",
              "      <div>\n",
              "<style scoped>\n",
              "    .dataframe tbody tr th:only-of-type {\n",
              "        vertical-align: middle;\n",
              "    }\n",
              "\n",
              "    .dataframe tbody tr th {\n",
              "        vertical-align: top;\n",
              "    }\n",
              "\n",
              "    .dataframe thead th {\n",
              "        text-align: right;\n",
              "    }\n",
              "</style>\n",
              "<table border=\"1\" class=\"dataframe\">\n",
              "  <thead>\n",
              "    <tr style=\"text-align: right;\">\n",
              "      <th></th>\n",
              "      <th>Movie</th>\n",
              "      <th>Date</th>\n",
              "      <th>Summary</th>\n",
              "    </tr>\n",
              "  </thead>\n",
              "  <tbody>\n",
              "    <tr>\n",
              "      <th>0</th>\n",
              "      <td>A Nightmare on Elm Street</td>\n",
              "      <td>1984</td>\n",
              "      <td>Teenager Nancy Thompson must uncover the dark ...</td>\n",
              "    </tr>\n",
              "    <tr>\n",
              "      <th>1</th>\n",
              "      <td>Awakenings</td>\n",
              "      <td>1990</td>\n",
              "      <td>The victims of an encephalitis epidemic many y...</td>\n",
              "    </tr>\n",
              "    <tr>\n",
              "      <th>2</th>\n",
              "      <td>A League of Their Own</td>\n",
              "      <td>1992</td>\n",
              "      <td>Two sisters join the first female professional...</td>\n",
              "    </tr>\n",
              "    <tr>\n",
              "      <th>3</th>\n",
              "      <td>A Bronx Tale</td>\n",
              "      <td>1993</td>\n",
              "      <td>A father becomes worried when a local gangster...</td>\n",
              "    </tr>\n",
              "    <tr>\n",
              "      <th>4</th>\n",
              "      <td>Angels in the Outfield</td>\n",
              "      <td>1994</td>\n",
              "      <td>When a boy prays for a chance to have a family...</td>\n",
              "    </tr>\n",
              "    <tr>\n",
              "      <th>5</th>\n",
              "      <td>A Time to Kill</td>\n",
              "      <td>1996</td>\n",
              "      <td>In Clanton, Mississippi, a fearless young lawy...</td>\n",
              "    </tr>\n",
              "    <tr>\n",
              "      <th>6</th>\n",
              "      <td>Amistad</td>\n",
              "      <td>1997</td>\n",
              "      <td>In 1839, the revolt of Mende captives aboard a...</td>\n",
              "    </tr>\n",
              "    <tr>\n",
              "      <th>7</th>\n",
              "      <td>Anaconda</td>\n",
              "      <td>1997</td>\n",
              "      <td>A \"National Geographic\" film crew is taken hos...</td>\n",
              "    </tr>\n",
              "    <tr>\n",
              "      <th>8</th>\n",
              "      <td>A Cool, Dry Place</td>\n",
              "      <td>1998</td>\n",
              "      <td>Russell, single father balances his work as a ...</td>\n",
              "    </tr>\n",
              "    <tr>\n",
              "      <th>9</th>\n",
              "      <td>American History X</td>\n",
              "      <td>1998</td>\n",
              "      <td>A former neo-nazi skinhead tries to prevent hi...</td>\n",
              "    </tr>\n",
              "  </tbody>\n",
              "</table>\n",
              "</div>\n",
              "      <button class=\"colab-df-convert\" onclick=\"convertToInteractive('df-7d4641b1-6a2c-4802-8eb6-8bc2255b5fb7')\"\n",
              "              title=\"Convert this dataframe to an interactive table.\"\n",
              "              style=\"display:none;\">\n",
              "        \n",
              "  <svg xmlns=\"http://www.w3.org/2000/svg\" height=\"24px\"viewBox=\"0 0 24 24\"\n",
              "       width=\"24px\">\n",
              "    <path d=\"M0 0h24v24H0V0z\" fill=\"none\"/>\n",
              "    <path d=\"M18.56 5.44l.94 2.06.94-2.06 2.06-.94-2.06-.94-.94-2.06-.94 2.06-2.06.94zm-11 1L8.5 8.5l.94-2.06 2.06-.94-2.06-.94L8.5 2.5l-.94 2.06-2.06.94zm10 10l.94 2.06.94-2.06 2.06-.94-2.06-.94-.94-2.06-.94 2.06-2.06.94z\"/><path d=\"M17.41 7.96l-1.37-1.37c-.4-.4-.92-.59-1.43-.59-.52 0-1.04.2-1.43.59L10.3 9.45l-7.72 7.72c-.78.78-.78 2.05 0 2.83L4 21.41c.39.39.9.59 1.41.59.51 0 1.02-.2 1.41-.59l7.78-7.78 2.81-2.81c.8-.78.8-2.07 0-2.86zM5.41 20L4 18.59l7.72-7.72 1.47 1.35L5.41 20z\"/>\n",
              "  </svg>\n",
              "      </button>\n",
              "      \n",
              "  <style>\n",
              "    .colab-df-container {\n",
              "      display:flex;\n",
              "      flex-wrap:wrap;\n",
              "      gap: 12px;\n",
              "    }\n",
              "\n",
              "    .colab-df-convert {\n",
              "      background-color: #E8F0FE;\n",
              "      border: none;\n",
              "      border-radius: 50%;\n",
              "      cursor: pointer;\n",
              "      display: none;\n",
              "      fill: #1967D2;\n",
              "      height: 32px;\n",
              "      padding: 0 0 0 0;\n",
              "      width: 32px;\n",
              "    }\n",
              "\n",
              "    .colab-df-convert:hover {\n",
              "      background-color: #E2EBFA;\n",
              "      box-shadow: 0px 1px 2px rgba(60, 64, 67, 0.3), 0px 1px 3px 1px rgba(60, 64, 67, 0.15);\n",
              "      fill: #174EA6;\n",
              "    }\n",
              "\n",
              "    [theme=dark] .colab-df-convert {\n",
              "      background-color: #3B4455;\n",
              "      fill: #D2E3FC;\n",
              "    }\n",
              "\n",
              "    [theme=dark] .colab-df-convert:hover {\n",
              "      background-color: #434B5C;\n",
              "      box-shadow: 0px 1px 3px 1px rgba(0, 0, 0, 0.15);\n",
              "      filter: drop-shadow(0px 1px 2px rgba(0, 0, 0, 0.3));\n",
              "      fill: #FFFFFF;\n",
              "    }\n",
              "  </style>\n",
              "\n",
              "      <script>\n",
              "        const buttonEl =\n",
              "          document.querySelector('#df-7d4641b1-6a2c-4802-8eb6-8bc2255b5fb7 button.colab-df-convert');\n",
              "        buttonEl.style.display =\n",
              "          google.colab.kernel.accessAllowed ? 'block' : 'none';\n",
              "\n",
              "        async function convertToInteractive(key) {\n",
              "          const element = document.querySelector('#df-7d4641b1-6a2c-4802-8eb6-8bc2255b5fb7');\n",
              "          const dataTable =\n",
              "            await google.colab.kernel.invokeFunction('convertToInteractive',\n",
              "                                                     [key], {});\n",
              "          if (!dataTable) return;\n",
              "\n",
              "          const docLinkHtml = 'Like what you see? Visit the ' +\n",
              "            '<a target=\"_blank\" href=https://colab.research.google.com/notebooks/data_table.ipynb>data table notebook</a>'\n",
              "            + ' to learn more about interactive tables.';\n",
              "          element.innerHTML = '';\n",
              "          dataTable['output_type'] = 'display_data';\n",
              "          await google.colab.output.renderOutput(dataTable, element);\n",
              "          const docLink = document.createElement('div');\n",
              "          docLink.innerHTML = docLinkHtml;\n",
              "          element.appendChild(docLink);\n",
              "        }\n",
              "      </script>\n",
              "    </div>\n",
              "  </div>\n",
              "  "
            ]
          },
          "metadata": {},
          "execution_count": 120
        }
      ]
    },
    {
      "cell_type": "markdown",
      "metadata": {
        "id": "g_ibLLuIzSZw"
      },
      "source": [
        "## Bonus"
      ]
    },
    {
      "cell_type": "markdown",
      "metadata": {
        "id": "84k_XB4gzSZw"
      },
      "source": [
        "#### Find the live weather report (temperature, wind speed, description and weather) of a given city."
      ]
    },
    {
      "cell_type": "code",
      "execution_count": null,
      "metadata": {
        "id": "GUyw27HozSZw"
      },
      "outputs": [],
      "source": [
        "#https://openweathermap.org/current\n",
        "city = input('Enter the city: ')\n",
        "url = 'http://api.openweathermap.org/data/2.5/weather?'+'q='+city+'&APPID=b35975e18dc93725acb092f7272cc6b8&units=metric'"
      ]
    },
    {
      "cell_type": "code",
      "execution_count": null,
      "metadata": {
        "id": "ToeUg8cQzSZw"
      },
      "outputs": [],
      "source": [
        "# your code here"
      ]
    },
    {
      "cell_type": "markdown",
      "metadata": {
        "id": "_8-plv8czSZx"
      },
      "source": [
        "#### Find the book name, price and stock availability as a pandas dataframe."
      ]
    },
    {
      "cell_type": "code",
      "execution_count": null,
      "metadata": {
        "id": "wFIfFrSmzSZx"
      },
      "outputs": [],
      "source": [
        "# This is the url you will scrape in this exercise. \n",
        "# It is a fictional bookstore created to be scraped. \n",
        "url = 'http://books.toscrape.com/'"
      ]
    },
    {
      "cell_type": "code",
      "execution_count": null,
      "metadata": {
        "id": "3-tB9xbpzSZx"
      },
      "outputs": [],
      "source": [
        "# your code here"
      ]
    },
    {
      "cell_type": "markdown",
      "metadata": {
        "id": "YD7K9qBWzSZx"
      },
      "source": [
        "####  Display the 100 latest earthquakes info (date, time, latitude, longitude and region name) by the EMSC as a pandas dataframe.\n",
        "***Hint:*** Here the displayed number of earthquakes per page is 20, but you can easily move to the next page by looping through the desired number of pages and adding it to the end of the url."
      ]
    },
    {
      "cell_type": "code",
      "execution_count": null,
      "metadata": {
        "id": "biMQFNplzSZx"
      },
      "outputs": [],
      "source": [
        "# This is the url you will scrape in this exercise\n",
        "url = 'https://www.emsc-csem.org/Earthquake/?view='\n",
        "\n",
        "# This is how you will loop through each page:\n",
        "number_of_pages = int(100/20)\n",
        "each_page_urls = []\n",
        "\n",
        "for n in range(1, number_of_pages+1):\n",
        "    link = url+str(n)\n",
        "    each_page_urls.append(link)\n",
        "    \n",
        "each_page_urls"
      ]
    },
    {
      "cell_type": "code",
      "execution_count": null,
      "metadata": {
        "id": "ROcnClkfzSZx"
      },
      "outputs": [],
      "source": [
        "# your code here"
      ]
    }
  ],
  "metadata": {
    "kernelspec": {
      "display_name": "Python 3",
      "language": "python",
      "name": "python3"
    },
    "language_info": {
      "codemirror_mode": {
        "name": "ipython",
        "version": 3
      },
      "file_extension": ".py",
      "mimetype": "text/x-python",
      "name": "python",
      "nbconvert_exporter": "python",
      "pygments_lexer": "ipython3",
      "version": "3.7.7"
    },
    "colab": {
      "provenance": [],
      "collapsed_sections": []
    }
  },
  "nbformat": 4,
  "nbformat_minor": 0
}