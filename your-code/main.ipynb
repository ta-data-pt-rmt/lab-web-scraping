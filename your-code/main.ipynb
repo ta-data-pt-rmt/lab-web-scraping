{
 "cells": [
  {
   "cell_type": "markdown",
   "metadata": {},
   "source": [
    "# Web Scraping Lab\n",
    "\n",
    "You will find in this notebook some scrapy exercises to practise your scraping skills.\n",
    "\n",
    "**Tips:**\n",
    "\n",
    "- Check the response status code for each request to ensure you have obtained the intended content.\n",
    "- Print the response text in each request to understand the kind of info you are getting and its format.\n",
    "- Check for patterns in the response text to extract the data/info requested in each question.\n",
    "- Visit the urls below and take a look at their source code through Chrome DevTools. You'll need to identify the html tags, special class names, etc used in the html content you are expected to extract.\n",
    "\n",
    "**Resources**:\n",
    "- [Requests library](http://docs.python-requests.org/en/master/#the-user-guide)\n",
    "- [Beautiful Soup Doc](https://www.crummy.com/software/BeautifulSoup/bs4/doc/)\n",
    "- [Urllib](https://docs.python.org/3/library/urllib.html#module-urllib)\n",
    "- [re lib](https://docs.python.org/3/library/re.html)\n",
    "- [lxml lib](https://lxml.de/)\n",
    "- [Scrapy](https://scrapy.org/)\n",
    "- [List of HTTP status codes](https://en.wikipedia.org/wiki/List_of_HTTP_status_codes)\n",
    "- [HTML basics](http://www.simplehtmlguide.com/cheatsheet.php)\n",
    "- [CSS basics](https://www.cssbasics.com/#page_start)"
   ]
  },
  {
   "cell_type": "markdown",
   "metadata": {},
   "source": [
    "#### Below are the libraries and modules you may need. `requests`,  `BeautifulSoup` and `pandas` are already imported for you. If you prefer to use additional libraries feel free to do it."
   ]
  },
  {
   "cell_type": "code",
   "execution_count": 2,
   "metadata": {},
   "outputs": [],
   "source": [
    "import requests\n",
    "from bs4 import BeautifulSoup\n",
    "import pandas as pd"
   ]
  },
  {
   "cell_type": "markdown",
   "metadata": {},
   "source": [
    "#### Download, parse (using BeautifulSoup), and print the content from the Trending Developers page from GitHub:"
   ]
  },
  {
   "cell_type": "code",
   "execution_count": 3,
   "metadata": {},
   "outputs": [],
   "source": [
    "# This is the url you will scrape in this exercise\n",
    "url = 'https://github.com/trending/developers'"
   ]
  },
  {
   "cell_type": "code",
   "execution_count": 4,
   "metadata": {},
   "outputs": [
    {
     "name": "stdout",
     "output_type": "stream",
     "text": [
      "1. oobabooga\n",
      "2. Alessandro Ros\n",
      "3. Junior Garcia\n",
      "4. Ismail Pelaseyed\n",
      "5. Tatsuhiro Tsujikawa\n",
      "6. Yifei Zhang\n",
      "7. William Candillon\n",
      "8. Rich Harris\n",
      "9. fengmk2\n",
      "10. Yoann Padioleau\n",
      "11. Jerry Liu\n",
      "12. Stephen Celis\n",
      "13. Patrick von Platen\n",
      "14. Go Sueyoshi\n",
      "15. van Hauser\n",
      "16. Charlie Marsh\n",
      "17. Laurent Mazare\n",
      "18. Emil Ernerfeldt\n",
      "19. Charles Bochet\n",
      "20. Steven Arcangeli\n",
      "21. Kingkor Roy Tirtho\n",
      "22. Michael Davis\n",
      "23. yihong\n",
      "24. Marvin Hagemeister\n",
      "25. Earle F. Philhower, III\n"
     ]
    }
   ],
   "source": [
    "response = requests.get(url)\n",
    "\n",
    "if response.status_code == 200:\n",
    "    \n",
    "    soup = BeautifulSoup(response.text, 'html.parser')\n",
    "\n",
    "   \n",
    "    developer_names = soup.find_all('h1', class_='h3 lh-condensed')\n",
    "\n",
    "    \n",
    "    for index, developer in enumerate(developer_names, start=1):\n",
    "        name = developer.text.strip()\n",
    "        print(f\"{index}. {name}\")\n",
    "\n",
    "else:\n",
    "    print(\"Failed to retrieve the webpage. Status code:\", response.status_code)"
   ]
  },
  {
   "cell_type": "markdown",
   "metadata": {},
   "source": [
    "#### 1. Display the names of the trending developers retrieved in the previous step.\n",
    "\n",
    "Your output should be a Python list of developer names. Each name should not contain any html tag.\n",
    "\n",
    "**Instructions:**\n",
    "\n",
    "1. Find out the html tag and class names used for the developer names. You can achieve this using Chrome DevTools or clicking in 'Inspect' on any browser. Here is an example:\n",
    "\n",
    "![title](example_1.png)\n",
    "\n",
    "2. Use BeautifulSoup `find_all()` to extract all the html elements that contain the developer names. Hint: pass in the `attrs` parameter to specify the class.\n",
    "\n",
    "3. Loop through the elements found and get the text for each of them.\n",
    "\n",
    "4. While you are at it, use string manipulation techniques to replace whitespaces and linebreaks (i.e. `\\n`) in the *text* of each html element. Use a list to store the clean names. Hint: you may also use `.get_text()` instead of `.text` and pass in the desired parameters to do some string manipulation (check the documentation).\n",
    "\n",
    "5. Print the list of names.\n",
    "\n",
    "Your output should look like below:\n",
    "\n",
    "```\n",
    "['trimstray (@trimstray)',\n",
    " 'joewalnes (JoeWalnes)',\n",
    " 'charlax (Charles-AxelDein)',\n",
    " 'ForrestKnight (ForrestKnight)',\n",
    " 'revery-ui (revery-ui)',\n",
    " 'alibaba (Alibaba)',\n",
    " 'Microsoft (Microsoft)',\n",
    " 'github (GitHub)',\n",
    " 'facebook (Facebook)',\n",
    " 'boazsegev (Bo)',\n",
    " 'google (Google)',\n",
    " 'cloudfetch',\n",
    " 'sindresorhus (SindreSorhus)',\n",
    " 'tensorflow',\n",
    " 'apache (TheApacheSoftwareFoundation)',\n",
    " 'DevonCrawford (DevonCrawford)',\n",
    " 'ARMmbed (ArmMbed)',\n",
    " 'vuejs (vuejs)',\n",
    " 'fastai (fast.ai)',\n",
    " 'QiShaoXuan (Qi)',\n",
    " 'joelparkerhenderson (JoelParkerHenderson)',\n",
    " 'torvalds (LinusTorvalds)',\n",
    " 'CyC2018',\n",
    " 'komeiji-satori (神楽坂覚々)',\n",
    " 'script-8']\n",
    " ```"
   ]
  },
  {
   "cell_type": "code",
   "execution_count": 11,
   "metadata": {},
   "outputs": [
    {
     "name": "stdout",
     "output_type": "stream",
     "text": [
      "1. oobabooga\n",
      "2. Alessandro Ros\n",
      "3. Junior Garcia\n",
      "4. Ismail Pelaseyed\n",
      "5. Tatsuhiro Tsujikawa\n",
      "6. Yifei Zhang\n",
      "7. William Candillon\n",
      "8. Rich Harris\n",
      "9. fengmk2\n",
      "10. Yoann Padioleau\n",
      "11. Jerry Liu\n",
      "12. Stephen Celis\n",
      "13. Patrick von Platen\n",
      "14. Go Sueyoshi\n",
      "15. van Hauser\n",
      "16. Charlie Marsh\n",
      "17. Laurent Mazare\n",
      "18. Emil Ernerfeldt\n",
      "19. Charles Bochet\n",
      "20. Steven Arcangeli\n",
      "21. Kingkor Roy Tirtho\n",
      "22. Michael Davis\n",
      "23. yihong\n",
      "24. Marvin Hagemeister\n",
      "25. Earle F. Philhower, III\n"
     ]
    }
   ],
   "source": [
    "import requests \n",
    "\n",
    "\n",
    "url = 'https://github.com/trending/developers'\n",
    "\n",
    "\n",
    "response = requests.get(url)\n",
    "\n",
    "\n",
    "if response.status_code == 200:\n",
    "    \n",
    "    soup = BeautifulSoup(response.text, 'html.parser')\n",
    "\n",
    "    \n",
    "    developer_info = soup.find_all('h1', class_='h3 lh-condensed')\n",
    "\n",
    "    \n",
    "    formatted_names = []\n",
    "\n",
    "    \n",
    "    for developer in developer_info:\n",
    "        name = developer.find('a').get_text(strip=True)  \n",
    "        username_span = developer.find_next('p', class_='f4 text-normal mb-1')  \n",
    "\n",
    "        \n",
    "        if username_span and username_span.find('span'):\n",
    "            username = username_span.find('span').get_text(strip=True)  \n",
    "            formatted_name = f\"{name} ({username})\"\n",
    "        else:\n",
    "            formatted_name = name\n",
    "\n",
    "        formatted_names.append(formatted_name)\n",
    "\n",
    "   \n",
    "    for index, name in enumerate(formatted_names, start=1):\n",
    "        print(f\"{index}. {name}\")\n",
    "\n",
    "else:\n",
    "    print(\"Failed to retrieve the webpage. Status code:\", response.status_code)"
   ]
  },
  {
   "cell_type": "markdown",
   "metadata": {},
   "source": [
    "#### 1.1. Display the trending Python repositories in GitHub.\n",
    "\n",
    "The steps to solve this problem is similar to the previous one except that you need to find out the repository names instead of developer names."
   ]
  },
  {
   "cell_type": "code",
   "execution_count": null,
   "metadata": {},
   "outputs": [],
   "source": [
    "# This is the url you will scrape in this exercise\n",
    "url = 'https://github.com/trending/python?since=daily'"
   ]
  },
  {
   "cell_type": "code",
   "execution_count": 13,
   "metadata": {},
   "outputs": [],
   "source": [
    "\n",
    "url = 'https://github.com/trending/python?since=daily'\n",
    "\n",
    "\n",
    "response = requests.get(url)\n",
    "\n",
    "\n",
    "if response.status_code == 200:\n",
    "    \n",
    "    soup = BeautifulSoup(response.text, 'html.parser')\n",
    "\n",
    "    \n",
    "    repo_names = soup.find_all('h1', class_='h3 lh-condensed')\n",
    "\n",
    "    \n",
    "    repository_names = []\n",
    "\n",
    "    \n",
    "    for repo in repo_names:\n",
    "        name = repo.get_text(strip=True)  \n",
    "        repository_names.append(name)\n",
    "\n",
    "    \n",
    "    for index, name in enumerate(repository_names, start=1):\n",
    "        print(f\"{index}. {name}\")\n",
    "\n",
    "else:\n",
    "    print(\"Failed to retrieve the webpage. Status code:\", response.status_code)"
   ]
  },
  {
   "cell_type": "markdown",
   "metadata": {},
   "source": [
    "#### 2. Display all the image links from Walt Disney wikipedia page.\n",
    "Hint: use `.get()` to access information inside tags. Check out the documentation."
   ]
  },
  {
   "cell_type": "code",
   "execution_count": null,
   "metadata": {},
   "outputs": [],
   "source": [
    "# This is the url you will scrape in this exercise\n",
    "url = 'https://en.wikipedia.org/wiki/Walt_Disney'"
   ]
  },
  {
   "cell_type": "code",
   "execution_count": 14,
   "metadata": {},
   "outputs": [
    {
     "name": "stdout",
     "output_type": "stream",
     "text": [
      "1. /static/images/icons/wikipedia.png\n",
      "2. /static/images/mobile/copyright/wikipedia-wordmark-en.svg\n",
      "3. /static/images/mobile/copyright/wikipedia-tagline-en.svg\n",
      "4. //upload.wikimedia.org/wikipedia/en/thumb/e/e7/Cscr-featured.svg/20px-Cscr-featured.svg.png\n",
      "5. //upload.wikimedia.org/wikipedia/en/thumb/8/8c/Extended-protection-shackle.svg/20px-Extended-protection-shackle.svg.png\n",
      "6. //upload.wikimedia.org/wikipedia/commons/thumb/d/df/Walt_Disney_1946.JPG/220px-Walt_Disney_1946.JPG\n",
      "7. //upload.wikimedia.org/wikipedia/commons/thumb/8/87/Walt_Disney_1942_signature.svg/150px-Walt_Disney_1942_signature.svg.png\n",
      "8. //upload.wikimedia.org/wikipedia/commons/thumb/3/3a/Walt_Disney_Birthplace_Exterior_Hermosa_Chicago_Illinois.jpg/220px-Walt_Disney_Birthplace_Exterior_Hermosa_Chicago_Illinois.jpg\n",
      "9. //upload.wikimedia.org/wikipedia/commons/thumb/c/c4/Walt_Disney_envelope_ca._1921.jpg/220px-Walt_Disney_envelope_ca._1921.jpg\n",
      "10. //upload.wikimedia.org/wikipedia/en/thumb/4/4e/Steamboat-willie.jpg/220px-Steamboat-willie.jpg\n",
      "11. //upload.wikimedia.org/wikipedia/commons/thumb/c/cd/Walt_Disney_Snow_white_1937_trailer_screenshot_%2813%29.jpg/220px-Walt_Disney_Snow_white_1937_trailer_screenshot_%2813%29.jpg\n",
      "12. //upload.wikimedia.org/wikipedia/commons/thumb/1/15/Disney_drawing_goofy.jpg/170px-Disney_drawing_goofy.jpg\n",
      "13. //upload.wikimedia.org/wikipedia/commons/thumb/8/8c/WaltDisneyplansDisneylandDec1954.jpg/220px-WaltDisneyplansDisneylandDec1954.jpg\n",
      "14. //upload.wikimedia.org/wikipedia/commons/thumb/f/ff/Walt_disney_portrait_right.jpg/170px-Walt_disney_portrait_right.jpg\n",
      "15. //upload.wikimedia.org/wikipedia/commons/thumb/1/1a/Walt_Disney_Grave.JPG/170px-Walt_Disney_Grave.JPG\n",
      "16. //upload.wikimedia.org/wikipedia/commons/thumb/1/13/DisneySchiphol1951.jpg/220px-DisneySchiphol1951.jpg\n",
      "17. //upload.wikimedia.org/wikipedia/commons/thumb/6/6c/Disney1968.jpg/170px-Disney1968.jpg\n",
      "18. //upload.wikimedia.org/wikipedia/commons/thumb/b/b0/Disney_Oscar_1953_%28cropped%29.jpg/170px-Disney_Oscar_1953_%28cropped%29.jpg\n",
      "19. //upload.wikimedia.org/wikipedia/en/thumb/4/4a/Commons-logo.svg/30px-Commons-logo.svg.png\n",
      "20. //upload.wikimedia.org/wikipedia/commons/thumb/4/4c/Wikisource-logo.svg/38px-Wikisource-logo.svg.png\n",
      "21. //upload.wikimedia.org/wikipedia/commons/thumb/f/fa/Wikiquote-logo.svg/34px-Wikiquote-logo.svg.png\n",
      "22. //upload.wikimedia.org/wikipedia/en/thumb/8/8a/OOjs_UI_icon_edit-ltr-progressive.svg/10px-OOjs_UI_icon_edit-ltr-progressive.svg.png\n",
      "23. //upload.wikimedia.org/wikipedia/en/thumb/8/8a/OOjs_UI_icon_edit-ltr-progressive.svg/10px-OOjs_UI_icon_edit-ltr-progressive.svg.png\n",
      "24. //upload.wikimedia.org/wikipedia/en/thumb/9/96/Symbol_category_class.svg/16px-Symbol_category_class.svg.png\n",
      "25. //upload.wikimedia.org/wikipedia/commons/thumb/e/e3/Disneyland_Resort_logo.svg/135px-Disneyland_Resort_logo.svg.png\n",
      "26. //upload.wikimedia.org/wikipedia/commons/thumb/d/da/Animation_disc.svg/20px-Animation_disc.svg.png\n",
      "27. //upload.wikimedia.org/wikipedia/en/thumb/6/69/P_vip.svg/19px-P_vip.svg.png\n",
      "28. //upload.wikimedia.org/wikipedia/commons/thumb/1/1a/Magic_Kingdom_castle.jpg/15px-Magic_Kingdom_castle.jpg\n",
      "29. //upload.wikimedia.org/wikipedia/en/thumb/e/e7/Video-x-generic.svg/19px-Video-x-generic.svg.png\n",
      "30. //upload.wikimedia.org/wikipedia/commons/thumb/a/a3/Flag_of_Los_Angeles_County%2C_California.svg/21px-Flag_of_Los_Angeles_County%2C_California.svg.png\n",
      "31. //upload.wikimedia.org/wikipedia/commons/thumb/8/8c/Blank_television_set.svg/21px-Blank_television_set.svg.png\n",
      "32. //upload.wikimedia.org/wikipedia/en/thumb/a/a4/Flag_of_the_United_States.svg/21px-Flag_of_the_United_States.svg.png\n",
      "33. //upload.wikimedia.org/wikipedia/en/thumb/4/4a/Commons-logo.svg/14px-Commons-logo.svg.png\n",
      "34. //upload.wikimedia.org/wikipedia/commons/thumb/f/fa/Wikiquote-logo.svg/16px-Wikiquote-logo.svg.png\n",
      "35. //upload.wikimedia.org/wikipedia/commons/thumb/4/4c/Wikisource-logo.svg/18px-Wikisource-logo.svg.png\n",
      "36. //upload.wikimedia.org/wikipedia/commons/thumb/f/ff/Wikidata-logo.svg/21px-Wikidata-logo.svg.png\n",
      "37. //upload.wikimedia.org/wikipedia/en/thumb/8/8a/OOjs_UI_icon_edit-ltr-progressive.svg/10px-OOjs_UI_icon_edit-ltr-progressive.svg.png\n",
      "38. //en.wikipedia.org/wiki/Special:CentralAutoLogin/start?type=1x1\n",
      "39. /static/images/footer/wikimedia-button.png\n",
      "40. /static/images/footer/poweredby_mediawiki_88x31.png\n"
     ]
    }
   ],
   "source": [
    "\n",
    "url = 'https://en.wikipedia.org/wiki/Walt_Disney'\n",
    "\n",
    "\n",
    "response = requests.get(url)\n",
    "\n",
    "\n",
    "if response.status_code == 200:\n",
    "    \n",
    "    soup = BeautifulSoup(response.text, 'html.parser')\n",
    "\n",
    "    \n",
    "    image_tags = soup.find_all('img')\n",
    "\n",
    "    \n",
    "    image_links = [img.get('src') for img in image_tags if img.get('src')]\n",
    "\n",
    "    for index, link in enumerate(image_links, start=1):\n",
    "        print(f\"{index}. {link}\")\n",
    "\n",
    "else:\n",
    "    print(\"Failed to retrieve the webpage. Status code:\", response.status_code)"
   ]
  },
  {
   "cell_type": "markdown",
   "metadata": {},
   "source": [
    "#### 2.1. List all language names and number of related articles in the order they appear in wikipedia.org."
   ]
  },
  {
   "cell_type": "code",
   "execution_count": null,
   "metadata": {},
   "outputs": [],
   "source": [
    "# This is the url you will scrape in this exercise\n",
    "url = 'https://www.wikipedia.org/'"
   ]
  },
  {
   "cell_type": "code",
   "execution_count": 15,
   "metadata": {},
   "outputs": [
    {
     "name": "stdout",
     "output_type": "stream",
     "text": [
      "English: 6 709 000+\n",
      "æ¥æ¬èª: 1 385 000+\n",
      "EspaÃ±ol: 1 889 000+\n",
      "Ð ÑÑÑÐºÐ¸Ð¹: 1 936 000+\n",
      "Deutsch: 2 832 000+\n",
      "FranÃ§ais: 2 550 000+\n",
      "Italiano: 1 825 000+\n",
      "ä¸­æ: 1 375 000+\n",
      "PortuguÃªs: 1 108 000+\n",
      "Ø§ÙØ¹Ø±Ø¨ÙØ©: Ø§ÙØ¹Ø±Ø¨ÙØ©\n"
     ]
    }
   ],
   "source": [
    "\n",
    "url = 'https://www.wikipedia.org/'\n",
    "\n",
    "\n",
    "response = requests.get(url)\n",
    "\n",
    "\n",
    "if response.status_code == 200:\n",
    "    \n",
    "    soup = BeautifulSoup(response.text, 'html.parser')\n",
    "\n",
    "   \n",
    "    language_sections = soup.find_all('div', class_='central-featured-lang')\n",
    "\n",
    "    \n",
    "    for section in language_sections:\n",
    "        language_name = section.find('strong').get_text(strip=True)\n",
    "        article_count = section.find('bdi').get_text(strip=True)\n",
    "        print(f\"{language_name}: {article_count}\")\n",
    "\n",
    "else:\n",
    "    print(\"Failed to retrieve the webpage. Status code:\", response.status_code)"
   ]
  },
  {
   "cell_type": "markdown",
   "metadata": {},
   "source": [
    "#### 2.2. Display the top 10 languages by number of native speakers stored in a pandas dataframe.\n",
    "Hint: After finding the correct table you want to analyse, you can use a nested **for** loop to find the elements row by row (check out the 'td' and 'tr' tags). <br>An easier way to do it is using pd.read_html(), check out documentation [here](https://pandas.pydata.org/pandas-docs/version/0.23.4/generated/pandas.read_html.html)."
   ]
  },
  {
   "cell_type": "code",
   "execution_count": null,
   "metadata": {},
   "outputs": [],
   "source": [
    "# This is the url you will scrape in this exercise\n",
    "url = 'https://en.wikipedia.org/wiki/List_of_languages_by_number_of_native_speakers'"
   ]
  },
  {
   "cell_type": "code",
   "execution_count": 19,
   "metadata": {},
   "outputs": [
    {
     "name": "stdout",
     "output_type": "stream",
     "text": [
      "                                            Language  \\\n",
      "0  Mandarin Chinese (incl. Standard Chinese, but ...   \n",
      "1                                            Spanish   \n",
      "2                                            English   \n",
      "3            Hindi (excl. Urdu, and other languages)   \n",
      "4                                         Portuguese   \n",
      "5                                            Bengali   \n",
      "6                                            Russian   \n",
      "7                                           Japanese   \n",
      "8                      Yue Chinese (incl. Cantonese)   \n",
      "9                                         Vietnamese   \n",
      "\n",
      "   Native speakers (millions)  \n",
      "0                       939.0  \n",
      "1                       485.0  \n",
      "2                       380.0  \n",
      "3                       345.0  \n",
      "4                       236.0  \n",
      "5                       234.0  \n",
      "6                       147.0  \n",
      "7                       123.0  \n",
      "8                        86.1  \n",
      "9                        85.0  \n"
     ]
    },
    {
     "name": "stderr",
     "output_type": "stream",
     "text": [
      "C:\\Users\\David Santos\\AppData\\Local\\Temp\\ipykernel_7656\\202642419.py:18: SettingWithCopyWarning: \n",
      "A value is trying to be set on a copy of a slice from a DataFrame\n",
      "\n",
      "See the caveats in the documentation: https://pandas.pydata.org/pandas-docs/stable/user_guide/indexing.html#returning-a-view-versus-a-copy\n",
      "  top_languages_df.dropna(inplace=True)\n"
     ]
    }
   ],
   "source": [
    "\n",
    "url = 'https://en.wikipedia.org/wiki/List_of_languages_by_number_of_native_speakers'\n",
    "\n",
    "\n",
    "tables = pd.read_html(url)\n",
    "\n",
    "\n",
    "top_languages_df = tables[0]\n",
    "\n",
    "\n",
    "top_languages_df = top_languages_df[['Language', 'Native speakers (millions)']]\n",
    "\n",
    "\n",
    "top_languages_df.columns = ['Language', 'Native speakers (millions)']\n",
    "\n",
    "\n",
    "top_languages_df.dropna(inplace=True)\n",
    "\n",
    "\n",
    "top_10_languages = top_languages_df.head(10)\n",
    "\n",
    "print(top_10_languages)"
   ]
  },
  {
   "cell_type": "markdown",
   "metadata": {},
   "source": [
    "#### 3. Display IMDB's top 250 data (movie name, initial release, director name and stars) as a pandas dataframe.\n",
    "Hint: If you hover over the title of the movie, you should see the director's name. Can you find where it's stored in the html?"
   ]
  },
  {
   "cell_type": "code",
   "execution_count": null,
   "metadata": {},
   "outputs": [],
   "source": [
    "# This is the url you will scrape in this exercise \n",
    "url = 'https://www.imdb.com/chart/top'"
   ]
  },
  {
   "cell_type": "code",
   "execution_count": 22,
   "metadata": {},
   "outputs": [
    {
     "name": "stdout",
     "output_type": "stream",
     "text": [
      "Failed to retrieve the webpage. Status code: 403\n"
     ]
    }
   ],
   "source": [
    "# Define the URL of IMDb's top 250 page\n",
    "url = 'https://www.imdb.com/chart/top'\n",
    "\n",
    "# Send an HTTP GET request to the URL\n",
    "response = requests.get(url)\n",
    "\n",
    "# Check if the request was successful (status code 200)\n",
    "if response.status_code == 200:\n",
    "    # Parse the HTML content\n",
    "    soup = BeautifulSoup(response.text, 'html.parser')\n",
    "\n",
    "    # Locate the data you want to scrape (movie rows)\n",
    "    movie_rows = soup.find_all('tr')\n",
    "\n",
    "    # Create lists to store the data\n",
    "    movie_names = []\n",
    "    initial_releases = []\n",
    "    director_names = []\n",
    "    stars_list = []\n",
    "\n",
    "    # Extract and format the data\n",
    "    for row in movie_rows[1:]:  # Skip the header row\n",
    "        columns = row.find_all('td')\n",
    "        movie_name = columns[1].find('a').get_text(strip=True)  # Movie name\n",
    "        movie_names.append(movie_name)\n",
    "        \n",
    "        # Extract director name from the title attribute (tooltip)\n",
    "        title_tooltip = columns[1].find('a')['title']\n",
    "        director_name = title_tooltip.split(',')[0].strip()\n",
    "        director_names.append(director_name)\n",
    "        \n",
    "        initial_release = columns[1].find('span', class_='secondaryInfo').get_text(strip=True)  # Initial release\n",
    "        initial_releases.append(initial_release)\n",
    "        \n",
    "        # Extract stars (actors)\n",
    "        stars = columns[1].find('a')['title'].split('Directed by ')[-1].split(' With ')[-1]\n",
    "        stars_list.append(stars)\n",
    "\n",
    "    # Create a Pandas DataFrame from the extracted data\n",
    "    top_250_df = pd.DataFrame({\n",
    "        'Movie Name': movie_names,\n",
    "        'Initial Release': initial_releases,\n",
    "        'Director Name': director_names,\n",
    "        'Stars': stars_list\n",
    "    })\n",
    "\n",
    "    # Display the DataFrame\n",
    "    print(top_250_df)\n",
    "\n",
    "else:\n",
    "    print(\"Failed to retrieve the webpage. Status code:\", response.status_code)"
   ]
  },
  {
   "cell_type": "markdown",
   "metadata": {},
   "source": [
    "#### 3.1. Display the movie name, year and a brief summary of the top 10 random movies (IMDB) as a pandas dataframe."
   ]
  },
  {
   "cell_type": "code",
   "execution_count": null,
   "metadata": {},
   "outputs": [],
   "source": [
    "#This is the url you will scrape in this exercise\n",
    "url = 'https://www.imdb.com/list/ls009796553/'"
   ]
  },
  {
   "cell_type": "code",
   "execution_count": 23,
   "metadata": {},
   "outputs": [
    {
     "name": "stdout",
     "output_type": "stream",
     "text": [
      "                 Movie Name    Year  \\\n",
      "0    Pesadelo em Elm Street  (1984)   \n",
      "1               Despertares  (1990)   \n",
      "2          Liga de Mulheres  (1992)   \n",
      "3  Um Bairro em Nova Iorque  (1993)   \n",
      "4            Anjos em Campo  (1994)   \n",
      "5            Tempo de Matar  (1996)   \n",
      "6                   Amistad  (1997)   \n",
      "7                  Anaconda  (1997)   \n",
      "8         A Cool, Dry Place  (1998)   \n",
      "9          América Proibida  (1998)   \n",
      "\n",
      "                                             Summary  \n",
      "0  Teenager Nancy Thompson must uncover the dark ...  \n",
      "1  The victims of an encephalitis epidemic many y...  \n",
      "2  Two sisters join the first female professional...  \n",
      "3  Robert De Niro and Chazz Palminteri give capti...  \n",
      "4  When a boy prays for a chance to have a family...  \n",
      "5  In Canton, Mississippi, a fearless young lawye...  \n",
      "6  In 1839, the revolt of Mende captives aboard a...  \n",
      "7  A \"National Geographic\" film crew is taken hos...  \n",
      "8  Russell, single father balances his work as a ...  \n",
      "9  Living a life marked by violence, neo-Nazi Der...  \n"
     ]
    }
   ],
   "source": [
    "\n",
    "url = 'https://www.imdb.com/list/ls009796553/'\n",
    "\n",
    "\n",
    "response = requests.get(url)\n",
    "\n",
    "\n",
    "if response.status_code == 200:\n",
    "    \n",
    "    soup = BeautifulSoup(response.text, 'html.parser')\n",
    "\n",
    "    \n",
    "    movie_items = soup.find_all('div', class_='lister-item-content')\n",
    "\n",
    "    \n",
    "    movie_names = []\n",
    "    release_years = []\n",
    "    summaries = []\n",
    "\n",
    "    \n",
    "    for item in movie_items[:10]:\n",
    "        \n",
    "        name = item.find('h3', class_='lister-item-header').find('a').get_text(strip=True)\n",
    "        movie_names.append(name)\n",
    "        \n",
    "        \n",
    "        year = item.find('span', class_='lister-item-year').get_text(strip=True)\n",
    "        release_years.append(year)\n",
    "        \n",
    "        \n",
    "        summary = item.find('p', class_='').get_text(strip=True)\n",
    "        summaries.append(summary)\n",
    "\n",
    "    \n",
    "    top_10_movies_df = pd.DataFrame({\n",
    "        'Movie Name': movie_names,\n",
    "        'Year': release_years,\n",
    "        'Summary': summaries\n",
    "    })\n",
    "\n",
    "    \n",
    "    print(top_10_movies_df)\n",
    "\n",
    "else:\n",
    "    print(\"Failed to retrieve the webpage. Status code:\", response.status_code)"
   ]
  },
  {
   "cell_type": "markdown",
   "metadata": {},
   "source": [
    "## Bonus"
   ]
  },
  {
   "cell_type": "markdown",
   "metadata": {},
   "source": [
    "#### Find the live weather report (temperature, wind speed, description and weather) of a given city."
   ]
  },
  {
   "cell_type": "code",
   "execution_count": null,
   "metadata": {},
   "outputs": [],
   "source": [
    "#https://openweathermap.org/current\n",
    "city = input('Enter the city: ')\n",
    "url = 'http://api.openweathermap.org/data/2.5/weather?'+'q='+city+'&APPID=b35975e18dc93725acb092f7272cc6b8&units=metric'"
   ]
  },
  {
   "cell_type": "code",
   "execution_count": null,
   "metadata": {},
   "outputs": [],
   "source": [
    "# your code here"
   ]
  },
  {
   "cell_type": "markdown",
   "metadata": {},
   "source": [
    "#### Find the book name, price and stock availability as a pandas dataframe."
   ]
  },
  {
   "cell_type": "code",
   "execution_count": null,
   "metadata": {},
   "outputs": [],
   "source": [
    "# This is the url you will scrape in this exercise. \n",
    "# It is a fictional bookstore created to be scraped. \n",
    "url = 'http://books.toscrape.com/'"
   ]
  },
  {
   "cell_type": "code",
   "execution_count": null,
   "metadata": {},
   "outputs": [],
   "source": [
    "# your code here"
   ]
  },
  {
   "cell_type": "markdown",
   "metadata": {},
   "source": [
    "####  Display the 100 latest earthquakes info (date, time, latitude, longitude and region name) by the EMSC as a pandas dataframe.\n",
    "***Hint:*** Here the displayed number of earthquakes per page is 20, but you can easily move to the next page by looping through the desired number of pages and adding it to the end of the url."
   ]
  },
  {
   "cell_type": "code",
   "execution_count": null,
   "metadata": {},
   "outputs": [],
   "source": [
    "# This is the url you will scrape in this exercise\n",
    "url = 'https://www.emsc-csem.org/Earthquake/?view='\n",
    "\n",
    "# This is how you will loop through each page:\n",
    "number_of_pages = int(100/20)\n",
    "each_page_urls = []\n",
    "\n",
    "for n in range(1, number_of_pages+1):\n",
    "    link = url+str(n)\n",
    "    each_page_urls.append(link)\n",
    "    \n",
    "each_page_urls"
   ]
  },
  {
   "cell_type": "code",
   "execution_count": null,
   "metadata": {},
   "outputs": [],
   "source": [
    "# your code here"
   ]
  }
 ],
 "metadata": {
  "kernelspec": {
   "display_name": "Python 3",
   "language": "python",
   "name": "python3"
  },
  "language_info": {
   "codemirror_mode": {
    "name": "ipython",
    "version": 3
   },
   "file_extension": ".py",
   "mimetype": "text/x-python",
   "name": "python",
   "nbconvert_exporter": "python",
   "pygments_lexer": "ipython3",
   "version": "3.10.9"
  }
 },
 "nbformat": 4,
 "nbformat_minor": 2
}
